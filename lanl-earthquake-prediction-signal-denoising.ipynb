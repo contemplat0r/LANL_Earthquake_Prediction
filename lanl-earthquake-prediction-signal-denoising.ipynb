{
 "cells": [
  {
   "cell_type": "markdown",
   "metadata": {},
   "source": [
    "##                                                        Introduction\n",
    "### In this kernel, I will walk you through some methods used to denoise seismic signals (and other signals in general) and explain exactly how they work. We will look at <a href='#1'>Wavelet Denoising with High-Pass Filters</a> and <a href='#1'>Average Smoothing</a>. The first method is used to remove the artificial impulse and the latter one is used to remove general noise.\n",
    "\n",
    "<center><img src=\"https://i.imgur.com/hBPv3fh.png\" width=\"750px\"></center>\n",
    "\n",
    "The main problem in the specific case of seismic signals is the fact that the signal we measure with a seismograph is not an accurate representation of the actual underground seismic signal we are trying to uncover. **In seismology, we (the people trying to measure the seismic signals) artificially generate signals called impulse signals. These impulse signals interact with the Earth's actual seismic signal (which is what we need) to produce the final signal which our seismograph picks up** (this same process takes place in the laboratory simulation of an earthquake). So, the real challenge is to uncover the actual signal from mixed seismogram (which is a combination of the Earth's impulse signal and the artificial impulse signal).\n",
    "\n",
    "This actual underlying signal would be a better predictor of earthquake timing than the original raw signal, because it represents the actual seismic activity."
   ]
  },
  {
   "cell_type": "markdown",
   "metadata": {},
   "source": [
    "<center><img src=\"https://qph.fs.quoracdn.net/main-qimg-4033b6af35e7154e6b497adf0d93c2d9-c\" width=\"300px\"></center>"
   ]
  },
  {
   "cell_type": "markdown",
   "metadata": {},
   "source": [
    "The third signal from the right is what we have (with artificial impulse) and the last signal from the right is what we're looking for (without the artificial impulse)."
   ]
  },
  {
   "cell_type": "markdown",
   "metadata": {},
   "source": [
    "## Acknowledgements\n",
    "I would like to thank Jack for [his kernel](https://www.kaggle.com/jackvial/dwt-signal-denoising) and Theo for [his kernel](https://www.kaggle.com/theoviel/fast-fourier-transform-denoising) (both on denoising)."
   ]
  },
  {
   "cell_type": "markdown",
   "metadata": {},
   "source": [
    "### Import necessary libraries"
   ]
  },
  {
   "cell_type": "code",
   "execution_count": null,
   "metadata": {
    "_cell_guid": "b1076dfc-b9ad-4769-8c92-a6c4dae69d19",
    "_uuid": "8f2839f25d086af736a60e9eeb907d3b93b6e0e5"
   },
   "outputs": [],
   "source": [
    "import os\n",
    "import gc\n",
    "import numpy as np\n",
    "from numpy.fft import *\n",
    "import pandas as pd\n",
    "import matplotlib.pyplot as plt\n",
    "%matplotlib inline\n",
    "import seaborn as sns\n",
    "import pywt \n",
    "from statsmodels.robust import mad\n",
    "import scipy\n",
    "from scipy import signal\n",
    "from scipy.signal import butter, deconvolve\n",
    "import warnings\n",
    "warnings.filterwarnings('ignore')"
   ]
  },
  {
   "cell_type": "markdown",
   "metadata": {},
   "source": [
    "### Specify size of seismic signal segements and rate of sampling for high-pass filter"
   ]
  },
  {
   "cell_type": "code",
   "execution_count": null,
   "metadata": {
    "_cell_guid": "79c7e3d0-c299-4dcb-8224-4455121ee9b0",
    "_uuid": "d629ff2d2480ee46fbb7e2d37f6b5fab8052498a"
   },
   "outputs": [],
   "source": [
    "SIGNAL_LEN = 150000\n",
    "SAMPLE_RATE = 4000"
   ]
  },
  {
   "cell_type": "markdown",
   "metadata": {},
   "source": [
    "### Read data"
   ]
  },
  {
   "cell_type": "code",
   "execution_count": null,
   "metadata": {},
   "outputs": [],
   "source": [
    "seismic_signals = pd.read_csv('../input/train/train.csv', dtype={'acoustic_data': np.int16, 'time_to_failure': np.float32})"
   ]
  },
  {
   "cell_type": "markdown",
   "metadata": {},
   "source": [
    "### Extract seismic data and targets and delete the original dataframe"
   ]
  },
  {
   "cell_type": "code",
   "execution_count": null,
   "metadata": {},
   "outputs": [],
   "source": [
    "acoustic_data = seismic_signals.acoustic_data\n",
    "time_to_failure = seismic_signals.time_to_failure\n",
    "data_len = len(seismic_signals)\n",
    "del seismic_signals\n",
    "gc.collect()"
   ]
  },
  {
   "cell_type": "markdown",
   "metadata": {},
   "source": [
    "### Cut out segments of size 150k from the signal"
   ]
  },
  {
   "cell_type": "code",
   "execution_count": null,
   "metadata": {},
   "outputs": [],
   "source": [
    "%%time\n",
    "signals = []\n",
    "targets = []\n",
    "\n",
    "for i in range(data_len//SIGNAL_LEN):\n",
    "    min_lim = SIGNAL_LEN * i\n",
    "    max_lim = min([SIGNAL_LEN * (i + 1), data_len])\n",
    "    \n",
    "    signals.append(list(acoustic_data[min_lim : max_lim]))\n",
    "    targets.append(time_to_failure[max_lim])\n",
    "    \n",
    "del acoustic_data\n",
    "del time_to_failure\n",
    "gc.collect()\n",
    "    \n",
    "signals = np.array(signals)\n",
    "targets = np.array(targets)"
   ]
  },
  {
   "cell_type": "markdown",
   "metadata": {},
   "source": [
    "### The mean absolute deviation\n",
    "This calculates the mean of the absolute values of the deviations of the individual numbers in the time series from the mean of the time series. It is a measure of entropy or disorder in the time series. The greater the MAD value, the more disorderly and unpredictable the time series is."
   ]
  },
  {
   "cell_type": "code",
   "execution_count": null,
   "metadata": {},
   "outputs": [],
   "source": [
    "def maddest(d, axis=None):\n",
    "    \"\"\"\n",
    "    Mean Absolute Deviation\n",
    "    \"\"\"\n",
    "    \n",
    "    return np.mean(np.absolute(d - np.mean(d, axis)), axis)"
   ]
  },
  {
   "cell_type": "markdown",
   "metadata": {},
   "source": [
    "### The butterworth high-pass filter with SOS filter\n",
    "A high-pass filter (HPF) is an electronic filter that passes signals with a frequency higher than a certain **cutoff frequency** and attenuates (reduces the amplitude of) signals with frequencies lower than the cutoff frequency. The amount of attenuation for each frequency depends on the filter design.\n",
    "\n",
    "An SOS filter implements a usual [IIR filter](https://en.wikipedia.org/wiki/Infinite_impulse_response) on the [second-order sections](https://edoras.sdsu.edu/doc/matlab/toolbox/signal/basics27.html#973) of the signal.\n",
    "\n",
    "These two filters are applied in succession in order to attenuate the unnecessary low frequency signals and prepare the signal for wavelet decomposition."
   ]
  },
  {
   "cell_type": "code",
   "execution_count": null,
   "metadata": {},
   "outputs": [],
   "source": [
    "def high_pass_filter(x, low_cutoff=1000, SAMPLE_RATE=SAMPLE_RATE):\n",
    "    \"\"\"\n",
    "    From @randxie https://github.com/randxie/Kaggle-VSB-Baseline/blob/master/src/utils/util_signal.py\n",
    "    Modified to work with scipy version 1.1.0 which does not have the fs parameter\n",
    "    \"\"\"\n",
    "    \n",
    "    # nyquist frequency is half the sample rate https://en.wikipedia.org/wiki/Nyquist_frequency\n",
    "    nyquist = 0.5 * SAMPLE_RATE\n",
    "    norm_low_cutoff = low_cutoff / nyquist\n",
    "    \n",
    "    # Fault pattern usually exists in high frequency band. According to literature, the pattern is visible above 10^4 Hz.\n",
    "    sos = butter(10, Wn=[norm_low_cutoff], btype='highpass', output='sos')\n",
    "    filtered_sig = signal.sosfilt(sos, x)\n",
    "\n",
    "    return filtered_sig"
   ]
  },
  {
   "cell_type": "markdown",
   "metadata": {},
   "source": [
    "## Wavelet Denoising\n",
    "The filtered signals are now passed through [wavelet](https://en.wikipedia.org/wiki/Wavelet) decomposition (and the wavelet coefficients are obtained). It has to be understood that the raw signal we are working with is a convolution of the artificial and real impulse signals and this is why we need to \"wavelet decomposition\". The process is a sort of \"deconvolution\", which means it undoes the convolution process and uncovers the real Earth impulse from the mixed seismogram and the artificial impulse. We make use of the MAD value to understand the randomness in the signal and accordingly decide the minimum threshold for the wavelet coefficients in the time series. We filter out the low coefficients from the wavelet coefficients and reconstruct the real Earth signal from the remaining coefficients and that's it; we have successfully removed the impulse signal from the seismogram and obtained the real Earth signal."
   ]
  },
  {
   "cell_type": "code",
   "execution_count": null,
   "metadata": {},
   "outputs": [],
   "source": [
    "def denoise_signal(x, wavelet='db4', level=1):\n",
    "    \"\"\"\n",
    "    1. Adapted from waveletSmooth function found here:\n",
    "    http://connor-johnson.com/2016/01/24/using-pywavelets-to-remove-high-frequency-noise/\n",
    "    2. Threshold equation and using hard mode in threshold as mentioned\n",
    "    in section '3.2 denoising based on optimized singular values' from paper by Tomas Vantuch:\n",
    "    http://dspace.vsb.cz/bitstream/handle/10084/133114/VAN431_FEI_P1807_1801V001_2018.pdf\n",
    "    \"\"\"\n",
    "    \n",
    "    # Decompose to get the wavelet coefficients\n",
    "    coeff = pywt.wavedec(x, wavelet, mode=\"per\")\n",
    "    \n",
    "    # Calculate sigma for threshold as defined in http://dspace.vsb.cz/bitstream/handle/10084/133114/VAN431_FEI_P1807_1801V001_2018.pdf\n",
    "    # As noted by @harshit92 MAD referred to in the paper is Mean Absolute Deviation not Median Absolute Deviation\n",
    "    sigma = (1/0.6745) * maddest(coeff[-level])\n",
    "\n",
    "    # Calculate the univeral threshold\n",
    "    uthresh = sigma * np.sqrt(2*np.log(len(x)))\n",
    "    coeff[1:] = (pywt.threshold(i, value=uthresh, mode='hard') for i in coeff[1:])\n",
    "    \n",
    "    # Reconstruct the signal using the thresholded coefficients\n",
    "    return pywt.waverec(coeff, wavelet, mode='per')"
   ]
  },
  {
   "cell_type": "markdown",
   "metadata": {},
   "source": [
    "### Visualize the effect of high-pass filter and wavelet denoising on seismic signals"
   ]
  },
  {
   "cell_type": "code",
   "execution_count": null,
   "metadata": {},
   "outputs": [],
   "source": [
    "fig, ax = plt.subplots(nrows=3, ncols=4, figsize=(30, 15))\n",
    "\n",
    "ax[0, 0].plot(signals[0], 'crimson') \n",
    "ax[0, 0].set_title('Original Signal', fontsize=16)\n",
    "ax[0, 1].plot(high_pass_filter(signals[0], low_cutoff=10000, SAMPLE_RATE=4000000), 'mediumvioletred') \n",
    "ax[0, 1].set_title('After High-Pass Filter', fontsize=16)\n",
    "ax[0, 2].plot(denoise_signal(signals[0]), 'darkmagenta')\n",
    "ax[0, 2].set_title('After Wavelet Denoising', fontsize=16)\n",
    "ax[0, 3].plot(denoise_signal(high_pass_filter(signals[0], low_cutoff=10000, SAMPLE_RATE=4000000), wavelet='haar', level=1), 'indigo')\n",
    "ax[0, 3].set_title('After High-Pass Filter and Wavelet Denoising', fontsize=16)\n",
    "\n",
    "ax[1, 0].plot(signals[1], 'crimson') \n",
    "ax[1, 0].set_title('Original Signal', fontsize=16)\n",
    "ax[1, 1].plot(high_pass_filter(signals[1], low_cutoff=10000, SAMPLE_RATE=4000000), 'mediumvioletred') \n",
    "ax[1, 1].set_title('After High-Pass Filter', fontsize=16)\n",
    "ax[1, 2].plot(denoise_signal(signals[1]), 'darkmagenta')\n",
    "ax[1, 2].set_title('After Wavelet Denoising', fontsize=16)\n",
    "ax[1, 3].plot(denoise_signal(high_pass_filter(signals[1], low_cutoff=10000, SAMPLE_RATE=4000000), wavelet='haar', level=1), 'indigo')\n",
    "ax[1, 3].set_title('After High-Pass Filter and Wavelet Denoising', fontsize=16)\n",
    "\n",
    "ax[2, 0].plot(signals[2], 'crimson') \n",
    "ax[2, 0].set_title('Original Signal', fontsize=16)\n",
    "ax[2, 1].plot(high_pass_filter(signals[2], low_cutoff=10000, SAMPLE_RATE=4000000), 'mediumvioletred') \n",
    "ax[2, 1].set_title('After High-Pass Filter', fontsize=16)\n",
    "ax[2, 2].plot(denoise_signal(signals[2]), 'darkmagenta')\n",
    "ax[2, 2].set_title('After Wavelet Denoising', fontsize=16)\n",
    "ax[2, 3].plot(denoise_signal(high_pass_filter(signals[2], low_cutoff=10000, SAMPLE_RATE=4000000), wavelet='haar', level=1), 'indigo')\n",
    "ax[2, 3].set_title('After High-Pass Filter and Wavelet Denoising', fontsize=16)\n",
    "\n",
    "plt.show()"
   ]
  },
  {
   "cell_type": "markdown",
   "metadata": {},
   "source": [
    "Clearly, we can see that the high-pass filter and wavelet denoising techniques are able to effectively denoise the signal **by removing the unnecesary artificial impulse and additional noise** from the seismic signals. The high-pass filter alone does not perform as well as the wavelet denoising alone, but **the high-pass filter followed by wavelet denoising outperforms both methods**. The wavelet method works well because it implements a sort of deconvolution process that helps remove the artificial impulse. **The high-pass filter can only filter noise and the wavelet denoising method can only remove the artificial signal, but together they can remove both**.  "
   ]
  },
  {
   "cell_type": "markdown",
   "metadata": {},
   "source": [
    "**As you can see, we have achieved the same shape as the deconvolved signal in the image earlier in the kernel.**"
   ]
  },
  {
   "cell_type": "markdown",
   "metadata": {},
   "source": [
    "## Average Smoothing\n",
    "In this denoising method, we take a \"window\" with a fixed size (like 10). We first place the window at the beginning of the time series (first ten elements) and calculate the mean of that section. We now move the window across the time series in the forward direction by a particular \"stride\", calculate the mean of the new window and repeat the process, until we reach the end of the time series. All the means we calculated are concatenated into a new time series, which is the denoised signal. "
   ]
  },
  {
   "cell_type": "code",
   "execution_count": null,
   "metadata": {},
   "outputs": [],
   "source": [
    "def average_smoothing(signal, kernel_size, stride):\n",
    "    sample = []\n",
    "    start = 0\n",
    "    end = kernel_size\n",
    "    while end <= len(signal):\n",
    "        start = start + stride\n",
    "        end = end + stride\n",
    "        sample.append(np.mean(signal[start:end]))\n",
    "    return np.array(sample)"
   ]
  },
  {
   "cell_type": "markdown",
   "metadata": {},
   "source": [
    "### Visualize the effect of average smoothing on seismic signals (with differing kernel sizes)"
   ]
  },
  {
   "cell_type": "code",
   "execution_count": null,
   "metadata": {},
   "outputs": [],
   "source": [
    "fig, ax = plt.subplots(nrows=3, ncols=4, figsize=(30, 15))\n",
    "\n",
    "ax[0, 0].plot(signals[0], 'mediumaquamarine') \n",
    "ax[0, 0].set_title('Original Signal', fontsize=14)\n",
    "ax[0, 1].plot(average_smoothing(signals[0], kernel_size=5, stride=5), 'mediumseagreen')\n",
    "ax[0, 1].set_title('After Average Smoothing (kernel_size=5 and stride=5)', fontsize=14)\n",
    "ax[0, 2].plot(average_smoothing(signals[0], kernel_size=7, stride=5), 'seagreen')\n",
    "ax[0, 2].set_title('After Average Smoothing (kernel_size=7 and stride=5)', fontsize=14)\n",
    "ax[0, 3].plot(average_smoothing(signals[0], kernel_size=9, stride=5), 'darkgreen')\n",
    "ax[0, 3].set_title('After Average Smoothing (kernel_size=9 and stride=5)', fontsize=14)\n",
    "\n",
    "ax[1, 0].plot(signals[1], 'mediumaquamarine') \n",
    "ax[1, 0].set_title('Original Signal', fontsize=14)\n",
    "ax[1, 1].plot(average_smoothing(signals[1], kernel_size=5, stride=5), 'mediumseagreen') \n",
    "ax[1, 1].set_title('After Average Smoothing (kernel_size=5 and stride=5)', fontsize=14)\n",
    "ax[1, 2].plot(average_smoothing(signals[1], kernel_size=7, stride=5), 'seagreen')\n",
    "ax[1, 2].set_title('After Average Smoothing (kernel_size=7 and stride=5)', fontsize=14)\n",
    "ax[1, 3].plot(average_smoothing(signals[1], kernel_size=9, stride=5), 'darkgreen')\n",
    "ax[1, 3].set_title('After Average Smoothing (kernel_size=9 and stride=5)', fontsize=14)\n",
    "\n",
    "ax[2, 0].plot(signals[2], 'mediumaquamarine') \n",
    "ax[2, 0].set_title('Original Signal', fontsize=14)\n",
    "ax[2, 1].plot(average_smoothing(signals[2], kernel_size=5, stride=5), 'mediumseagreen') \n",
    "ax[2, 1].set_title('After Average Smoothing (kernel_size=5 and stride=5)', fontsize=14)\n",
    "ax[2, 2].plot(average_smoothing(signals[2], kernel_size=7, stride=5), 'seagreen')\n",
    "ax[2, 2].set_title('After Average Smoothing (kernel_size=7 and stride=5)', fontsize=14)\n",
    "ax[2, 3].plot(average_smoothing(signals[2], kernel_size=9, stride=5), 'darkgreen')\n",
    "ax[2, 3].set_title('After Average Smoothing (kernel_size=9 and stride=5)', fontsize=14)\n",
    "\n",
    "plt.show()"
   ]
  },
  {
   "cell_type": "code",
   "execution_count": null,
   "metadata": {},
   "outputs": [],
   "source": [
    "%%time\n",
    "denoise_signal(signals[0])"
   ]
  },
  {
   "cell_type": "code",
   "execution_count": null,
   "metadata": {},
   "outputs": [],
   "source": [
    "%%time\n",
    "high_pass_filter(signals[2], low_cutoff=10000, SAMPLE_RATE=4000000)"
   ]
  },
  {
   "cell_type": "markdown",
   "metadata": {},
   "source": [
    "We can see that the average smoothing method is **only able to remove some additional noise, but not the artificial impulse as it is only able to smooth the curve**."
   ]
  },
  {
   "cell_type": "markdown",
   "metadata": {},
   "source": [
    "**The high amplitude, unstable parts of the signal (with high peaks and valleys) are the actual signal we are looking for. The medium amplitude patches of the signal (between the high amplitude regions) represent the unnecessary noise and artificial impulse, and the wavelet method seems to do better at removing these patches. This denoising illustrated in the image at the beginning of the kernel.**"
   ]
  },
  {
   "cell_type": "markdown",
   "metadata": {},
   "source": [
    "**We can therefore conclude that the wavelet denoising method is overall more effective than the average smoothing method.**"
   ]
  },
  {
   "cell_type": "markdown",
   "metadata": {},
   "source": [
    "**I believe that denoising the signals can significantly boost the scores of all the models (NN or LightGBM).**"
   ]
  },
  {
   "cell_type": "markdown",
   "metadata": {},
   "source": [
    "### That's it ! Thanks for reading my kernel ! Hope you found it useful :)"
   ]
  },
  {
   "cell_type": "code",
   "execution_count": null,
   "metadata": {},
   "outputs": [],
   "source": [
    "#denoised_signals = []\n",
    "#denoised_targets = []\n",
    "denoised_signals = np.array([])"
   ]
  },
  {
   "cell_type": "code",
   "execution_count": null,
   "metadata": {
    "code_folding": []
   },
   "outputs": [],
   "source": [
    "%%time\n",
    "for i, (signal, target) in enumerate(zip(signals, targets)):\n",
    "    print(i)\n",
    "    '''\n",
    "    denoised_signals.append(denoise_signal(\n",
    "        #high_pass_filter(signal, low_cutoff=10000, SAMPLE_RATE=4000000),\n",
    "        signal\n",
    "        #wavelet='haar',\n",
    "        #level=1\n",
    "    ))\n",
    "    '''\n",
    "    denoised_signal = denoise_signal(\n",
    "        high_pass_filter(signal, low_cutoff=10000, SAMPLE_RATE=4000000),\n",
    "        #signal\n",
    "        wavelet='haar',\n",
    "        level=1\n",
    "    )\n",
    "    \n",
    "    '''\n",
    "    denoised_targets.append(denoise_signal(\n",
    "        #high_pass_filter(target, low_cutoff=10000, SAMPLE_RATE=4000000),\n",
    "        target\n",
    "        #wavelet='haar',\n",
    "        #level=1\n",
    "    ))\n",
    "    '''\n",
    "    denoised_signals = np.vstack([denoised_signals, denoised_signal])\n",
    "    #denoised_targets = np.vstack([denoised_targets, denoised_target])"
   ]
  },
  {
   "cell_type": "code",
   "execution_count": null,
   "metadata": {},
   "outputs": [],
   "source": []
  }
 ],
 "metadata": {
  "kernelspec": {
   "display_name": "Python 3",
   "language": "python",
   "name": "python3"
  },
  "language_info": {
   "codemirror_mode": {
    "name": "ipython",
    "version": 3
   },
   "file_extension": ".py",
   "mimetype": "text/x-python",
   "name": "python",
   "nbconvert_exporter": "python",
   "pygments_lexer": "ipython3",
   "version": "3.6.6"
  }
 },
 "nbformat": 4,
 "nbformat_minor": 1
}
