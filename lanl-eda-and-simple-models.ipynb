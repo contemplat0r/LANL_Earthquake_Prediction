{
 "cells": [
  {
   "cell_type": "code",
   "execution_count": null,
   "metadata": {},
   "outputs": [],
   "source": [
    "import gc\n",
    "import os\n",
    "import pathlib\n",
    "\n",
    "import numpy as np\n",
    "import pandas as pd\n",
    "\n",
    "import matplotlib.pyplot as plt\n",
    "import seaborn as sns\n",
    "\n",
    "from sklearn.model_selection import cross_val_score, train_test_split\n",
    "from sklearn.linear_model import LinearRegression\n",
    "from sklearn.metrics import mean_squared_error\n",
    "from sklearn.model_selection import StratifiedKFold"
   ]
  },
  {
   "cell_type": "code",
   "execution_count": null,
   "metadata": {},
   "outputs": [],
   "source": [
    "%matplotlib inline"
   ]
  },
  {
   "cell_type": "code",
   "execution_count": null,
   "metadata": {},
   "outputs": [],
   "source": [
    "!ls '../input'"
   ]
  },
  {
   "cell_type": "code",
   "execution_count": null,
   "metadata": {},
   "outputs": [],
   "source": [
    "train_df = pd.read_csv('../input/train/train.csv')"
   ]
  },
  {
   "cell_type": "code",
   "execution_count": null,
   "metadata": {},
   "outputs": [],
   "source": [
    "train_df.info()"
   ]
  },
  {
   "cell_type": "code",
   "execution_count": null,
   "metadata": {},
   "outputs": [],
   "source": [
    "train_df.describe()"
   ]
  },
  {
   "cell_type": "code",
   "execution_count": null,
   "metadata": {},
   "outputs": [],
   "source": [
    "train_df.head()"
   ]
  },
  {
   "cell_type": "code",
   "execution_count": null,
   "metadata": {},
   "outputs": [],
   "source": [
    "train_df.tail()"
   ]
  },
  {
   "cell_type": "code",
   "execution_count": null,
   "metadata": {},
   "outputs": [],
   "source": [
    "acoustic_data_df = train_df[train_df.columns.drop('time_to_failure')].astype(np.int32)"
   ]
  },
  {
   "cell_type": "code",
   "execution_count": null,
   "metadata": {},
   "outputs": [],
   "source": [
    "time_to_failure_df = train_df[train_df.columns.drop('acoustic_data')].astype(np.float32)"
   ]
  },
  {
   "cell_type": "code",
   "execution_count": null,
   "metadata": {},
   "outputs": [],
   "source": [
    "compressed_train_df = pd.concat([acoustic_data_df, time_to_failure_df], axis=1)"
   ]
  },
  {
   "cell_type": "code",
   "execution_count": null,
   "metadata": {},
   "outputs": [],
   "source": [
    "compressed_train_df.head()"
   ]
  },
  {
   "cell_type": "code",
   "execution_count": null,
   "metadata": {},
   "outputs": [],
   "source": [
    "compressed_train_df.info()"
   ]
  },
  {
   "cell_type": "code",
   "execution_count": null,
   "metadata": {},
   "outputs": [],
   "source": [
    "train_df = compressed_train_df"
   ]
  },
  {
   "cell_type": "code",
   "execution_count": null,
   "metadata": {},
   "outputs": [],
   "source": [
    "train_df.shape"
   ]
  },
  {
   "cell_type": "code",
   "execution_count": null,
   "metadata": {},
   "outputs": [],
   "source": [
    "#del acoustic_data_df \n",
    "#del time_to_failure_df\n",
    "gc.collect()"
   ]
  },
  {
   "cell_type": "code",
   "execution_count": null,
   "metadata": {},
   "outputs": [],
   "source": [
    "train_df.info()"
   ]
  },
  {
   "cell_type": "code",
   "execution_count": null,
   "metadata": {},
   "outputs": [],
   "source": [
    "unique_acoustic_data = train_df['acoustic_data'].unique()"
   ]
  },
  {
   "cell_type": "code",
   "execution_count": null,
   "metadata": {},
   "outputs": [],
   "source": [
    "unique_time_to_failure = train_df['time_to_failure'].unique()"
   ]
  },
  {
   "cell_type": "code",
   "execution_count": null,
   "metadata": {},
   "outputs": [],
   "source": [
    "unique_acoustic_data.shape"
   ]
  },
  {
   "cell_type": "code",
   "execution_count": null,
   "metadata": {},
   "outputs": [],
   "source": [
    "unique_time_to_failure.shape"
   ]
  },
  {
   "cell_type": "code",
   "execution_count": null,
   "metadata": {},
   "outputs": [],
   "source": [
    "train_df.shape"
   ]
  },
  {
   "cell_type": "code",
   "execution_count": null,
   "metadata": {},
   "outputs": [],
   "source": [
    "fig = plt.figure(figsize=(24, 18))"
   ]
  },
  {
   "cell_type": "code",
   "execution_count": null,
   "metadata": {},
   "outputs": [],
   "source": [
    "ax = fig.add_subplot(111)"
   ]
  },
  {
   "cell_type": "code",
   "execution_count": null,
   "metadata": {},
   "outputs": [],
   "source": [
    "ax.set_xlim(train_df['acoustic_data'].min(), train_df['acoustic_data'].max())"
   ]
  },
  {
   "cell_type": "code",
   "execution_count": null,
   "metadata": {},
   "outputs": [],
   "source": [
    "train_df.hist(column='acoustic_data', bins=200, figsize=(24, 18))"
   ]
  },
  {
   "cell_type": "code",
   "execution_count": null,
   "metadata": {},
   "outputs": [],
   "source": [
    "train_df['acoustic_data'].count()"
   ]
  },
  {
   "cell_type": "code",
   "execution_count": null,
   "metadata": {},
   "outputs": [],
   "source": [
    "#grouped_train_df_by_acoustic = train_df[train_df.columns.drop('time_to_failure')].groupby('acoustic_data')\n",
    "grouped_train_series_by_acoustic = train_df['acoustic_data'].groupby(by=train_df['acoustic_data'])"
   ]
  },
  {
   "cell_type": "code",
   "execution_count": null,
   "metadata": {},
   "outputs": [],
   "source": [
    "#dir(grouped_train_series_by_acoustic)"
   ]
  },
  {
   "cell_type": "code",
   "execution_count": null,
   "metadata": {},
   "outputs": [],
   "source": [
    "count_train_series_acoustic = grouped_train_series_by_acoustic.count()"
   ]
  },
  {
   "cell_type": "code",
   "execution_count": null,
   "metadata": {},
   "outputs": [],
   "source": [
    "print(count_train_series_acoustic.memory_usage())"
   ]
  },
  {
   "cell_type": "code",
   "execution_count": null,
   "metadata": {},
   "outputs": [],
   "source": [
    "count_train_series_acoustic.shape"
   ]
  },
  {
   "cell_type": "code",
   "execution_count": null,
   "metadata": {},
   "outputs": [],
   "source": [
    "count_train_series_acoustic.head()"
   ]
  },
  {
   "cell_type": "code",
   "execution_count": null,
   "metadata": {},
   "outputs": [],
   "source": [
    "#count_train_series_acoustic[-5008]"
   ]
  },
  {
   "cell_type": "code",
   "execution_count": null,
   "metadata": {},
   "outputs": [],
   "source": [
    "count_acoustic_more_20 = count_train_series_acoustic[count_train_series_acoustic > 20]"
   ]
  },
  {
   "cell_type": "code",
   "execution_count": null,
   "metadata": {},
   "outputs": [],
   "source": [
    "print(count_acoustic_more_20.memory_usage())"
   ]
  },
  {
   "cell_type": "code",
   "execution_count": null,
   "metadata": {},
   "outputs": [],
   "source": [
    "count_acoustic_more_20.shape"
   ]
  },
  {
   "cell_type": "code",
   "execution_count": null,
   "metadata": {},
   "outputs": [],
   "source": [
    "print(count_acoustic_more_20.min())\n",
    "print(count_acoustic_more_20.max())"
   ]
  },
  {
   "cell_type": "code",
   "execution_count": null,
   "metadata": {},
   "outputs": [],
   "source": [
    "#fig = plt.figure(figsize=(24, 18))\n",
    "#ax = fig.add_subplot(111)\n",
    "#ax.set_xlim(count_acoustic_more_20.min(), count_acoustic_more_20.max())"
   ]
  },
  {
   "cell_type": "code",
   "execution_count": null,
   "metadata": {},
   "outputs": [],
   "source": [
    "count_acoustic_more_20.mode()"
   ]
  },
  {
   "cell_type": "code",
   "execution_count": null,
   "metadata": {},
   "outputs": [],
   "source": [
    "count_acoustic_more_20.tail()"
   ]
  },
  {
   "cell_type": "code",
   "execution_count": null,
   "metadata": {},
   "outputs": [],
   "source": [
    "#count_acoustic_more_20[73883469]"
   ]
  },
  {
   "cell_type": "code",
   "execution_count": null,
   "metadata": {},
   "outputs": [],
   "source": [
    "index_count_acoustic_more_20 = count_acoustic_more_20.index"
   ]
  },
  {
   "cell_type": "code",
   "execution_count": null,
   "metadata": {},
   "outputs": [],
   "source": [
    "print(index_count_acoustic_more_20[:10])\n",
    "print(index_count_acoustic_more_20[-10:])"
   ]
  },
  {
   "cell_type": "code",
   "execution_count": null,
   "metadata": {},
   "outputs": [],
   "source": [
    "print(index_count_acoustic_more_20.min())\n",
    "print(index_count_acoustic_more_20.max())"
   ]
  },
  {
   "cell_type": "code",
   "execution_count": null,
   "metadata": {},
   "outputs": [],
   "source": [
    "fig = plt.figure(figsize=(24, 18))\n",
    "ax = fig.add_subplot(111)\n",
    "ax.set_xlim(index_count_acoustic_more_20.min(), index_count_acoustic_more_20.max())\n",
    "#ax.hist(count_acoustic_more_20, bins=100, color='gray')\n",
    "ax.plot(index_count_acoustic_more_20, count_acoustic_more_20, color='green')\n",
    "ax.hist(count_acoustic_more_20, color='gray', bins=60)\n",
    "plt.show()"
   ]
  },
  {
   "cell_type": "code",
   "execution_count": null,
   "metadata": {},
   "outputs": [],
   "source": [
    "fig = plt.figure(figsize=(24, 18))\n",
    "ax = fig.add_subplot(111)\n",
    "#ax.set_xlim(index_count_acoustic_more_20.min(), index_count_acoustic_more_20.max())\n",
    "#ax.hist(count_acoustic_more_20, bins=100, color='gray')\n",
    "#ax.plot(index_count_acoustic_more_20, count_acoustic_more_20, color='green')\n",
    "ax.hist(count_acoustic_more_20, color='gray', bins=500)\n",
    "plt.show()"
   ]
  },
  {
   "cell_type": "code",
   "execution_count": null,
   "metadata": {},
   "outputs": [],
   "source": [
    "fig = plt.figure(figsize=(24, 18))\n",
    "ax = fig.add_subplot(111)\n",
    "ax.set_xlim(index_count_acoustic_more_20.min(), index_count_acoustic_more_20.max())\n",
    "#ax.hist(count_acoustic_more_20, bins=100, color='gray')\n",
    "#ax.plot(index_count_acoustic_more_20, count_acoustic_more_20, color='green')\n",
    "ax.scatter(index_count_acoustic_more_20, count_acoustic_more_20, color='black')\n",
    "plt.show()"
   ]
  },
  {
   "cell_type": "code",
   "execution_count": null,
   "metadata": {},
   "outputs": [],
   "source": [
    "print(count_acoustic_more_20.unique())"
   ]
  },
  {
   "cell_type": "code",
   "execution_count": null,
   "metadata": {},
   "outputs": [],
   "source": [
    "print(count_acoustic_more_20.unique().shape)\n",
    "print(count_acoustic_more_20.shape)"
   ]
  },
  {
   "cell_type": "code",
   "execution_count": null,
   "metadata": {},
   "outputs": [],
   "source": [
    "count_acoustic_more_40 = count_train_series_acoustic[count_train_series_acoustic > 40]"
   ]
  },
  {
   "cell_type": "code",
   "execution_count": null,
   "metadata": {},
   "outputs": [],
   "source": [
    "print(count_acoustic_more_40.unique().shape)\n",
    "print(count_acoustic_more_40.shape)\n",
    "print(count_acoustic_more_40.unique())"
   ]
  },
  {
   "cell_type": "code",
   "execution_count": null,
   "metadata": {},
   "outputs": [],
   "source": [
    "fig = plt.figure(figsize=(24, 18))\n",
    "ax = fig.add_subplot(111)\n",
    "ax.set_xlim(count_acoustic_more_40.index.min(), count_acoustic_more_40.index.max())\n",
    "#ax.hist(count_acoustic_more_20, bins=100, color='gray')\n",
    "#ax.plot(index_count_acoustic_more_20, count_acoustic_more_20, color='green')\n",
    "ax.scatter(count_acoustic_more_40.index, count_acoustic_more_40, color='black')\n",
    "plt.show()"
   ]
  },
  {
   "cell_type": "code",
   "execution_count": null,
   "metadata": {},
   "outputs": [],
   "source": [
    "print(\"count_train_series_acoustic.min(): \", count_train_series_acoustic.min())\n",
    "print(\"count_train_series_acoustic.max(): \", count_train_series_acoustic.max())\n",
    "print(\"count_train_df_acoustic.index.min(): \", count_train_series_acoustic.index.min())\n",
    "print(\"count_train_df_acoustic.index.max(): \", count_train_series_acoustic.index.max())\n",
    "print(\"count_train_series_acoustic.mode(): \", count_train_series_acoustic.mode())\n",
    "print(\"count_train_series_acoustic.median(): \", count_train_series_acoustic.median())\n",
    "print(\"count_train_series_acoustic.mean(): \", count_train_series_acoustic.mean())\n",
    "#print(\"count_train_series_acoustic.index.mode(): \", count_train_series_acoustic.index.mode())\n",
    "#print(\"count_train_series_acoustic.index.median(): \", count_train_series_acoustic.index.median())\n",
    "#print(\"count_train_series_acoustic.index.mean(): \", count_train_series_acoustic.index.mean())"
   ]
  },
  {
   "cell_type": "code",
   "execution_count": null,
   "metadata": {},
   "outputs": [],
   "source": [
    "count_train_series_acoustic.mode()"
   ]
  },
  {
   "cell_type": "code",
   "execution_count": null,
   "metadata": {},
   "outputs": [],
   "source": [
    "count_train_series_acoustic[count_train_series_acoustic == 0].shape"
   ]
  },
  {
   "cell_type": "code",
   "execution_count": null,
   "metadata": {},
   "outputs": [],
   "source": [
    "count_train_series_acoustic[count_train_series_acoustic == 1].shape"
   ]
  },
  {
   "cell_type": "code",
   "execution_count": null,
   "metadata": {},
   "outputs": [],
   "source": [
    "#count_train_series_acoustic.mode?"
   ]
  },
  {
   "cell_type": "code",
   "execution_count": null,
   "metadata": {},
   "outputs": [],
   "source": [
    "count_train_series_acoustic.head()"
   ]
  },
  {
   "cell_type": "code",
   "execution_count": null,
   "metadata": {},
   "outputs": [],
   "source": [
    "fig = plt.figure(figsize=(24, 18))\n",
    "ax = fig.add_subplot(111)\n",
    "#ax.set_xlim(index_count_acoustic_more_20.min(), index_count_acoustic_more_20.max())\n",
    "#ax.hist(count_acoustic_more_20, bins=100, color='gray')\n",
    "#ax.plot(index_count_acoustic_more_20, count_acoustic_more_20, color='green')\n",
    "##ax.hist(count_train_series_acoustic, color='gray', bins=60)\n",
    "ax.hist(train_df['acoustic_data'], color='gray', bins=60)\n",
    "ax.set_xscale('log')\n",
    "plt.show()"
   ]
  },
  {
   "cell_type": "code",
   "execution_count": null,
   "metadata": {},
   "outputs": [],
   "source": [
    "fig = plt.figure(figsize=(24, 18))\n",
    "ax = fig.add_subplot(111)\n",
    "#ax.set_xlim(index_count_acoustic_more_20.min(), index_count_acoustic_more_20.max())\n",
    "#ax.hist(count_acoustic_more_20, bins=100, color='gray')\n",
    "#ax.plot(index_count_acoustic_more_20, count_acoustic_more_20, color='green')\n",
    "##ax.hist(count_train_series_acoustic, color='gray', bins=60)\n",
    "ax.hist(train_df['acoustic_data'], color='gray', bins=200)\n",
    "ax.set_yscale('log')\n",
    "plt.show()"
   ]
  },
  {
   "cell_type": "code",
   "execution_count": null,
   "metadata": {},
   "outputs": [],
   "source": [
    "fig = plt.figure(figsize=(24, 18))\n",
    "ax = fig.add_subplot(111)\n",
    "#ax.set_xlim(index_count_acoustic_more_20.min(), index_count_acoustic_more_20.max())\n",
    "#ax.hist(count_acoustic_more_20, bins=100, color='gray')\n",
    "#ax.plot(index_count_acoustic_more_20, count_acoustic_more_20, color='green')\n",
    "##ax.hist(count_train_series_acoustic, color='gray', bins=60)\n",
    "ax.hist(train_df['acoustic_data'], color='gray', bins=200)\n",
    "ax.set_xscale('log')\n",
    "ax.set_yscale('log')\n",
    "plt.show()"
   ]
  },
  {
   "cell_type": "code",
   "execution_count": null,
   "metadata": {},
   "outputs": [],
   "source": [
    "#fig = plt.figure(figsize=(24, 18))\n",
    "#ax = fig.add_subplot(111)\n",
    "#ax.hist(np.log(train_df['acoustic_data']), color='gray', bins=200)\n",
    "#ax.set_yscale('log')\n",
    "#plt.show()"
   ]
  },
  {
   "cell_type": "code",
   "execution_count": null,
   "metadata": {},
   "outputs": [],
   "source": [
    "#acoustic_data_log = np.log(train_df['acoustic_data'])"
   ]
  },
  {
   "cell_type": "code",
   "execution_count": null,
   "metadata": {},
   "outputs": [],
   "source": [
    "#print(\"acoustic_data_log.min(): \", acoustic_data_log.min())\n",
    "#print(\"acoustic_data_log.max(): \", acoustic_data_log.max())"
   ]
  },
  {
   "cell_type": "code",
   "execution_count": null,
   "metadata": {},
   "outputs": [],
   "source": [
    "-np.inf"
   ]
  },
  {
   "cell_type": "code",
   "execution_count": null,
   "metadata": {},
   "outputs": [],
   "source": [
    "np.log(np.iinfo(np.int32).min)"
   ]
  },
  {
   "cell_type": "code",
   "execution_count": null,
   "metadata": {},
   "outputs": [],
   "source": [
    "#acoustic_data_log[acoustic_data_log < 0]"
   ]
  },
  {
   "cell_type": "code",
   "execution_count": null,
   "metadata": {},
   "outputs": [],
   "source": [
    "gc.collect()"
   ]
  },
  {
   "cell_type": "code",
   "execution_count": null,
   "metadata": {},
   "outputs": [],
   "source": [
    "fig = plt.figure(figsize=(24, 18))\n",
    "ax = fig.add_subplot(111)\n",
    "#ax.set_xlim(, )\n",
    "#ax.hist(count_acoustic_more_20, bins=100, color='gray')\n",
    "#ax.plot(index_count_acoustic_more_20, count_acoustic_more_20, color='green')\n",
    "#ax.hist(time_to_failure_df, color='green', bins=60)\n",
    "train_df['time_to_failure'].hist(bins=600, color='green')\n",
    "plt.show()"
   ]
  },
  {
   "cell_type": "code",
   "execution_count": null,
   "metadata": {},
   "outputs": [],
   "source": [
    "fig = plt.figure(figsize=(24, 18))\n",
    "ax = fig.add_subplot(111)\n",
    "#ax.set_xlim(, )\n",
    "#ax.hist(count_acoustic_more_20, bins=100, color='gray')\n",
    "#ax.plot(index_count_acoustic_more_20, count_acoustic_more_20, color='green')\n",
    "#ax.hist(time_to_failure_df, color='green', bins=60)\n",
    "train_df['time_to_failure'].hist(bins=200, color='green')\n",
    "ax.set_yscale('log')\n",
    "plt.show()"
   ]
  },
  {
   "cell_type": "code",
   "execution_count": null,
   "metadata": {},
   "outputs": [],
   "source": [
    "fig = plt.figure(figsize=(24, 18))\n",
    "ax = fig.add_subplot(111)\n",
    "#ax.set_xlim(count_acoustic_more_40.index.min(), count_acoustic_more_40.index.max())\n",
    "#ax.hist(count_acoustic_more_20, bins=100, color='gray')\n",
    "#ax.plot(index_count_acoustic_more_20, count_acoustic_more_20, color='green')\n",
    "ax.scatter(train_df['acoustic_data'], train_df['time_to_failure'], color='black')\n",
    "#train_df.scatter(color='black')\n",
    "plt.show()"
   ]
  },
  {
   "cell_type": "code",
   "execution_count": null,
   "metadata": {},
   "outputs": [],
   "source": [
    "plt.figure(figsize=(24, 24))\n",
    "heatmap_fig = sns.heatmap(\n",
    "    train_df.corr().round(4),\n",
    "    annot=True, annot_kws={\"size\":24},\n",
    "    cbar=False\n",
    ")\n",
    "for item in heatmap_fig.get_xticklabels():\n",
    "    item.set_fontsize(24)\n",
    "for item in heatmap_fig.get_yticklabels():\n",
    "    item.set_fontsize(24)\n",
    "for item in heatmap_fig.get_label():\n",
    "    item.set_fontsize(24)"
   ]
  },
  {
   "cell_type": "code",
   "execution_count": null,
   "metadata": {},
   "outputs": [],
   "source": [
    "fig = plt.figure(figsize=(24, 18))\n",
    "ax = fig.add_subplot(111)\n",
    "#ax.set_xlim(index_count_acoustic_more_20.min(), index_count_acoustic_more_20.max())\n",
    "#ax.hist(count_acoustic_more_20, bins=100, color='gray')\n",
    "ax.plot(train_df['acoustic_data'], train_df['time_to_failure'], color='green')\n",
    "#ax.hist(count_acoustic_more_20, color='gray', bins=60)\n",
    "plt.show()"
   ]
  },
  {
   "cell_type": "code",
   "execution_count": null,
   "metadata": {},
   "outputs": [],
   "source": [
    "fig = plt.figure(figsize=(24, 18))\n",
    "ax = fig.add_subplot(111)\n",
    "#ax.set_xlim(index_count_acoustic_more_20.min(), index_count_acoustic_more_20.max())\n",
    "#ax.hist(count_acoustic_more_20, bins=100, color='gray')\n",
    "ax.plot(train_df['time_to_failure'], train_df['acoustic_data'], color='blue')\n",
    "#ax.hist(count_acoustic_more_20, color='gray', bins=60)\n",
    "plt.show()"
   ]
  },
  {
   "cell_type": "code",
   "execution_count": null,
   "metadata": {},
   "outputs": [],
   "source": [
    "gc.collect()"
   ]
  },
  {
   "cell_type": "code",
   "execution_count": null,
   "metadata": {},
   "outputs": [],
   "source": [
    "gc.collect()"
   ]
  },
  {
   "cell_type": "code",
   "execution_count": null,
   "metadata": {},
   "outputs": [],
   "source": [
    "del grouped_train_series_by_acoustic\n",
    "#del acoustic_data_log\n",
    "gc.collect()"
   ]
  },
  {
   "cell_type": "code",
   "execution_count": null,
   "metadata": {},
   "outputs": [],
   "source": [
    "count_train_series_time_to_failure = train_df['time_to_failure'].groupby(by=train_df['time_to_failure']).count()"
   ]
  },
  {
   "cell_type": "code",
   "execution_count": null,
   "metadata": {},
   "outputs": [],
   "source": [
    "fig = plt.figure(figsize=(24, 18))\n",
    "ax = fig.add_subplot(111)\n",
    "#ax.set_xlim(index_count_acoustic_more_20.min(), index_count_acoustic_more_20.max())\n",
    "#ax.hist(count_acoustic_more_20, bins=100, color='gray')\n",
    "#ax.plot(index_count_acoustic_more_20, count_acoustic_more_20, color='green')\n",
    "##ax.hist(count_train_series_acoustic, color='gray', bins=60)\n",
    "ax.hist(count_train_series_acoustic, color='gray', bins=100)\n",
    "#ax.set_xscale('log')\n",
    "plt.show()"
   ]
  },
  {
   "cell_type": "code",
   "execution_count": null,
   "metadata": {},
   "outputs": [],
   "source": [
    "fig = plt.figure(figsize=(24, 18))\n",
    "ax = fig.add_subplot(111)\n",
    "#ax.set_xlim(index_count_acoustic_more_20.min(), index_count_acoustic_more_20.max())\n",
    "#ax.hist(count_acoustic_more_20, bins=100, color='gray')\n",
    "#ax.plot(index_count_acoustic_more_20, count_acoustic_more_20, color='green')\n",
    "##ax.hist(count_train_series_acoustic, color='gray', bins=60)\n",
    "ax.hist(count_train_series_acoustic[np.abs(count_train_series_acoustic, color='gray', bins=100)\n",
    "#ax.set_xscale('log')\n",
    "plt.show()"
   ]
  },
  {
   "cell_type": "code",
   "execution_count": null,
   "metadata": {},
   "outputs": [],
   "source": [
    "fig = plt.figure(figsize=(24, 18))\n",
    "ax = fig.add_subplot(111)\n",
    "#ax.set_xlim(index_count_acoustic_more_20.min(), index_count_acoustic_more_20.max())\n",
    "#ax.hist(count_acoustic_more_20, bins=100, color='gray')\n",
    "#ax.plot(index_count_acoustic_more_20, count_acoustic_more_20, color='green')\n",
    "##ax.hist(count_train_series_acoustic, color='gray', bins=60)\n",
    "ax.hist(count_train_series_acoustic[np.abs(count_train_series_acoustic) < 100], color='gray', bins=100)\n",
    "ax.set_xscale('log')\n",
    "plt.show()"
   ]
  },
  {
   "cell_type": "code",
   "execution_count": null,
   "metadata": {},
   "outputs": [],
   "source": [
    "fig = plt.figure(figsize=(24, 18))\n",
    "ax = fig.add_subplot(111)\n",
    "#ax.set_xlim(index_count_acoustic_more_20.min(), index_count_acoustic_more_20.max())\n",
    "#ax.hist(count_acoustic_more_20, bins=100, color='gray')\n",
    "#ax.plot(index_count_acoustic_more_20, count_acoustic_more_20, color='green')\n",
    "##ax.hist(count_train_series_acoustic, color='gray', bins=60)\n",
    "#ax.hist(count_train_series_acoustic[((count_train_series_acoustic > -100) and (count_train_series_acoustic < 100)).all()], color='gray', bins=100)\n",
    "count_train_series_acoustic_filtered_100 = count_train_series_acoustic[count_train_series_acoustic > -100]\n",
    "count_train_series_acoustic_filtered_100 = count_train_series_acoustic[count_train_series_acoustic < 100]\n",
    "ax.hist(count_train_series_acoustic_filtered_100, color='gray', bins=100)\n",
    "#ax.set_xscale('log')\n",
    "plt.show()"
   ]
  },
  {
   "cell_type": "code",
   "execution_count": null,
   "metadata": {},
   "outputs": [],
   "source": [
    "fig = plt.figure(figsize=(24, 18))\n",
    "ax = fig.add_subplot(111)\n",
    "#ax.set_xlim(index_count_acoustic_more_20.min(), index_count_acoustic_more_20.max())\n",
    "#ax.hist(count_acoustic_more_20, bins=100, color='gray')\n",
    "#ax.plot(index_count_acoustic_more_20, count_acoustic_more_20, color='green')\n",
    "##ax.hist(count_train_series_acoustic, color='gray', bins=60)\n",
    "ax.hist(count_train_series_time_to_failure, color='gray', bins=100)\n",
    "#ax.set_xscale('log')\n",
    "plt.show()"
   ]
  },
  {
   "cell_type": "code",
   "execution_count": null,
   "metadata": {},
   "outputs": [],
   "source": [
    "fig = plt.figure(figsize=(24, 18))\n",
    "ax = fig.add_subplot(111)\n",
    "#ax.set_xlim(index_count_acoustic_more_20.min(), index_count_acoustic_more_20.max())\n",
    "#ax.hist(count_acoustic_more_20, bins=100, color='gray')\n",
    "#ax.plot(index_count_acoustic_more_20, count_acoustic_more_20, color='green')\n",
    "##ax.hist(count_train_series_acoustic, color='gray', bins=60)\n",
    "ax.hist(count_train_series_time_to_failure, color='gray', bins=100)\n",
    "ax.set_xscale('log')\n",
    "plt.show()"
   ]
  },
  {
   "cell_type": "code",
   "execution_count": null,
   "metadata": {},
   "outputs": [],
   "source": [
    "fig = plt.figure(figsize=(24, 18))\n",
    "ax = fig.add_subplot(111)\n",
    "#ax.set_xlim(index_count_acoustic_more_20.min(), index_count_acoustic_more_20.max())\n",
    "#ax.hist(count_acoustic_more_20, bins=100, color='gray')\n",
    "#ax.plot(index_count_acoustic_more_20, count_acoustic_more_20, color='green')\n",
    "##ax.hist(count_train_series_acoustic, color='gray', bins=60)\n",
    "ax.hist(count_train_series_time_to_failure[count_train_series_time_to_failure < 200], color='gray', bins=300)\n",
    "#ax.set_xscale('log')\n",
    "plt.show()"
   ]
  },
  {
   "cell_type": "code",
   "execution_count": null,
   "metadata": {},
   "outputs": [],
   "source": [
    "fig = plt.figure(figsize=(24, 18))\n",
    "ax = fig.add_subplot(111)\n",
    "#ax.set_xlim(index_count_acoustic_more_20.min(), index_count_acoustic_more_20.max())\n",
    "#ax.hist(count_acoustic_more_20, bins=100, color='gray')\n",
    "#ax.plot(index_count_acoustic_more_20, count_acoustic_more_20, color='green')\n",
    "##ax.hist(count_train_series_acoustic, color='gray', bins=60)\n",
    "ax.hist(count_train_series_time_to_failure[count_train_series_time_to_failure < 200], color='gray', bins=300)\n",
    "ax.set_xscale('log')\n",
    "plt.show()"
   ]
  },
  {
   "cell_type": "code",
   "execution_count": null,
   "metadata": {},
   "outputs": [],
   "source": [
    "print(count_train_series_time_to_failure.head())"
   ]
  },
  {
   "cell_type": "code",
   "execution_count": null,
   "metadata": {},
   "outputs": [],
   "source": [
    "fig = plt.figure(figsize=(24, 18))\n",
    "ax = fig.add_subplot(111)\n",
    "#ax.set_xlim(index_count_acoustic_more_20.min(), index_count_acoustic_more_20.max())\n",
    "#ax.hist(count_acoustic_more_20, bins=100, color='gray')\n",
    "#ax.plot(index_count_acoustic_more_20, count_acoustic_more_20, color='green')\n",
    "##ax.hist(count_train_series_acoustic, color='gray', bins=60)\n",
    "count_train_series_time_to_failure_200 = count_train_series_time_to_failure[count_train_series_time_to_failure < 200]\n",
    "ax.plot(count_train_series_time_to_failure_200.index, count_train_series_time_to_failure_200.values, color='green')\n",
    "#ax.set_xscale('log')\n",
    "plt.show()"
   ]
  },
  {
   "cell_type": "code",
   "execution_count": null,
   "metadata": {},
   "outputs": [],
   "source": [
    "fig = plt.figure(figsize=(24, 18))\n",
    "ax = fig.add_subplot(111)\n",
    "#ax.set_xlim(index_count_acoustic_more_20.min(), index_count_acoustic_more_20.max())\n",
    "#ax.hist(count_acoustic_more_20, bins=100, color='gray')\n",
    "#ax.plot(index_count_acoustic_more_20, count_acoustic_more_20, color='green')\n",
    "##ax.hist(count_train_series_acoustic, color='gray', bins=60)\n",
    "ax.plot(count_train_series_time_to_failure.index, count_train_series_time_to_failure.values, color='green')\n",
    "#ax.set_xscale('log')\n",
    "plt.show()"
   ]
  },
  {
   "cell_type": "code",
   "execution_count": null,
   "metadata": {},
   "outputs": [],
   "source": [
    "gc.collect()"
   ]
  },
  {
   "cell_type": "code",
   "execution_count": null,
   "metadata": {},
   "outputs": [],
   "source": [
    "'''\n",
    "train_values, holdout_test_values, train_target_values, holdout_test_target_values = train_test_split(\n",
    "    scaled_train_values,\n",
    "    target_values,\n",
    "    test_size=0.2,\n",
    "    random_state=0\n",
    ")\n",
    "'''"
   ]
  }
 ],
 "metadata": {
  "kernelspec": {
   "display_name": "Python 3",
   "language": "python",
   "name": "python3"
  },
  "language_info": {
   "codemirror_mode": {
    "name": "ipython",
    "version": 3
   },
   "file_extension": ".py",
   "mimetype": "text/x-python",
   "name": "python",
   "nbconvert_exporter": "python",
   "pygments_lexer": "ipython3",
   "version": "3.6.6"
  }
 },
 "nbformat": 4,
 "nbformat_minor": 2
}
