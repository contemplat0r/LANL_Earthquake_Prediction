{
 "cells": [
  {
   "cell_type": "code",
   "execution_count": 1,
   "metadata": {},
   "outputs": [
    {
     "name": "stderr",
     "output_type": "stream",
     "text": [
      "Using TensorFlow backend.\n"
     ]
    }
   ],
   "source": [
    "import gc\n",
    "import math\n",
    "import os\n",
    "import pathlib\n",
    "import time\n",
    "\n",
    "import numpy as np\n",
    "import pandas as pd\n",
    "\n",
    "import matplotlib.pyplot as plt\n",
    "import seaborn as sns\n",
    "\n",
    "from tqdm import tqdm_notebook\n",
    "\n",
    "from sklearn.preprocessing import StandardScaler\n",
    "from sklearn.metrics import mean_absolute_error\n",
    "from sklearn.model_selection import StratifiedKFold, KFold, RepeatedKFold, train_test_split\n",
    "\n",
    "import lightgbm as lgb\n",
    "import xgboost as xgb\n",
    "\n",
    "import keras\n",
    "from keras.models import Sequential\n",
    "from keras.layers import Dense\n",
    "from keras.optimizers import adam\n",
    "from keras.callbacks import ModelCheckpoint"
   ]
  },
  {
   "cell_type": "code",
   "execution_count": 2,
   "metadata": {},
   "outputs": [],
   "source": [
    "%matplotlib inline"
   ]
  },
  {
   "cell_type": "code",
   "execution_count": 149,
   "metadata": {},
   "outputs": [],
   "source": [
    "def add_features(\n",
    "        df,\n",
    "        first_index=None,\n",
    "        last_index=None,\n",
    "        sample_size=150000,\n",
    "        holdout_size=50000,\n",
    "        smootch_windows_size = (3, 5, 7)\n",
    "    ):\n",
    "    \n",
    "    if first_index == None or last_index == None:\n",
    "        first_index = df.index.min()\n",
    "        last_index = df.index.max()\n",
    "    sample_indexes = np.random.randint(first_index, last_index, sample_size)\n",
    "    sample_indexes.sort()\n",
    "    #print(\"sample_indexes.shape:\", sample_indexes.shape)    \n",
    "    smootch_feature_names = ['smootch_mean_ws_{}'.format(window_size) for window_size in smootch_windows_size]\n",
    "    #half_windows_size = [ws // 2 for ws in smootch_windows_size]\n",
    "\n",
    "    acoustic_data_series = df['acoustic_data']\n",
    "    \n",
    "    sample_df = df.iloc[sample_indexes]\n",
    "    sample_df.reset_index(inplace=True)\n",
    "    sample_df.drop(columns=['index'], inplace=True)\n",
    "    #print(\"just after create sample_df, sample_df.shape[0]:\", sample_df.shape[0])\n",
    "    \n",
    "    #for feature_name in smootch_feature_names:\n",
    "    #    sample_df[feature_name] = 0\n",
    "    begin_smootch_features_value = []\n",
    "    end_smootch_features_value = []\n",
    "    \n",
    "    #sample_indexes_set = set(sample_indexes)\n",
    "    begin_indexes_set = set()\n",
    "    end_indexes_set = set()\n",
    "    \n",
    "    start_time = time.time()\n",
    "    #print(\"sample_df.shape[0] just before main loop:\", sample_df.shape[0])\n",
    "    sample_df_len = sample_df.shape[0]\n",
    "    for window_size, feature_name in zip(smootch_windows_size, smootch_feature_names):\n",
    "        \n",
    "        feature_values_list = list(range(sample_size))\n",
    "        \n",
    "        half_window_size = window_size // 2\n",
    "        begin_indexes = sample_indexes[:half_window_size]        \n",
    "        sample_begin_indexes = sample_indexes[:half_window_size]\n",
    "        full_data_begin_indexes = df.index[:half_window_size].tolist()\n",
    "\n",
    "        in_window_begin_indexes = [idx for idx in sample_begin_indexes if idx in full_data_begin_indexes]\n",
    "        \n",
    "        sample_end_indexes = sample_indexes[-half_window_size:]\n",
    "\n",
    "        full_data_end_indexes = df.index[-half_window_size:].tolist()\n",
    "        \n",
    "        in_window_end_indexes = [idx for idx in sample_end_indexes if idx in full_data_end_indexes]\n",
    "        begin_indexes = begin_indexes[begin_indexes <= half_window_size]\n",
    "        \n",
    "        end_indexes = sample_indexes[-half_window_size:]\n",
    "        \n",
    "        if in_window_begin_indexes:\n",
    "            begin_indexes_set.union(set(in_window_begin_indexes))\n",
    "            for i, b_idx in enumerate(in_window_begin_indexes):\n",
    "                #sample_df[feature_name].iloc[b_idx] = df[b_idx]['acoustic_data'] - df.iloc[first_index:first_index + window_size]['acoustic_data'].mean()\n",
    "                value = df[b_idx]['acoustic_data'] - df.iloc[first_index:first_index + window_size]['acoustic_data'].mean()\n",
    "                feature_values_list[i] = value\n",
    "        if in_window_end_indexes:\n",
    "            end_indexes_set.union(set(in_window_end_indexes))\n",
    "            for i, e_idx in enumerate(in_window_end_indexes):\n",
    "                #sample_df[feature_name].iloc[e_idx] = df[e_idx]['acoustic_data'] - df.iloc[last_index - window_size:]['acoustic_data'].mean()\n",
    "                value = df[e_idx]['acoustic_data'] - df.iloc[last_index - window_size:]['acoustic_data'].mean()\n",
    "                feature_values_list[-i] = value\n",
    "        #print(\"in main loop, sample_df.shape:\", sample_df.shape)\n",
    "        slice_begin = len(begin_indexes_set)\n",
    "        slice_end = sample_df_len - len(end_indexes_set)\n",
    "        for i in range(sample_df_len)[slice_begin:slice_end]:\n",
    "            sample_idx = sample_indexes[i]\n",
    "            feature_values_list[i] = acoustic_data_series.iloc[sample_idx - half_window_size:sample_idx + half_window_size].mean()\n",
    "        #print(\"sample_df.shape[0] before assign feature_values_list:\", sample_df.shape[0])\n",
    "        #print(\"len(feature_values_list):\", len(feature_values_list))\n",
    "        sample_df[feature_name] = feature_values_list\n",
    "        \n",
    "    #sample_df_indexes_set = set(sample_df.index)\n",
    "    train_indexes = sample_df_indexes_set\n",
    "    holdout_df = None\n",
    "    if holdout_size > 0:\n",
    "        holdout_indexes = np.random.randint(0, sample_df.shape[0], holdout_size)\n",
    "        #print(\"sample_df.index:\\n\", sample_df.index.tolist())\n",
    "        #print(\"holdout_indexes:\\n\", holdout_indexes)\n",
    "        #train_indexes = np.array(sample_df.index)\n",
    "        holdout_df = sample_df.iloc[holdout_indexes]\n",
    "        holdout_df.reset_index(inplace=True)\n",
    "        holdout_df.drop(columns=['index'], inplace=True)\n",
    "    \n",
    "        #train_indexes = sorted(tuple(sample_df_indexes_set.difference(set(holdout_indexes))))\n",
    "        train_indexes = sorted(tuple(set(sample_df.index).difference(set(holdout_indexes))))\n",
    "        #print(\"train_indexes:\\n\", train_indexes)\n",
    "        sample_df = sample_df.iloc[train_indexes]\n",
    "        sample_df.reset_index(inplace=True)\n",
    "        sample_df.drop(columns=['index'], inplace=True)\n",
    "    print(\"Full calculation feature value time (with slicing) {} min:\".format((time.time() - start_time) / 60))\n",
    "    return sample_df, holdout_df"
   ]
  },
  {
   "cell_type": "code",
   "execution_count": 4,
   "metadata": {},
   "outputs": [],
   "source": [
    "earthquake_margin_indexes =[\n",
    "    5656573,\n",
    "    50085877,\n",
    "    104677355,\n",
    "    138772452,\n",
    "    187641819,\n",
    "    218652629,\n",
    "    245829584,\n",
    "    307838916,\n",
    "    338276286,\n",
    "    375377847,\n",
    "    419368879,\n",
    "    461811622,\n",
    "    495800224,\n",
    "    528777114,\n",
    "    585568143,\n",
    "    621985672\n",
    "]"
   ]
  },
  {
   "cell_type": "code",
   "execution_count": 5,
   "metadata": {},
   "outputs": [],
   "source": [
    "earthquakes_length = [earthquake_margin_indexes[i + 1] - earthquake_margin_indexes[i] for i in range(len(earthquake_margin_indexes) - 1)]"
   ]
  },
  {
   "cell_type": "code",
   "execution_count": 6,
   "metadata": {},
   "outputs": [
    {
     "data": {
      "text/plain": [
       "[44429304,\n",
       " 54591478,\n",
       " 34095097,\n",
       " 48869367,\n",
       " 31010810,\n",
       " 27176955,\n",
       " 62009332,\n",
       " 30437370,\n",
       " 37101561,\n",
       " 43991032,\n",
       " 42442743,\n",
       " 33988602,\n",
       " 32976890,\n",
       " 56791029,\n",
       " 36417529]"
      ]
     },
     "execution_count": 6,
     "metadata": {},
     "output_type": "execute_result"
    }
   ],
   "source": [
    "earthquakes_length"
   ]
  },
  {
   "cell_type": "code",
   "execution_count": 7,
   "metadata": {},
   "outputs": [],
   "source": [
    "complete_earthquakes_length = earthquakes_length[:-1]"
   ]
  },
  {
   "cell_type": "code",
   "execution_count": 8,
   "metadata": {},
   "outputs": [],
   "source": [
    "#complete_earthquaces_length = complete_earthquaces_length[:-1]"
   ]
  },
  {
   "cell_type": "code",
   "execution_count": 9,
   "metadata": {},
   "outputs": [
    {
     "data": {
      "text/plain": [
       "[44429304,\n",
       " 54591478,\n",
       " 34095097,\n",
       " 48869367,\n",
       " 31010810,\n",
       " 27176955,\n",
       " 62009332,\n",
       " 30437370,\n",
       " 37101561,\n",
       " 43991032,\n",
       " 42442743,\n",
       " 33988602,\n",
       " 32976890,\n",
       " 56791029]"
      ]
     },
     "execution_count": 9,
     "metadata": {},
     "output_type": "execute_result"
    }
   ],
   "source": [
    "complete_earthquakes_length"
   ]
  },
  {
   "cell_type": "code",
   "execution_count": 10,
   "metadata": {},
   "outputs": [
    {
     "name": "stdout",
     "output_type": "stream",
     "text": [
      "CPU times: user 0 ns, sys: 0 ns, total: 0 ns\n",
      "Wall time: 6.44 µs\n"
     ]
    }
   ],
   "source": [
    "%time\n",
    "earthquake_1_df = pd.read_csv(\n",
    "    '../input/train/train.csv',\n",
    "    #nrows=100000000,\n",
    "    names=['acoustic_data', 'time_to_failure'],\n",
    "    dtype={'acoustic_data': np.float32, 'time_to_failure': np.float32},\n",
    "    skiprows=earthquake_margin_indexes[0],\n",
    "    nrows=complete_earthquakes_length[0]\n",
    ")"
   ]
  },
  {
   "cell_type": "code",
   "execution_count": 11,
   "metadata": {},
   "outputs": [
    {
     "name": "stdout",
     "output_type": "stream",
     "text": [
      "<class 'pandas.core.frame.DataFrame'>\n",
      "RangeIndex: 44429304 entries, 0 to 44429303\n",
      "Data columns (total 2 columns):\n",
      "acoustic_data      float32\n",
      "time_to_failure    float32\n",
      "dtypes: float32(2)\n",
      "memory usage: 339.0 MB\n"
     ]
    }
   ],
   "source": [
    "earthquake_1_df.info()"
   ]
  },
  {
   "cell_type": "markdown",
   "metadata": {},
   "source": [
    "%%time\n",
    "earthquake_1_with_additional_features_df = features_maker(earthquake_1_df)"
   ]
  },
  {
   "cell_type": "code",
   "execution_count": 12,
   "metadata": {},
   "outputs": [],
   "source": [
    "#np.random.randint?"
   ]
  },
  {
   "cell_type": "code",
   "execution_count": 122,
   "metadata": {},
   "outputs": [
    {
     "name": "stdout",
     "output_type": "stream",
     "text": [
      "Full calculation feature value time (with slicing) 23.202832746505738 min:\n",
      "CPU times: user 23min 11s, sys: 1.04 s, total: 23min 12s\n",
      "Wall time: 23min 12s\n"
     ]
    }
   ],
   "source": [
    "%%time\n",
    "earthquake_1_with_additional_features_df, holdout_df = add_features(earthquake_1_df, sample_size=2000000, holdout_size=400000)"
   ]
  },
  {
   "cell_type": "code",
   "execution_count": 84,
   "metadata": {},
   "outputs": [
    {
     "name": "stdout",
     "output_type": "stream",
     "text": [
      "   acoustic_data  time_to_failure  smootch_mean_ws_3  smootch_mean_ws_5  \\\n",
      "0            5.0        11.540800                6.0               6.00   \n",
      "1            3.0        11.540800                2.5               4.50   \n",
      "2            8.0        11.540800                6.0               4.75   \n",
      "3            7.0        11.540800                7.5               6.25   \n",
      "4            4.0        11.540800                4.5               4.75   \n",
      "5            5.0        11.540800                6.0               5.75   \n",
      "6            2.0        11.540800                1.5               2.50   \n",
      "7            2.0        11.540799                2.5               4.25   \n",
      "8            5.0        11.540799                6.5               5.00   \n",
      "9            3.0        11.540799                5.0               4.25   \n",
      "\n",
      "   smootch_mean_ws_7  \n",
      "0           5.833333  \n",
      "1           4.500000  \n",
      "2           4.666667  \n",
      "3           6.000000  \n",
      "4           3.833333  \n",
      "5           6.000000  \n",
      "6           3.000000  \n",
      "7           4.833333  \n",
      "8           4.833333  \n",
      "9           3.333333  \n",
      "\n",
      "        acoustic_data  time_to_failure  smootch_mean_ws_3  smootch_mean_ws_5  \\\n",
      "818646            6.0         0.000696                2.0               1.50   \n",
      "818647            9.0         0.000696                8.5               8.25   \n",
      "818648            2.0         0.000696                2.5               2.75   \n",
      "818649            9.0         0.000696                8.0               6.50   \n",
      "818650            5.0         0.000696                6.5               6.75   \n",
      "818651            1.0         0.000696               -1.5              -1.25   \n",
      "818652            8.0         0.000696                7.5               6.50   \n",
      "818653            6.0         0.000696                6.5               4.75   \n",
      "818654            5.0         0.000696                4.5               6.00   \n",
      "818655            6.0         0.000696                5.0               3.50   \n",
      "\n",
      "        smootch_mean_ws_7  \n",
      "818646           2.166667  \n",
      "818647           7.666667  \n",
      "818648           3.500000  \n",
      "818649           5.833333  \n",
      "818650           5.666667  \n",
      "818651           1.000000  \n",
      "818652           6.166667  \n",
      "818653           4.333333  \n",
      "818654           6.500000  \n",
      "818655           4.833333  \n"
     ]
    }
   ],
   "source": [
    "print(earthquake_1_with_additional_features_df[:10])\n",
    "print()\n",
    "print(earthquake_1_with_additional_features_df[-10:])"
   ]
  },
  {
   "cell_type": "code",
   "execution_count": 123,
   "metadata": {},
   "outputs": [],
   "source": [
    "X_all = earthquake_1_with_additional_features_df[earthquake_1_with_additional_features_df.columns.drop('time_to_failure')]"
   ]
  },
  {
   "cell_type": "code",
   "execution_count": 124,
   "metadata": {},
   "outputs": [],
   "source": [
    "y_all = earthquake_1_with_additional_features_df['time_to_failure']"
   ]
  },
  {
   "cell_type": "code",
   "execution_count": 125,
   "metadata": {},
   "outputs": [],
   "source": [
    "X_train, X_valid, y_train, y_valid = train_test_split(X_all, y_all, test_size=0.2, random_state=0)"
   ]
  },
  {
   "cell_type": "code",
   "execution_count": 136,
   "metadata": {},
   "outputs": [],
   "source": [
    "params = {\n",
    "    #'num_leaves': 51,\n",
    "    'num_leaves': 27,\n",
    "    #'min_data_in_leaf': 10,\n",
    "    'min_data_in_leaf': 8,\n",
    "    'objective':'regression',\n",
    "    #'max_depth': -1,\n",
    "    'max_depth': 5,\n",
    "    'learning_rate': 0.001,\n",
    "    'boosting': 'gbdt',\n",
    "    #'feature_fraction': 0.91,\n",
    "    #'bagging_freq': 1,\n",
    "    #'bagging_fraction': 0.91,\n",
    "    #'bagging_seed': 42,\n",
    "    'metric': 'mae',\n",
    "    #'lambda_l1': 0.1,\n",
    "    'verbosity': -1,\n",
    "    'nthread': 10,\n",
    "    'random_state': 42\n",
    "}"
   ]
  },
  {
   "cell_type": "code",
   "execution_count": 138,
   "metadata": {},
   "outputs": [],
   "source": [
    "model = lgb.LGBMRegressor(**params, n_estimators = 20000, n_jobs = 10, num_iterations=100000)"
   ]
  },
  {
   "cell_type": "code",
   "execution_count": 139,
   "metadata": {},
   "outputs": [
    {
     "name": "stderr",
     "output_type": "stream",
     "text": [
      "/home/uldo/miniconda3/envs/DS-New/lib/python3.6/site-packages/lightgbm/engine.py:102: UserWarning: Found `num_iterations` in params. Will use it instead of argument\n",
      "  warnings.warn(\"Found `{}` in params. Will use it instead of argument\".format(alias))\n"
     ]
    },
    {
     "name": "stdout",
     "output_type": "stream",
     "text": [
      "Training until validation scores don't improve for 20000 rounds.\n",
      "[1000]\ttraining's l1: 2.85464\tvalid_1's l1: 2.85243\n",
      "[2000]\ttraining's l1: 2.84816\tvalid_1's l1: 2.84615\n",
      "[3000]\ttraining's l1: 2.84633\tvalid_1's l1: 2.84449\n",
      "[4000]\ttraining's l1: 2.84554\tvalid_1's l1: 2.84388\n",
      "[5000]\ttraining's l1: 2.84511\tvalid_1's l1: 2.84362\n",
      "[6000]\ttraining's l1: 2.84486\tvalid_1's l1: 2.8435\n",
      "[7000]\ttraining's l1: 2.84468\tvalid_1's l1: 2.84344\n",
      "[8000]\ttraining's l1: 2.84451\tvalid_1's l1: 2.84338\n",
      "[9000]\ttraining's l1: 2.84434\tvalid_1's l1: 2.84333\n",
      "[10000]\ttraining's l1: 2.84417\tvalid_1's l1: 2.84329\n",
      "[11000]\ttraining's l1: 2.84401\tvalid_1's l1: 2.84325\n",
      "[12000]\ttraining's l1: 2.84386\tvalid_1's l1: 2.84322\n",
      "[13000]\ttraining's l1: 2.84371\tvalid_1's l1: 2.8432\n",
      "[14000]\ttraining's l1: 2.84357\tvalid_1's l1: 2.84318\n",
      "[15000]\ttraining's l1: 2.84344\tvalid_1's l1: 2.84317\n",
      "[16000]\ttraining's l1: 2.84331\tvalid_1's l1: 2.84315\n",
      "[17000]\ttraining's l1: 2.84318\tvalid_1's l1: 2.84314\n",
      "[18000]\ttraining's l1: 2.84306\tvalid_1's l1: 2.84312\n",
      "[19000]\ttraining's l1: 2.84293\tvalid_1's l1: 2.84312\n",
      "[20000]\ttraining's l1: 2.8428\tvalid_1's l1: 2.84311\n",
      "[21000]\ttraining's l1: 2.84268\tvalid_1's l1: 2.84309\n",
      "[22000]\ttraining's l1: 2.84256\tvalid_1's l1: 2.84308\n",
      "[23000]\ttraining's l1: 2.84244\tvalid_1's l1: 2.84306\n",
      "[24000]\ttraining's l1: 2.84233\tvalid_1's l1: 2.84305\n",
      "[25000]\ttraining's l1: 2.84221\tvalid_1's l1: 2.84304\n",
      "[26000]\ttraining's l1: 2.84209\tvalid_1's l1: 2.84304\n",
      "[27000]\ttraining's l1: 2.84199\tvalid_1's l1: 2.84304\n",
      "[28000]\ttraining's l1: 2.84189\tvalid_1's l1: 2.84304\n",
      "[29000]\ttraining's l1: 2.84179\tvalid_1's l1: 2.84304\n",
      "[30000]\ttraining's l1: 2.8417\tvalid_1's l1: 2.84305\n",
      "[31000]\ttraining's l1: 2.8416\tvalid_1's l1: 2.84305\n",
      "[32000]\ttraining's l1: 2.8415\tvalid_1's l1: 2.84305\n",
      "[33000]\ttraining's l1: 2.84141\tvalid_1's l1: 2.84306\n",
      "[34000]\ttraining's l1: 2.8413\tvalid_1's l1: 2.84306\n",
      "[35000]\ttraining's l1: 2.8412\tvalid_1's l1: 2.84307\n",
      "[36000]\ttraining's l1: 2.84111\tvalid_1's l1: 2.84308\n",
      "[37000]\ttraining's l1: 2.84102\tvalid_1's l1: 2.84309\n",
      "[38000]\ttraining's l1: 2.84093\tvalid_1's l1: 2.84309\n",
      "[39000]\ttraining's l1: 2.84084\tvalid_1's l1: 2.8431\n",
      "[40000]\ttraining's l1: 2.84074\tvalid_1's l1: 2.84311\n",
      "[41000]\ttraining's l1: 2.84065\tvalid_1's l1: 2.84312\n",
      "[42000]\ttraining's l1: 2.84055\tvalid_1's l1: 2.84313\n",
      "[43000]\ttraining's l1: 2.84046\tvalid_1's l1: 2.84313\n",
      "[44000]\ttraining's l1: 2.84037\tvalid_1's l1: 2.84313\n",
      "[45000]\ttraining's l1: 2.84027\tvalid_1's l1: 2.84313\n",
      "Early stopping, best iteration is:\n",
      "[25894]\ttraining's l1: 2.84211\tvalid_1's l1: 2.84304\n",
      "CPU times: user 1h 33min 30s, sys: 11.8 s, total: 1h 33min 42s\n",
      "Wall time: 9min 59s\n"
     ]
    },
    {
     "data": {
      "text/plain": [
       "LGBMRegressor(boosting='gbdt', boosting_type='gbdt', class_weight=None,\n",
       "       colsample_bytree=1.0, learning_rate=0.001, max_depth=5,\n",
       "       metric='mae', min_child_samples=20, min_child_weight=0.001,\n",
       "       min_data_in_leaf=8, min_split_gain=0.0, n_estimators=20000,\n",
       "       n_jobs=10, nthread=10, num_iterations=100000, num_leaves=27,\n",
       "       objective='regression', random_state=42, reg_alpha=0.0,\n",
       "       reg_lambda=0.0, silent=True, subsample=1.0,\n",
       "       subsample_for_bin=200000, subsample_freq=0, verbosity=-1)"
      ]
     },
     "execution_count": 139,
     "metadata": {},
     "output_type": "execute_result"
    }
   ],
   "source": [
    "%%time\n",
    "model.fit(\n",
    "    X_train,\n",
    "    y_train,\n",
    "    eval_set=[(X_train, y_train), (X_valid, y_valid)],\n",
    "    eval_metric='mae',\n",
    "    verbose=1000,\n",
    "    early_stopping_rounds=20000\n",
    ")"
   ]
  },
  {
   "cell_type": "code",
   "execution_count": 127,
   "metadata": {},
   "outputs": [],
   "source": [
    "X_test = holdout_df[holdout_df.columns.drop('time_to_failure')]"
   ]
  },
  {
   "cell_type": "code",
   "execution_count": 128,
   "metadata": {},
   "outputs": [],
   "source": [
    "y_test = holdout_df['time_to_failure']"
   ]
  },
  {
   "cell_type": "code",
   "execution_count": 134,
   "metadata": {},
   "outputs": [],
   "source": [
    "y_predict = model.predict(X_test)"
   ]
  },
  {
   "cell_type": "code",
   "execution_count": 135,
   "metadata": {},
   "outputs": [
    {
     "data": {
      "text/plain": [
       "2.8447993698125047"
      ]
     },
     "execution_count": 135,
     "metadata": {},
     "output_type": "execute_result"
    }
   ],
   "source": [
    "mean_absolute_error(y_test, y_predict)"
   ]
  },
  {
   "cell_type": "code",
   "execution_count": null,
   "metadata": {},
   "outputs": [],
   "source": [
    "2.843063059848607, 2.8431104124307693, 2.8429766961521667, 2.842999310177736, 2.842972294755831, 2.843032369729009"
   ]
  },
  {
   "cell_type": "code",
   "execution_count": 147,
   "metadata": {},
   "outputs": [],
   "source": [
    "def train_models(\n",
    "        earthquake_margin_indexes,\n",
    "        complete_earthquakes_length,\n",
    "        params,\n",
    "        sample_size=None,\n",
    "        holdout_size=None,\n",
    "        not_seen_data_begin=1,\n",
    "        not_seen_data_end=5656572\n",
    "    ):\n",
    "    not_seen_data_df = pd.read_csv(\n",
    "        '../input/train/train.csv',\n",
    "        #nrows=100000000,\n",
    "        names=['acoustic_data', 'time_to_failure'],\n",
    "        dtype={'acoustic_data': np.float32, 'time_to_failure': np.float32},\n",
    "        skiprows=not_seen_data_begin,\n",
    "        nrows=not_seen_data_end\n",
    "    )\n",
    "    \n",
    "    not_seen_data_df, _ = add_features(\n",
    "        not_seen_data_df,\n",
    "        sample_size=not_seen_data_df.shape[0],\n",
    "        holdout_size=0\n",
    "    )\n",
    "    for i in range(len(complete_earthquakes_length)):\n",
    "        earthquake_df = pd.read_csv(\n",
    "                '../input/train/train.csv',\n",
    "                #nrows=100000000,\n",
    "                names=['acoustic_data', 'time_to_failure'],\n",
    "                dtype={'acoustic_data': np.float32, 'time_to_failure': np.float32},\n",
    "                skiprows=earthquake_margin_indexes[i],\n",
    "                nrows=complete_earthquakes_length[i]\n",
    "            )\n",
    "        if not sample_size:\n",
    "            sample_size = complete_earthquakes_length[i] // 100\n",
    "        if not holdout_size:\n",
    "            holdout_size = complete_earthquakes_length[i] // 500\n",
    "        earthquake_add_features_df, holdout_add_features_df = add_features(\n",
    "                earthquake_df,\n",
    "                sample_size=sample_size,\n",
    "                holdout_size=holdout_size\n",
    "            )\n",
    "        X_all = earthquake_add_features_df[earthquake_add_features_df.columns.drop('time_to_failure')]\n",
    "        y_all = earthquake_add_features_df['time_to_failure']\n",
    "\n",
    "        X_train, X_valid, y_train, y_valid = train_test_split(X_all, y_all, test_size=0.2, random_state=0)\n",
    "\n",
    "        model = lgb.LGBMRegressor(**params, n_estimators = 20000, n_jobs = 10, num_iterations=40000)\n",
    "        model.fit(\n",
    "                X_train,\n",
    "                y_train,\n",
    "                eval_set=[(X_train, y_train), (X_valid, y_valid)],\n",
    "                eval_metric='mae',\n",
    "                verbose=1000,\n",
    "                early_stopping_rounds=4000\n",
    "            )\n",
    "        X_holdout = holdout_df[holdout_df.columns.drop('time_to_failure')]\n",
    "        y_holdout = holdout_df['time_to_failure']\n",
    "        \n",
    "        y_holdout_predict = model.predict(X_holdout)\n",
    "        print(\"earthquake {} mae {}\".format(i, mean_absolute_error(y_holdout, y_holdout_predict)))\n",
    "\n",
    "        not_seen_data_predict = model.predict(not_seen_data_df)\n",
    "        not_seen_data_predict_df = pd.DataFrame({'time_to_failure': not_seen_data_predict})\n",
    "        not_seen_data_predict_df.to_csv('not_seend_data_earthquake_{}_model_predict.csv', index=False)\n",
    "\n",
    "        model.save_model('earthquake_{}_model.txt'.format(i))\n",
    "\n",
    "    return"
   ]
  },
  {
   "cell_type": "code",
   "execution_count": 148,
   "metadata": {},
   "outputs": [
    {
     "name": "stdout",
     "output_type": "stream",
     "text": [
      "Full calculation feature value time (with slicing) 5.262844908237457 min:\n",
      "Training until validation scores don't improve for 4000 rounds.\n"
     ]
    },
    {
     "name": "stderr",
     "output_type": "stream",
     "text": [
      "/home/uldo/miniconda3/envs/DS-New/lib/python3.6/site-packages/lightgbm/engine.py:102: UserWarning: Found `num_iterations` in params. Will use it instead of argument\n",
      "  warnings.warn(\"Found `{}` in params. Will use it instead of argument\".format(alias))\n"
     ]
    },
    {
     "name": "stdout",
     "output_type": "stream",
     "text": [
      "[1000]\ttraining's l1: 2.8488\tvalid_1's l1: 2.85001\n",
      "[2000]\ttraining's l1: 2.84174\tvalid_1's l1: 2.8436\n",
      "[3000]\ttraining's l1: 2.83938\tvalid_1's l1: 2.84201\n",
      "[4000]\ttraining's l1: 2.83811\tvalid_1's l1: 2.84143\n",
      "[5000]\ttraining's l1: 2.83737\tvalid_1's l1: 2.84125\n",
      "[6000]\ttraining's l1: 2.8368\tvalid_1's l1: 2.84115\n",
      "[7000]\ttraining's l1: 2.83624\tvalid_1's l1: 2.84109\n",
      "[8000]\ttraining's l1: 2.83566\tvalid_1's l1: 2.841\n",
      "[9000]\ttraining's l1: 2.83512\tvalid_1's l1: 2.84095\n",
      "[10000]\ttraining's l1: 2.83457\tvalid_1's l1: 2.84093\n",
      "[11000]\ttraining's l1: 2.83402\tvalid_1's l1: 2.84092\n",
      "[12000]\ttraining's l1: 2.83346\tvalid_1's l1: 2.84088\n",
      "[13000]\ttraining's l1: 2.83293\tvalid_1's l1: 2.84085\n",
      "[14000]\ttraining's l1: 2.83244\tvalid_1's l1: 2.84085\n",
      "[15000]\ttraining's l1: 2.83198\tvalid_1's l1: 2.84085\n",
      "[16000]\ttraining's l1: 2.83152\tvalid_1's l1: 2.84086\n",
      "[17000]\ttraining's l1: 2.83105\tvalid_1's l1: 2.84089\n",
      "Early stopping, best iteration is:\n",
      "[13383]\ttraining's l1: 2.83274\tvalid_1's l1: 2.84084\n",
      "earthquake 0 mae 2.8459869076372755\n"
     ]
    },
    {
     "ename": "ValueError",
     "evalue": "Number of features of the model must match the input. Model n_features_ is 4 and input n_features is 2 ",
     "output_type": "error",
     "traceback": [
      "\u001b[0;31m---------------------------------------------------------------------------\u001b[0m",
      "\u001b[0;31mValueError\u001b[0m                                Traceback (most recent call last)",
      "\u001b[0;32m<timed eval>\u001b[0m in \u001b[0;36m<module>\u001b[0;34m()\u001b[0m\n",
      "\u001b[0;32m<ipython-input-147-55e4bfecf53e>\u001b[0m in \u001b[0;36mtrain_models\u001b[0;34m(earthquake_margin_indexes, complete_earthquakes_length, params, sample_size, holdout_size, not_seen_data_begin, not_seen_data_end)\u001b[0m\n\u001b[1;32m     54\u001b[0m         \u001b[0mprint\u001b[0m\u001b[0;34m(\u001b[0m\u001b[0;34m\"earthquake {} mae {}\"\u001b[0m\u001b[0;34m.\u001b[0m\u001b[0mformat\u001b[0m\u001b[0;34m(\u001b[0m\u001b[0mi\u001b[0m\u001b[0;34m,\u001b[0m \u001b[0mmean_absolute_error\u001b[0m\u001b[0;34m(\u001b[0m\u001b[0my_holdout\u001b[0m\u001b[0;34m,\u001b[0m \u001b[0my_holdout_predict\u001b[0m\u001b[0;34m)\u001b[0m\u001b[0;34m)\u001b[0m\u001b[0;34m)\u001b[0m\u001b[0;34m\u001b[0m\u001b[0m\n\u001b[1;32m     55\u001b[0m \u001b[0;34m\u001b[0m\u001b[0m\n\u001b[0;32m---> 56\u001b[0;31m         \u001b[0mnot_seen_data_predict\u001b[0m \u001b[0;34m=\u001b[0m \u001b[0mmodel\u001b[0m\u001b[0;34m.\u001b[0m\u001b[0mpredict\u001b[0m\u001b[0;34m(\u001b[0m\u001b[0mnot_seen_data_df\u001b[0m\u001b[0;34m)\u001b[0m\u001b[0;34m\u001b[0m\u001b[0m\n\u001b[0m\u001b[1;32m     57\u001b[0m         \u001b[0mnot_seen_data_predict_df\u001b[0m \u001b[0;34m=\u001b[0m \u001b[0mpd\u001b[0m\u001b[0;34m.\u001b[0m\u001b[0mDataFrame\u001b[0m\u001b[0;34m(\u001b[0m\u001b[0;34m{\u001b[0m\u001b[0;34m'time_to_failure'\u001b[0m\u001b[0;34m:\u001b[0m \u001b[0mnot_seen_data_predict\u001b[0m\u001b[0;34m}\u001b[0m\u001b[0;34m)\u001b[0m\u001b[0;34m\u001b[0m\u001b[0m\n\u001b[1;32m     58\u001b[0m         \u001b[0mnot_seen_data_predict_df\u001b[0m\u001b[0;34m.\u001b[0m\u001b[0mto_csv\u001b[0m\u001b[0;34m(\u001b[0m\u001b[0;34m'not_seend_data_earthquake_{}_model_predict.csv'\u001b[0m\u001b[0;34m,\u001b[0m \u001b[0mindex\u001b[0m\u001b[0;34m=\u001b[0m\u001b[0;32mFalse\u001b[0m\u001b[0;34m)\u001b[0m\u001b[0;34m\u001b[0m\u001b[0m\n",
      "\u001b[0;32m~/miniconda3/envs/DS-New/lib/python3.6/site-packages/lightgbm/sklearn.py\u001b[0m in \u001b[0;36mpredict\u001b[0;34m(self, X, raw_score, num_iteration, pred_leaf, pred_contrib, **kwargs)\u001b[0m\n\u001b[1;32m    524\u001b[0m                              \u001b[0;34m\"match the input. Model n_features_ is %s and \"\u001b[0m\u001b[0;34m\u001b[0m\u001b[0m\n\u001b[1;32m    525\u001b[0m                              \u001b[0;34m\"input n_features is %s \"\u001b[0m\u001b[0;34m\u001b[0m\u001b[0m\n\u001b[0;32m--> 526\u001b[0;31m                              % (self._n_features, n_features))\n\u001b[0m\u001b[1;32m    527\u001b[0m         return self.booster_.predict(X, raw_score=raw_score, num_iteration=num_iteration,\n\u001b[1;32m    528\u001b[0m                                      pred_leaf=pred_leaf, pred_contrib=pred_contrib, **kwargs)\n",
      "\u001b[0;31mValueError\u001b[0m: Number of features of the model must match the input. Model n_features_ is 4 and input n_features is 2 "
     ]
    }
   ],
   "source": [
    "%%time\n",
    "train_models(earthquake_margin_indexes, complete_earthquakes_length, params)"
   ]
  },
  {
   "cell_type": "code",
   "execution_count": null,
   "metadata": {},
   "outputs": [],
   "source": []
  }
 ],
 "metadata": {
  "kernelspec": {
   "display_name": "Python 3",
   "language": "python",
   "name": "python3"
  },
  "language_info": {
   "codemirror_mode": {
    "name": "ipython",
    "version": 3
   },
   "file_extension": ".py",
   "mimetype": "text/x-python",
   "name": "python",
   "nbconvert_exporter": "python",
   "pygments_lexer": "ipython3",
   "version": "3.6.6"
  }
 },
 "nbformat": 4,
 "nbformat_minor": 2
}
