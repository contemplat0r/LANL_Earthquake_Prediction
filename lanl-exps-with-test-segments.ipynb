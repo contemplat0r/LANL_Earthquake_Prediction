{
 "cells": [
  {
   "cell_type": "code",
   "execution_count": 1,
   "metadata": {},
   "outputs": [],
   "source": [
    "import numpy as np\n",
    "import pandas as pd\n",
    "import os\n",
    "\n",
    "import matplotlib.pyplot as plt\n",
    "\n",
    "from tqdm import tqdm_notebook\n",
    "from sklearn.preprocessing import StandardScaler\n",
    "from sklearn.svm import NuSVR, SVR\n",
    "from sklearn.metrics import mean_absolute_error\n",
    "pd.options.display.precision = 15\n",
    "\n",
    "import lightgbm as lgb\n",
    "import xgboost as xgb\n",
    "import time\n",
    "import datetime\n",
    "from catboost import CatBoostRegressor\n",
    "from sklearn.preprocessing import LabelEncoder\n",
    "from sklearn.model_selection import StratifiedKFold, KFold, RepeatedKFold\n",
    "from sklearn.metrics import mean_absolute_error\n",
    "from sklearn.linear_model import LinearRegression\n",
    "import gc\n",
    "import seaborn as sns\n",
    "import warnings\n",
    "warnings.filterwarnings(\"ignore\")\n",
    "\n",
    "from scipy.signal import hilbert\n",
    "from scipy.signal import hann\n",
    "from scipy.signal import convolve\n",
    "from scipy import stats\n",
    "from sklearn.kernel_ridge import KernelRidge"
   ]
  },
  {
   "cell_type": "code",
   "execution_count": 2,
   "metadata": {},
   "outputs": [],
   "source": [
    "seg_list = os.listdir('../input/test/')"
   ]
  },
  {
   "cell_type": "code",
   "execution_count": 3,
   "metadata": {},
   "outputs": [
    {
     "data": {
      "text/plain": [
       "'seg_1a671a.csv'"
      ]
     },
     "execution_count": 3,
     "metadata": {},
     "output_type": "execute_result"
    }
   ],
   "source": [
    "seg_list[0]"
   ]
  },
  {
   "cell_type": "code",
   "execution_count": 6,
   "metadata": {},
   "outputs": [],
   "source": [
    "seg_df = pd.read_csv('../input/test/{}'.format(seg_list[0]))"
   ]
  },
  {
   "cell_type": "code",
   "execution_count": 11,
   "metadata": {},
   "outputs": [
    {
     "data": {
      "text/html": [
       "<div>\n",
       "<style scoped>\n",
       "    .dataframe tbody tr th:only-of-type {\n",
       "        vertical-align: middle;\n",
       "    }\n",
       "\n",
       "    .dataframe tbody tr th {\n",
       "        vertical-align: top;\n",
       "    }\n",
       "\n",
       "    .dataframe thead th {\n",
       "        text-align: right;\n",
       "    }\n",
       "</style>\n",
       "<table border=\"1\" class=\"dataframe\">\n",
       "  <thead>\n",
       "    <tr style=\"text-align: right;\">\n",
       "      <th></th>\n",
       "      <th>acoustic_data</th>\n",
       "    </tr>\n",
       "  </thead>\n",
       "  <tbody>\n",
       "    <tr>\n",
       "      <th>0</th>\n",
       "      <td>5</td>\n",
       "    </tr>\n",
       "    <tr>\n",
       "      <th>1</th>\n",
       "      <td>2</td>\n",
       "    </tr>\n",
       "    <tr>\n",
       "      <th>2</th>\n",
       "      <td>0</td>\n",
       "    </tr>\n",
       "    <tr>\n",
       "      <th>3</th>\n",
       "      <td>0</td>\n",
       "    </tr>\n",
       "    <tr>\n",
       "      <th>4</th>\n",
       "      <td>-1</td>\n",
       "    </tr>\n",
       "  </tbody>\n",
       "</table>\n",
       "</div>"
      ],
      "text/plain": [
       "   acoustic_data\n",
       "0              5\n",
       "1              2\n",
       "2              0\n",
       "3              0\n",
       "4             -1"
      ]
     },
     "execution_count": 11,
     "metadata": {},
     "output_type": "execute_result"
    }
   ],
   "source": [
    "seg_df.head()"
   ]
  },
  {
   "cell_type": "code",
   "execution_count": 9,
   "metadata": {},
   "outputs": [
    {
     "data": {
      "text/plain": [
       "150"
      ]
     },
     "execution_count": 9,
     "metadata": {},
     "output_type": "execute_result"
    }
   ],
   "source": [
    "seg_df.shape[0] // step"
   ]
  },
  {
   "cell_type": "code",
   "execution_count": 21,
   "metadata": {},
   "outputs": [
    {
     "data": {
      "text/plain": [
       "\"\\nfor i in range(seg_df.shape[0] // step):\\n    test_df['seg_id'] = seg_id\\n    test_df['acoustic_data_mean'] = seg_df.iloc[i:i+step]['acoustic_data'].mean()\\n\""
      ]
     },
     "execution_count": 21,
     "metadata": {},
     "output_type": "execute_result"
    }
   ],
   "source": [
    "test_df = pd.DataFrame(columns=('seg_id', 'acoustic_data_mean'))\n",
    "step = 1000\n",
    "seg_id = 'seg_1a671a'\n",
    "seg_id_lst = [seg_id for _ in range(seg_df.shape[0] // step)]\n",
    "acoustic_data_mean_lst = [seg_df.iloc[i:i+step]['acoustic_data'].mean() for i in range(seg_df.shape[0] // step)]\n",
    "'''\n",
    "for i in range(seg_df.shape[0] // step):\n",
    "    test_df['seg_id'] = seg_id\n",
    "    test_df['acoustic_data_mean'] = seg_df.iloc[i:i+step]['acoustic_data'].mean()\n",
    "'''"
   ]
  },
  {
   "cell_type": "code",
   "execution_count": 23,
   "metadata": {},
   "outputs": [],
   "source": [
    "test_df['seg_id'] = seg_id_lst"
   ]
  },
  {
   "cell_type": "code",
   "execution_count": 24,
   "metadata": {},
   "outputs": [],
   "source": [
    "test_df['acoustic_data_mean'] = acoustic_data_mean_lst"
   ]
  },
  {
   "cell_type": "code",
   "execution_count": 25,
   "metadata": {},
   "outputs": [
    {
     "name": "stdout",
     "output_type": "stream",
     "text": [
      "<class 'pandas.core.frame.DataFrame'>\n",
      "RangeIndex: 150 entries, 0 to 149\n",
      "Data columns (total 2 columns):\n",
      "seg_id                150 non-null object\n",
      "acoustic_data_mean    150 non-null float64\n",
      "dtypes: float64(1), object(1)\n",
      "memory usage: 2.4+ KB\n"
     ]
    }
   ],
   "source": [
    "test_df.info()"
   ]
  },
  {
   "cell_type": "code",
   "execution_count": 26,
   "metadata": {},
   "outputs": [
    {
     "data": {
      "text/html": [
       "<div>\n",
       "<style scoped>\n",
       "    .dataframe tbody tr th:only-of-type {\n",
       "        vertical-align: middle;\n",
       "    }\n",
       "\n",
       "    .dataframe tbody tr th {\n",
       "        vertical-align: top;\n",
       "    }\n",
       "\n",
       "    .dataframe thead th {\n",
       "        text-align: right;\n",
       "    }\n",
       "</style>\n",
       "<table border=\"1\" class=\"dataframe\">\n",
       "  <thead>\n",
       "    <tr style=\"text-align: right;\">\n",
       "      <th></th>\n",
       "      <th>seg_id</th>\n",
       "      <th>acoustic_data_mean</th>\n",
       "    </tr>\n",
       "  </thead>\n",
       "  <tbody>\n",
       "    <tr>\n",
       "      <th>0</th>\n",
       "      <td>seg_1a671a</td>\n",
       "      <td>4.085</td>\n",
       "    </tr>\n",
       "    <tr>\n",
       "      <th>1</th>\n",
       "      <td>seg_1a671a</td>\n",
       "      <td>4.076</td>\n",
       "    </tr>\n",
       "    <tr>\n",
       "      <th>2</th>\n",
       "      <td>seg_1a671a</td>\n",
       "      <td>4.069</td>\n",
       "    </tr>\n",
       "    <tr>\n",
       "      <th>3</th>\n",
       "      <td>seg_1a671a</td>\n",
       "      <td>4.063</td>\n",
       "    </tr>\n",
       "    <tr>\n",
       "      <th>4</th>\n",
       "      <td>seg_1a671a</td>\n",
       "      <td>4.061</td>\n",
       "    </tr>\n",
       "  </tbody>\n",
       "</table>\n",
       "</div>"
      ],
      "text/plain": [
       "       seg_id  acoustic_data_mean\n",
       "0  seg_1a671a               4.085\n",
       "1  seg_1a671a               4.076\n",
       "2  seg_1a671a               4.069\n",
       "3  seg_1a671a               4.063\n",
       "4  seg_1a671a               4.061"
      ]
     },
     "execution_count": 26,
     "metadata": {},
     "output_type": "execute_result"
    }
   ],
   "source": [
    "test_df.head()"
   ]
  },
  {
   "cell_type": "code",
   "execution_count": 28,
   "metadata": {},
   "outputs": [
    {
     "name": "stdout",
     "output_type": "stream",
     "text": [
      "CPU times: user 2min 19s, sys: 7.64 s, total: 2min 27s\n",
      "Wall time: 2min 27s\n"
     ]
    }
   ],
   "source": [
    "%%time\n",
    "train_df = pd.read_csv('../input/train/train.csv', dtype={'acoustic_data': np.int16, 'time_to_failure': np.float32})"
   ]
  },
  {
   "cell_type": "code",
   "execution_count": 48,
   "metadata": {},
   "outputs": [],
   "source": [
    "rows = 15000\n",
    "segments = train_df.shape[0] // rows\n",
    "#rows = 150_000\n",
    "#rows = 150_00\n",
    "#segments = int(np.floor(train_df.shape[0] / rows))"
   ]
  },
  {
   "cell_type": "code",
   "execution_count": 49,
   "metadata": {},
   "outputs": [
    {
     "name": "stdout",
     "output_type": "stream",
     "text": [
      "15000\n",
      "41943\n"
     ]
    }
   ],
   "source": [
    "print(rows)\n",
    "print(segments)"
   ]
  },
  {
   "cell_type": "code",
   "execution_count": 50,
   "metadata": {},
   "outputs": [],
   "source": [
    "X_tr = pd.DataFrame(index=range(segments), dtype=np.float64)\n",
    "\n",
    "y_tr = pd.DataFrame(index=range(segments), dtype=np.float64, columns=['time_to_failure'])"
   ]
  },
  {
   "cell_type": "code",
   "execution_count": 51,
   "metadata": {},
   "outputs": [
    {
     "name": "stdout",
     "output_type": "stream",
     "text": [
      "(41943, 0)\n",
      "(41943, 1)\n"
     ]
    }
   ],
   "source": [
    "print(X_tr.shape)\n",
    "print(y_tr.shape)"
   ]
  },
  {
   "cell_type": "code",
   "execution_count": 31,
   "metadata": {},
   "outputs": [],
   "source": [
    "subsegments = 10"
   ]
  },
  {
   "cell_type": "code",
   "execution_count": 52,
   "metadata": {},
   "outputs": [
    {
     "data": {
      "application/vnd.jupyter.widget-view+json": {
       "model_id": "0c854be14f93453cba87f18a97db9cb0",
       "version_major": 2,
       "version_minor": 0
      },
      "text/plain": [
       "HBox(children=(IntProgress(value=0, max=41943), HTML(value='')))"
      ]
     },
     "metadata": {},
     "output_type": "display_data"
    }
   ],
   "source": [
    "for segment in tqdm_notebook(range(segments)):\n",
    "    seg = train_df.iloc[segment*rows:segment*rows+rows]\n",
    "    #for subseg in range(subsegments):\n",
    "    x = pd.Series(seg['acoustic_data'].values)\n",
    "    y = 0\n",
    "    #print(seg.shape)\n",
    "    try:\n",
    "        y = seg['time_to_failure'].values[-1]\n",
    "    except:\n",
    "        print(\"seg:\\n\", seg)\n",
    "        print(\"prev_seg:\\n\", prev_seg)\n",
    "        raise Exception(\"Stop!\")\n",
    "    prev_seg = seg\n",
    "    y_tr.loc[segment, 'time_to_failure'] = y\n",
    "    X_tr.loc[segment, 'mean'] = x.mean()\n",
    "    #X_tr.loc[segment, 'std'] = x.std()\n",
    "    #X_tr.loc[segment, 'max'] = x.max()\n",
    "    #X_tr.loc[segment, 'min'] = x.min()"
   ]
  },
  {
   "cell_type": "code",
   "execution_count": 53,
   "metadata": {},
   "outputs": [],
   "source": []
  },
  {
   "cell_type": "code",
   "execution_count": 56,
   "metadata": {},
   "outputs": [],
   "source": [
    "seg_chunk_len = 15000\n",
    "chunks_num = 10\n",
    "file_num = 20"
   ]
  },
  {
   "cell_type": "code",
   "execution_count": 57,
   "metadata": {},
   "outputs": [],
   "source": [
    "X_test = pd.DataFrame(columns=['seg_id', 'mean', 'std'], dtype=np.float64, index=range(file_num * chunks_num))"
   ]
  },
  {
   "cell_type": "code",
   "execution_count": 59,
   "metadata": {},
   "outputs": [
    {
     "data": {
      "application/vnd.jupyter.widget-view+json": {
       "model_id": "839ea900d6c840cd83bef686d6c7b395",
       "version_major": 2,
       "version_minor": 0
      },
      "text/plain": [
       "HBox(children=(IntProgress(value=0, max=20), HTML(value='')))"
      ]
     },
     "metadata": {},
     "output_type": "display_data"
    }
   ],
   "source": [
    "test_idx = 0\n",
    "for i, seg_filename in enumerate(tqdm_notebook(os.listdir('../input/test/')[:file_num])):\n",
    "    seg_df = pd.read_csv('../input/test/{}'.format(seg_filename))\n",
    "    seg_id = seg_filename[:-4]\n",
    "    x = pd.Series(seg_df['acoustic_data'].values)\n",
    "    for chunk_idx in range(chunks_num):\n",
    "        x_chunk = x[chunk_idx * seg_chunk_len:(chunk_idx + 1) * seg_chunk_len]\n",
    "        X_test.iloc[test_idx]['seg_id'] = seg_id\n",
    "        X_test.iloc[test_idx]['mean'] = x_chunk.mean()\n",
    "        X_test.iloc[test_idx]['std'] = x_chunk.std()\n",
    "        #X_test.loc[seg_id, 'max'] = x_chunk.max()\n",
    "        #X_test.loc[seg_id, 'min'] = x_chunk.min()\n",
    "        test_idx += 1"
   ]
  },
  {
   "cell_type": "code",
   "execution_count": 60,
   "metadata": {},
   "outputs": [
    {
     "data": {
      "text/plain": [
       "(200, 3)"
      ]
     },
     "execution_count": 60,
     "metadata": {},
     "output_type": "execute_result"
    }
   ],
   "source": [
    "X_test.shape"
   ]
  },
  {
   "cell_type": "code",
   "execution_count": 61,
   "metadata": {},
   "outputs": [
    {
     "data": {
      "text/html": [
       "<div>\n",
       "<style scoped>\n",
       "    .dataframe tbody tr th:only-of-type {\n",
       "        vertical-align: middle;\n",
       "    }\n",
       "\n",
       "    .dataframe tbody tr th {\n",
       "        vertical-align: top;\n",
       "    }\n",
       "\n",
       "    .dataframe thead th {\n",
       "        text-align: right;\n",
       "    }\n",
       "</style>\n",
       "<table border=\"1\" class=\"dataframe\">\n",
       "  <thead>\n",
       "    <tr style=\"text-align: right;\">\n",
       "      <th></th>\n",
       "      <th>seg_id</th>\n",
       "      <th>mean</th>\n",
       "      <th>std</th>\n",
       "    </tr>\n",
       "  </thead>\n",
       "  <tbody>\n",
       "    <tr>\n",
       "      <th>0</th>\n",
       "      <td>NaN</td>\n",
       "      <td>3.933666666666667</td>\n",
       "      <td>4.735647964780742</td>\n",
       "    </tr>\n",
       "    <tr>\n",
       "      <th>1</th>\n",
       "      <td>NaN</td>\n",
       "      <td>3.997000000000000</td>\n",
       "      <td>4.465518304024918</td>\n",
       "    </tr>\n",
       "    <tr>\n",
       "      <th>2</th>\n",
       "      <td>NaN</td>\n",
       "      <td>4.210200000000000</td>\n",
       "      <td>3.516064107367850</td>\n",
       "    </tr>\n",
       "    <tr>\n",
       "      <th>3</th>\n",
       "      <td>NaN</td>\n",
       "      <td>4.081666666666667</td>\n",
       "      <td>4.129503692003642</td>\n",
       "    </tr>\n",
       "    <tr>\n",
       "      <th>4</th>\n",
       "      <td>NaN</td>\n",
       "      <td>4.003666666666667</td>\n",
       "      <td>5.735373820110826</td>\n",
       "    </tr>\n",
       "    <tr>\n",
       "      <th>5</th>\n",
       "      <td>NaN</td>\n",
       "      <td>3.991666666666667</td>\n",
       "      <td>4.538461971273220</td>\n",
       "    </tr>\n",
       "    <tr>\n",
       "      <th>6</th>\n",
       "      <td>NaN</td>\n",
       "      <td>4.056933333333333</td>\n",
       "      <td>4.673323006749827</td>\n",
       "    </tr>\n",
       "    <tr>\n",
       "      <th>7</th>\n",
       "      <td>NaN</td>\n",
       "      <td>3.933733333333334</td>\n",
       "      <td>6.712511644910651</td>\n",
       "    </tr>\n",
       "    <tr>\n",
       "      <th>8</th>\n",
       "      <td>NaN</td>\n",
       "      <td>3.832266666666666</td>\n",
       "      <td>8.034536023535924</td>\n",
       "    </tr>\n",
       "    <tr>\n",
       "      <th>9</th>\n",
       "      <td>NaN</td>\n",
       "      <td>3.806600000000000</td>\n",
       "      <td>17.325511286234008</td>\n",
       "    </tr>\n",
       "    <tr>\n",
       "      <th>10</th>\n",
       "      <td>NaN</td>\n",
       "      <td>4.487200000000000</td>\n",
       "      <td>4.227051063177817</td>\n",
       "    </tr>\n",
       "    <tr>\n",
       "      <th>11</th>\n",
       "      <td>NaN</td>\n",
       "      <td>4.504200000000000</td>\n",
       "      <td>5.540315457296431</td>\n",
       "    </tr>\n",
       "    <tr>\n",
       "      <th>12</th>\n",
       "      <td>NaN</td>\n",
       "      <td>4.205066666666666</td>\n",
       "      <td>3.031769632414237</td>\n",
       "    </tr>\n",
       "    <tr>\n",
       "      <th>13</th>\n",
       "      <td>NaN</td>\n",
       "      <td>4.070800000000000</td>\n",
       "      <td>2.886348805549175</td>\n",
       "    </tr>\n",
       "    <tr>\n",
       "      <th>14</th>\n",
       "      <td>NaN</td>\n",
       "      <td>4.243133333333334</td>\n",
       "      <td>3.151975334948392</td>\n",
       "    </tr>\n",
       "    <tr>\n",
       "      <th>15</th>\n",
       "      <td>NaN</td>\n",
       "      <td>4.412533333333333</td>\n",
       "      <td>2.876473742096068</td>\n",
       "    </tr>\n",
       "    <tr>\n",
       "      <th>16</th>\n",
       "      <td>NaN</td>\n",
       "      <td>4.499933333333333</td>\n",
       "      <td>2.985709456665120</td>\n",
       "    </tr>\n",
       "    <tr>\n",
       "      <th>17</th>\n",
       "      <td>NaN</td>\n",
       "      <td>4.417933333333333</td>\n",
       "      <td>4.039119461956704</td>\n",
       "    </tr>\n",
       "    <tr>\n",
       "      <th>18</th>\n",
       "      <td>NaN</td>\n",
       "      <td>4.435733333333333</td>\n",
       "      <td>2.821985241327289</td>\n",
       "    </tr>\n",
       "    <tr>\n",
       "      <th>19</th>\n",
       "      <td>NaN</td>\n",
       "      <td>4.419266666666666</td>\n",
       "      <td>3.398252296421436</td>\n",
       "    </tr>\n",
       "  </tbody>\n",
       "</table>\n",
       "</div>"
      ],
      "text/plain": [
       "    seg_id               mean                 std\n",
       "0      NaN  3.933666666666667   4.735647964780742\n",
       "1      NaN  3.997000000000000   4.465518304024918\n",
       "2      NaN  4.210200000000000   3.516064107367850\n",
       "3      NaN  4.081666666666667   4.129503692003642\n",
       "4      NaN  4.003666666666667   5.735373820110826\n",
       "5      NaN  3.991666666666667   4.538461971273220\n",
       "6      NaN  4.056933333333333   4.673323006749827\n",
       "7      NaN  3.933733333333334   6.712511644910651\n",
       "8      NaN  3.832266666666666   8.034536023535924\n",
       "9      NaN  3.806600000000000  17.325511286234008\n",
       "10     NaN  4.487200000000000   4.227051063177817\n",
       "11     NaN  4.504200000000000   5.540315457296431\n",
       "12     NaN  4.205066666666666   3.031769632414237\n",
       "13     NaN  4.070800000000000   2.886348805549175\n",
       "14     NaN  4.243133333333334   3.151975334948392\n",
       "15     NaN  4.412533333333333   2.876473742096068\n",
       "16     NaN  4.499933333333333   2.985709456665120\n",
       "17     NaN  4.417933333333333   4.039119461956704\n",
       "18     NaN  4.435733333333333   2.821985241327289\n",
       "19     NaN  4.419266666666666   3.398252296421436"
      ]
     },
     "execution_count": 61,
     "metadata": {},
     "output_type": "execute_result"
    }
   ],
   "source": [
    "X_test.head(20)"
   ]
  },
  {
   "cell_type": "code",
   "execution_count": 62,
   "metadata": {},
   "outputs": [
    {
     "data": {
      "text/html": [
       "<div>\n",
       "<style scoped>\n",
       "    .dataframe tbody tr th:only-of-type {\n",
       "        vertical-align: middle;\n",
       "    }\n",
       "\n",
       "    .dataframe tbody tr th {\n",
       "        vertical-align: top;\n",
       "    }\n",
       "\n",
       "    .dataframe thead th {\n",
       "        text-align: right;\n",
       "    }\n",
       "</style>\n",
       "<table border=\"1\" class=\"dataframe\">\n",
       "  <thead>\n",
       "    <tr style=\"text-align: right;\">\n",
       "      <th></th>\n",
       "      <th>seg_id</th>\n",
       "      <th>mean</th>\n",
       "      <th>std</th>\n",
       "    </tr>\n",
       "  </thead>\n",
       "  <tbody>\n",
       "    <tr>\n",
       "      <th>180</th>\n",
       "      <td>NaN</td>\n",
       "      <td>4.681400000000000</td>\n",
       "      <td>4.416030736060471</td>\n",
       "    </tr>\n",
       "    <tr>\n",
       "      <th>181</th>\n",
       "      <td>NaN</td>\n",
       "      <td>4.589733333333333</td>\n",
       "      <td>3.606422282678632</td>\n",
       "    </tr>\n",
       "    <tr>\n",
       "      <th>182</th>\n",
       "      <td>NaN</td>\n",
       "      <td>4.555800000000000</td>\n",
       "      <td>5.481492145733943</td>\n",
       "    </tr>\n",
       "    <tr>\n",
       "      <th>183</th>\n",
       "      <td>NaN</td>\n",
       "      <td>4.569933333333333</td>\n",
       "      <td>3.340357245563827</td>\n",
       "    </tr>\n",
       "    <tr>\n",
       "      <th>184</th>\n",
       "      <td>NaN</td>\n",
       "      <td>4.780866666666666</td>\n",
       "      <td>5.509162426382518</td>\n",
       "    </tr>\n",
       "    <tr>\n",
       "      <th>185</th>\n",
       "      <td>NaN</td>\n",
       "      <td>4.795333333333334</td>\n",
       "      <td>7.374677661674201</td>\n",
       "    </tr>\n",
       "    <tr>\n",
       "      <th>186</th>\n",
       "      <td>NaN</td>\n",
       "      <td>4.505666666666666</td>\n",
       "      <td>6.283592400672251</td>\n",
       "    </tr>\n",
       "    <tr>\n",
       "      <th>187</th>\n",
       "      <td>NaN</td>\n",
       "      <td>4.645800000000000</td>\n",
       "      <td>3.839200219301965</td>\n",
       "    </tr>\n",
       "    <tr>\n",
       "      <th>188</th>\n",
       "      <td>NaN</td>\n",
       "      <td>4.784866666666667</td>\n",
       "      <td>4.810155245774796</td>\n",
       "    </tr>\n",
       "    <tr>\n",
       "      <th>189</th>\n",
       "      <td>NaN</td>\n",
       "      <td>4.681866666666667</td>\n",
       "      <td>4.335148296149225</td>\n",
       "    </tr>\n",
       "    <tr>\n",
       "      <th>190</th>\n",
       "      <td>NaN</td>\n",
       "      <td>4.281333333333333</td>\n",
       "      <td>6.514820111174287</td>\n",
       "    </tr>\n",
       "    <tr>\n",
       "      <th>191</th>\n",
       "      <td>NaN</td>\n",
       "      <td>4.315333333333333</td>\n",
       "      <td>3.344325122191882</td>\n",
       "    </tr>\n",
       "    <tr>\n",
       "      <th>192</th>\n",
       "      <td>NaN</td>\n",
       "      <td>4.517066666666667</td>\n",
       "      <td>7.802822202971027</td>\n",
       "    </tr>\n",
       "    <tr>\n",
       "      <th>193</th>\n",
       "      <td>NaN</td>\n",
       "      <td>4.408000000000000</td>\n",
       "      <td>7.061401671026132</td>\n",
       "    </tr>\n",
       "    <tr>\n",
       "      <th>194</th>\n",
       "      <td>NaN</td>\n",
       "      <td>4.337066666666667</td>\n",
       "      <td>6.635760816741113</td>\n",
       "    </tr>\n",
       "    <tr>\n",
       "      <th>195</th>\n",
       "      <td>NaN</td>\n",
       "      <td>4.436266666666667</td>\n",
       "      <td>4.771357855573326</td>\n",
       "    </tr>\n",
       "    <tr>\n",
       "      <th>196</th>\n",
       "      <td>NaN</td>\n",
       "      <td>4.315333333333333</td>\n",
       "      <td>4.303727031304327</td>\n",
       "    </tr>\n",
       "    <tr>\n",
       "      <th>197</th>\n",
       "      <td>NaN</td>\n",
       "      <td>4.405400000000000</td>\n",
       "      <td>6.584421600554923</td>\n",
       "    </tr>\n",
       "    <tr>\n",
       "      <th>198</th>\n",
       "      <td>NaN</td>\n",
       "      <td>4.569000000000000</td>\n",
       "      <td>6.895806151289715</td>\n",
       "    </tr>\n",
       "    <tr>\n",
       "      <th>199</th>\n",
       "      <td>NaN</td>\n",
       "      <td>4.574333333333334</td>\n",
       "      <td>5.406418085262774</td>\n",
       "    </tr>\n",
       "  </tbody>\n",
       "</table>\n",
       "</div>"
      ],
      "text/plain": [
       "     seg_id               mean                std\n",
       "180     NaN  4.681400000000000  4.416030736060471\n",
       "181     NaN  4.589733333333333  3.606422282678632\n",
       "182     NaN  4.555800000000000  5.481492145733943\n",
       "183     NaN  4.569933333333333  3.340357245563827\n",
       "184     NaN  4.780866666666666  5.509162426382518\n",
       "185     NaN  4.795333333333334  7.374677661674201\n",
       "186     NaN  4.505666666666666  6.283592400672251\n",
       "187     NaN  4.645800000000000  3.839200219301965\n",
       "188     NaN  4.784866666666667  4.810155245774796\n",
       "189     NaN  4.681866666666667  4.335148296149225\n",
       "190     NaN  4.281333333333333  6.514820111174287\n",
       "191     NaN  4.315333333333333  3.344325122191882\n",
       "192     NaN  4.517066666666667  7.802822202971027\n",
       "193     NaN  4.408000000000000  7.061401671026132\n",
       "194     NaN  4.337066666666667  6.635760816741113\n",
       "195     NaN  4.436266666666667  4.771357855573326\n",
       "196     NaN  4.315333333333333  4.303727031304327\n",
       "197     NaN  4.405400000000000  6.584421600554923\n",
       "198     NaN  4.569000000000000  6.895806151289715\n",
       "199     NaN  4.574333333333334  5.406418085262774"
      ]
     },
     "execution_count": 62,
     "metadata": {},
     "output_type": "execute_result"
    }
   ],
   "source": [
    "X_test.tail(20)"
   ]
  },
  {
   "cell_type": "code",
   "execution_count": null,
   "metadata": {},
   "outputs": [],
   "source": []
  }
 ],
 "metadata": {
  "kernelspec": {
   "display_name": "Python 3",
   "language": "python",
   "name": "python3"
  },
  "language_info": {
   "codemirror_mode": {
    "name": "ipython",
    "version": 3
   },
   "file_extension": ".py",
   "mimetype": "text/x-python",
   "name": "python",
   "nbconvert_exporter": "python",
   "pygments_lexer": "ipython3",
   "version": "3.6.6"
  }
 },
 "nbformat": 4,
 "nbformat_minor": 2
}
