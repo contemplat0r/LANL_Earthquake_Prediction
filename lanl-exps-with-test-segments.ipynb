{
 "cells": [
  {
   "cell_type": "code",
   "execution_count": 1,
   "metadata": {},
   "outputs": [],
   "source": [
    "import numpy as np\n",
    "import pandas as pd\n",
    "import os\n",
    "\n",
    "import matplotlib.pyplot as plt\n",
    "\n",
    "from tqdm import tqdm_notebook\n",
    "from sklearn.preprocessing import StandardScaler\n",
    "from sklearn.svm import NuSVR, SVR\n",
    "from sklearn.metrics import mean_absolute_error\n",
    "pd.options.display.precision = 15\n",
    "\n",
    "import lightgbm as lgb\n",
    "import xgboost as xgb\n",
    "import time\n",
    "import datetime\n",
    "from catboost import CatBoostRegressor\n",
    "from sklearn.preprocessing import LabelEncoder\n",
    "from sklearn.model_selection import StratifiedKFold, KFold, RepeatedKFold\n",
    "from sklearn.metrics import mean_absolute_error\n",
    "from sklearn.linear_model import LinearRegression\n",
    "import gc\n",
    "import seaborn as sns\n",
    "import warnings\n",
    "warnings.filterwarnings(\"ignore\")\n",
    "\n",
    "from scipy.signal import hilbert\n",
    "from scipy.signal import hann\n",
    "from scipy.signal import convolve\n",
    "from scipy import stats\n",
    "from sklearn.kernel_ridge import KernelRidge"
   ]
  },
  {
   "cell_type": "code",
   "execution_count": 2,
   "metadata": {},
   "outputs": [],
   "source": [
    "seg_list = os.listdir('../input/test/')"
   ]
  },
  {
   "cell_type": "code",
   "execution_count": 3,
   "metadata": {},
   "outputs": [
    {
     "data": {
      "text/plain": [
       "'seg_1a671a.csv'"
      ]
     },
     "execution_count": 3,
     "metadata": {},
     "output_type": "execute_result"
    }
   ],
   "source": [
    "seg_list[0]"
   ]
  },
  {
   "cell_type": "code",
   "execution_count": 6,
   "metadata": {},
   "outputs": [],
   "source": [
    "seg_df = pd.read_csv('../input/test/{}'.format(seg_list[0]))"
   ]
  },
  {
   "cell_type": "code",
   "execution_count": 11,
   "metadata": {},
   "outputs": [
    {
     "data": {
      "text/html": [
       "<div>\n",
       "<style scoped>\n",
       "    .dataframe tbody tr th:only-of-type {\n",
       "        vertical-align: middle;\n",
       "    }\n",
       "\n",
       "    .dataframe tbody tr th {\n",
       "        vertical-align: top;\n",
       "    }\n",
       "\n",
       "    .dataframe thead th {\n",
       "        text-align: right;\n",
       "    }\n",
       "</style>\n",
       "<table border=\"1\" class=\"dataframe\">\n",
       "  <thead>\n",
       "    <tr style=\"text-align: right;\">\n",
       "      <th></th>\n",
       "      <th>acoustic_data</th>\n",
       "    </tr>\n",
       "  </thead>\n",
       "  <tbody>\n",
       "    <tr>\n",
       "      <th>0</th>\n",
       "      <td>5</td>\n",
       "    </tr>\n",
       "    <tr>\n",
       "      <th>1</th>\n",
       "      <td>2</td>\n",
       "    </tr>\n",
       "    <tr>\n",
       "      <th>2</th>\n",
       "      <td>0</td>\n",
       "    </tr>\n",
       "    <tr>\n",
       "      <th>3</th>\n",
       "      <td>0</td>\n",
       "    </tr>\n",
       "    <tr>\n",
       "      <th>4</th>\n",
       "      <td>-1</td>\n",
       "    </tr>\n",
       "  </tbody>\n",
       "</table>\n",
       "</div>"
      ],
      "text/plain": [
       "   acoustic_data\n",
       "0              5\n",
       "1              2\n",
       "2              0\n",
       "3              0\n",
       "4             -1"
      ]
     },
     "execution_count": 11,
     "metadata": {},
     "output_type": "execute_result"
    }
   ],
   "source": [
    "seg_df.head()"
   ]
  },
  {
   "cell_type": "code",
   "execution_count": 9,
   "metadata": {},
   "outputs": [
    {
     "data": {
      "text/plain": [
       "150"
      ]
     },
     "execution_count": 9,
     "metadata": {},
     "output_type": "execute_result"
    }
   ],
   "source": [
    "seg_df.shape[0] // step"
   ]
  },
  {
   "cell_type": "code",
   "execution_count": 21,
   "metadata": {},
   "outputs": [
    {
     "data": {
      "text/plain": [
       "\"\\nfor i in range(seg_df.shape[0] // step):\\n    test_df['seg_id'] = seg_id\\n    test_df['acoustic_data_mean'] = seg_df.iloc[i:i+step]['acoustic_data'].mean()\\n\""
      ]
     },
     "execution_count": 21,
     "metadata": {},
     "output_type": "execute_result"
    }
   ],
   "source": [
    "test_df = pd.DataFrame(columns=('seg_id', 'acoustic_data_mean'))\n",
    "step = 1000\n",
    "seg_id = 'seg_1a671a'\n",
    "seg_id_lst = [seg_id for _ in range(seg_df.shape[0] // step)]\n",
    "acoustic_data_mean_lst = [seg_df.iloc[i:i+step]['acoustic_data'].mean() for i in range(seg_df.shape[0] // step)]\n",
    "'''\n",
    "for i in range(seg_df.shape[0] // step):\n",
    "    test_df['seg_id'] = seg_id\n",
    "    test_df['acoustic_data_mean'] = seg_df.iloc[i:i+step]['acoustic_data'].mean()\n",
    "'''"
   ]
  },
  {
   "cell_type": "code",
   "execution_count": 23,
   "metadata": {},
   "outputs": [],
   "source": [
    "test_df['seg_id'] = seg_id_lst"
   ]
  },
  {
   "cell_type": "code",
   "execution_count": 24,
   "metadata": {},
   "outputs": [],
   "source": [
    "test_df['acoustic_data_mean'] = acoustic_data_mean_lst"
   ]
  },
  {
   "cell_type": "code",
   "execution_count": 25,
   "metadata": {},
   "outputs": [
    {
     "name": "stdout",
     "output_type": "stream",
     "text": [
      "<class 'pandas.core.frame.DataFrame'>\n",
      "RangeIndex: 150 entries, 0 to 149\n",
      "Data columns (total 2 columns):\n",
      "seg_id                150 non-null object\n",
      "acoustic_data_mean    150 non-null float64\n",
      "dtypes: float64(1), object(1)\n",
      "memory usage: 2.4+ KB\n"
     ]
    }
   ],
   "source": [
    "test_df.info()"
   ]
  },
  {
   "cell_type": "code",
   "execution_count": 26,
   "metadata": {},
   "outputs": [
    {
     "data": {
      "text/html": [
       "<div>\n",
       "<style scoped>\n",
       "    .dataframe tbody tr th:only-of-type {\n",
       "        vertical-align: middle;\n",
       "    }\n",
       "\n",
       "    .dataframe tbody tr th {\n",
       "        vertical-align: top;\n",
       "    }\n",
       "\n",
       "    .dataframe thead th {\n",
       "        text-align: right;\n",
       "    }\n",
       "</style>\n",
       "<table border=\"1\" class=\"dataframe\">\n",
       "  <thead>\n",
       "    <tr style=\"text-align: right;\">\n",
       "      <th></th>\n",
       "      <th>seg_id</th>\n",
       "      <th>acoustic_data_mean</th>\n",
       "    </tr>\n",
       "  </thead>\n",
       "  <tbody>\n",
       "    <tr>\n",
       "      <th>0</th>\n",
       "      <td>seg_1a671a</td>\n",
       "      <td>4.085</td>\n",
       "    </tr>\n",
       "    <tr>\n",
       "      <th>1</th>\n",
       "      <td>seg_1a671a</td>\n",
       "      <td>4.076</td>\n",
       "    </tr>\n",
       "    <tr>\n",
       "      <th>2</th>\n",
       "      <td>seg_1a671a</td>\n",
       "      <td>4.069</td>\n",
       "    </tr>\n",
       "    <tr>\n",
       "      <th>3</th>\n",
       "      <td>seg_1a671a</td>\n",
       "      <td>4.063</td>\n",
       "    </tr>\n",
       "    <tr>\n",
       "      <th>4</th>\n",
       "      <td>seg_1a671a</td>\n",
       "      <td>4.061</td>\n",
       "    </tr>\n",
       "  </tbody>\n",
       "</table>\n",
       "</div>"
      ],
      "text/plain": [
       "       seg_id  acoustic_data_mean\n",
       "0  seg_1a671a               4.085\n",
       "1  seg_1a671a               4.076\n",
       "2  seg_1a671a               4.069\n",
       "3  seg_1a671a               4.063\n",
       "4  seg_1a671a               4.061"
      ]
     },
     "execution_count": 26,
     "metadata": {},
     "output_type": "execute_result"
    }
   ],
   "source": [
    "test_df.head()"
   ]
  },
  {
   "cell_type": "code",
   "execution_count": 28,
   "metadata": {},
   "outputs": [
    {
     "name": "stdout",
     "output_type": "stream",
     "text": [
      "CPU times: user 2min 19s, sys: 7.64 s, total: 2min 27s\n",
      "Wall time: 2min 27s\n"
     ]
    }
   ],
   "source": [
    "%%time\n",
    "train_df = pd.read_csv('../input/train/train.csv', dtype={'acoustic_data': np.int16, 'time_to_failure': np.float32})"
   ]
  },
  {
   "cell_type": "code",
   "execution_count": 48,
   "metadata": {},
   "outputs": [],
   "source": [
    "rows = 15000\n",
    "segments = train_df.shape[0] // rows\n",
    "#rows = 150_000\n",
    "#rows = 150_00\n",
    "#segments = int(np.floor(train_df.shape[0] / rows))"
   ]
  },
  {
   "cell_type": "code",
   "execution_count": 49,
   "metadata": {},
   "outputs": [
    {
     "name": "stdout",
     "output_type": "stream",
     "text": [
      "15000\n",
      "41943\n"
     ]
    }
   ],
   "source": [
    "print(rows)\n",
    "print(segments)"
   ]
  },
  {
   "cell_type": "code",
   "execution_count": 50,
   "metadata": {},
   "outputs": [],
   "source": [
    "X_tr = pd.DataFrame(index=range(segments), dtype=np.float64)\n",
    "\n",
    "y_tr = pd.DataFrame(index=range(segments), dtype=np.float64, columns=['time_to_failure'])"
   ]
  },
  {
   "cell_type": "code",
   "execution_count": 51,
   "metadata": {},
   "outputs": [
    {
     "name": "stdout",
     "output_type": "stream",
     "text": [
      "(41943, 0)\n",
      "(41943, 1)\n"
     ]
    }
   ],
   "source": [
    "print(X_tr.shape)\n",
    "print(y_tr.shape)"
   ]
  },
  {
   "cell_type": "code",
   "execution_count": 31,
   "metadata": {},
   "outputs": [],
   "source": [
    "subsegments = 10"
   ]
  },
  {
   "cell_type": "code",
   "execution_count": 52,
   "metadata": {},
   "outputs": [
    {
     "data": {
      "application/vnd.jupyter.widget-view+json": {
       "model_id": "0c854be14f93453cba87f18a97db9cb0",
       "version_major": 2,
       "version_minor": 0
      },
      "text/plain": [
       "HBox(children=(IntProgress(value=0, max=41943), HTML(value='')))"
      ]
     },
     "metadata": {},
     "output_type": "display_data"
    }
   ],
   "source": [
    "for segment in tqdm_notebook(range(segments)):\n",
    "    seg = train_df.iloc[segment*rows:segment*rows+rows]\n",
    "    #for subseg in range(subsegments):\n",
    "    x = pd.Series(seg['acoustic_data'].values)\n",
    "    y = 0\n",
    "    #print(seg.shape)\n",
    "    try:\n",
    "        y = seg['time_to_failure'].values[-1]\n",
    "    except:\n",
    "        print(\"seg:\\n\", seg)\n",
    "        print(\"prev_seg:\\n\", prev_seg)\n",
    "        raise Exception(\"Stop!\")\n",
    "    prev_seg = seg\n",
    "    y_tr.loc[segment, 'time_to_failure'] = y\n",
    "    X_tr.loc[segment, 'mean'] = x.mean()\n",
    "    #X_tr.loc[segment, 'std'] = x.std()\n",
    "    #X_tr.loc[segment, 'max'] = x.max()\n",
    "    #X_tr.loc[segment, 'min'] = x.min()"
   ]
  },
  {
   "cell_type": "code",
   "execution_count": 53,
   "metadata": {},
   "outputs": [],
   "source": []
  },
  {
   "cell_type": "code",
   "execution_count": 56,
   "metadata": {},
   "outputs": [],
   "source": [
    "seg_chunk_len = 15000\n",
    "chunks_num = 10\n",
    "file_num = 20"
   ]
  },
  {
   "cell_type": "code",
   "execution_count": 66,
   "metadata": {},
   "outputs": [],
   "source": [
    "#X_test = pd.DataFrame(columns=['seg_id', 'mean', 'std'], dtype=np.float64, index=range(file_num * chunks_num))\n",
    "X_test = pd.DataFrame(columns=['seg_id', 'mean', 'std'], index=range(file_num * chunks_num))"
   ]
  },
  {
   "cell_type": "code",
   "execution_count": 67,
   "metadata": {},
   "outputs": [
    {
     "data": {
      "application/vnd.jupyter.widget-view+json": {
       "model_id": "07c97b053438459fb3c1d5c95f8ee0e1",
       "version_major": 2,
       "version_minor": 0
      },
      "text/plain": [
       "HBox(children=(IntProgress(value=0, max=20), HTML(value='')))"
      ]
     },
     "metadata": {},
     "output_type": "display_data"
    }
   ],
   "source": [
    "test_idx = 0\n",
    "for i, seg_filename in enumerate(tqdm_notebook(os.listdir('../input/test/')[:file_num])):\n",
    "    seg_df = pd.read_csv('../input/test/{}'.format(seg_filename))\n",
    "    seg_id = seg_filename[:-4]\n",
    "    x = pd.Series(seg_df['acoustic_data'].values)\n",
    "    for chunk_idx in range(chunks_num):\n",
    "        x_chunk = x[chunk_idx * seg_chunk_len:(chunk_idx + 1) * seg_chunk_len]\n",
    "        #X_test.iloc[test_idx]['seg_id'] = seg_id\n",
    "        #X_test.iloc[test_idx]['mean'] = x_chunk.mean()\n",
    "        #X_test.iloc[test_idx]['std'] = x_chunk.std()\n",
    "        X_test.at[test_idx, 'seg_id'] = seg_id\n",
    "        X_test.at[test_idx, 'mean'] = x_chunk.mean()\n",
    "        X_test.at[test_idx, 'std'] = x_chunk.std()\n",
    "        #X_test.loc[seg_id, 'max'] = x_chunk.max()\n",
    "        #X_test.loc[seg_id, 'min'] = x_chunk.min()\n",
    "        test_idx += 1"
   ]
  },
  {
   "cell_type": "code",
   "execution_count": 68,
   "metadata": {},
   "outputs": [
    {
     "data": {
      "text/plain": [
       "(200, 3)"
      ]
     },
     "execution_count": 68,
     "metadata": {},
     "output_type": "execute_result"
    }
   ],
   "source": [
    "X_test.shape"
   ]
  },
  {
   "cell_type": "code",
   "execution_count": 69,
   "metadata": {},
   "outputs": [
    {
     "data": {
      "text/html": [
       "<div>\n",
       "<style scoped>\n",
       "    .dataframe tbody tr th:only-of-type {\n",
       "        vertical-align: middle;\n",
       "    }\n",
       "\n",
       "    .dataframe tbody tr th {\n",
       "        vertical-align: top;\n",
       "    }\n",
       "\n",
       "    .dataframe thead th {\n",
       "        text-align: right;\n",
       "    }\n",
       "</style>\n",
       "<table border=\"1\" class=\"dataframe\">\n",
       "  <thead>\n",
       "    <tr style=\"text-align: right;\">\n",
       "      <th></th>\n",
       "      <th>seg_id</th>\n",
       "      <th>mean</th>\n",
       "      <th>std</th>\n",
       "    </tr>\n",
       "  </thead>\n",
       "  <tbody>\n",
       "    <tr>\n",
       "      <th>0</th>\n",
       "      <td>seg_1a671a</td>\n",
       "      <td>3.93366666666667</td>\n",
       "      <td>4.73564796478074</td>\n",
       "    </tr>\n",
       "    <tr>\n",
       "      <th>1</th>\n",
       "      <td>seg_1a671a</td>\n",
       "      <td>3.997</td>\n",
       "      <td>4.46551830402492</td>\n",
       "    </tr>\n",
       "    <tr>\n",
       "      <th>2</th>\n",
       "      <td>seg_1a671a</td>\n",
       "      <td>4.2102</td>\n",
       "      <td>3.51606410736785</td>\n",
       "    </tr>\n",
       "    <tr>\n",
       "      <th>3</th>\n",
       "      <td>seg_1a671a</td>\n",
       "      <td>4.08166666666667</td>\n",
       "      <td>4.12950369200364</td>\n",
       "    </tr>\n",
       "    <tr>\n",
       "      <th>4</th>\n",
       "      <td>seg_1a671a</td>\n",
       "      <td>4.00366666666667</td>\n",
       "      <td>5.73537382011083</td>\n",
       "    </tr>\n",
       "    <tr>\n",
       "      <th>5</th>\n",
       "      <td>seg_1a671a</td>\n",
       "      <td>3.99166666666667</td>\n",
       "      <td>4.53846197127322</td>\n",
       "    </tr>\n",
       "    <tr>\n",
       "      <th>6</th>\n",
       "      <td>seg_1a671a</td>\n",
       "      <td>4.05693333333333</td>\n",
       "      <td>4.67332300674983</td>\n",
       "    </tr>\n",
       "    <tr>\n",
       "      <th>7</th>\n",
       "      <td>seg_1a671a</td>\n",
       "      <td>3.93373333333333</td>\n",
       "      <td>6.71251164491065</td>\n",
       "    </tr>\n",
       "    <tr>\n",
       "      <th>8</th>\n",
       "      <td>seg_1a671a</td>\n",
       "      <td>3.83226666666667</td>\n",
       "      <td>8.03453602353592</td>\n",
       "    </tr>\n",
       "    <tr>\n",
       "      <th>9</th>\n",
       "      <td>seg_1a671a</td>\n",
       "      <td>3.8066</td>\n",
       "      <td>17.325511286234</td>\n",
       "    </tr>\n",
       "    <tr>\n",
       "      <th>10</th>\n",
       "      <td>seg_440106</td>\n",
       "      <td>4.4872</td>\n",
       "      <td>4.22705106317782</td>\n",
       "    </tr>\n",
       "    <tr>\n",
       "      <th>11</th>\n",
       "      <td>seg_440106</td>\n",
       "      <td>4.5042</td>\n",
       "      <td>5.54031545729643</td>\n",
       "    </tr>\n",
       "    <tr>\n",
       "      <th>12</th>\n",
       "      <td>seg_440106</td>\n",
       "      <td>4.20506666666667</td>\n",
       "      <td>3.03176963241424</td>\n",
       "    </tr>\n",
       "    <tr>\n",
       "      <th>13</th>\n",
       "      <td>seg_440106</td>\n",
       "      <td>4.0708</td>\n",
       "      <td>2.88634880554918</td>\n",
       "    </tr>\n",
       "    <tr>\n",
       "      <th>14</th>\n",
       "      <td>seg_440106</td>\n",
       "      <td>4.24313333333333</td>\n",
       "      <td>3.15197533494839</td>\n",
       "    </tr>\n",
       "    <tr>\n",
       "      <th>15</th>\n",
       "      <td>seg_440106</td>\n",
       "      <td>4.41253333333333</td>\n",
       "      <td>2.87647374209607</td>\n",
       "    </tr>\n",
       "    <tr>\n",
       "      <th>16</th>\n",
       "      <td>seg_440106</td>\n",
       "      <td>4.49993333333333</td>\n",
       "      <td>2.98570945666512</td>\n",
       "    </tr>\n",
       "    <tr>\n",
       "      <th>17</th>\n",
       "      <td>seg_440106</td>\n",
       "      <td>4.41793333333333</td>\n",
       "      <td>4.0391194619567</td>\n",
       "    </tr>\n",
       "    <tr>\n",
       "      <th>18</th>\n",
       "      <td>seg_440106</td>\n",
       "      <td>4.43573333333333</td>\n",
       "      <td>2.82198524132729</td>\n",
       "    </tr>\n",
       "    <tr>\n",
       "      <th>19</th>\n",
       "      <td>seg_440106</td>\n",
       "      <td>4.41926666666667</td>\n",
       "      <td>3.39825229642144</td>\n",
       "    </tr>\n",
       "  </tbody>\n",
       "</table>\n",
       "</div>"
      ],
      "text/plain": [
       "        seg_id              mean               std\n",
       "0   seg_1a671a  3.93366666666667  4.73564796478074\n",
       "1   seg_1a671a             3.997  4.46551830402492\n",
       "2   seg_1a671a            4.2102  3.51606410736785\n",
       "3   seg_1a671a  4.08166666666667  4.12950369200364\n",
       "4   seg_1a671a  4.00366666666667  5.73537382011083\n",
       "5   seg_1a671a  3.99166666666667  4.53846197127322\n",
       "6   seg_1a671a  4.05693333333333  4.67332300674983\n",
       "7   seg_1a671a  3.93373333333333  6.71251164491065\n",
       "8   seg_1a671a  3.83226666666667  8.03453602353592\n",
       "9   seg_1a671a            3.8066   17.325511286234\n",
       "10  seg_440106            4.4872  4.22705106317782\n",
       "11  seg_440106            4.5042  5.54031545729643\n",
       "12  seg_440106  4.20506666666667  3.03176963241424\n",
       "13  seg_440106            4.0708  2.88634880554918\n",
       "14  seg_440106  4.24313333333333  3.15197533494839\n",
       "15  seg_440106  4.41253333333333  2.87647374209607\n",
       "16  seg_440106  4.49993333333333  2.98570945666512\n",
       "17  seg_440106  4.41793333333333   4.0391194619567\n",
       "18  seg_440106  4.43573333333333  2.82198524132729\n",
       "19  seg_440106  4.41926666666667  3.39825229642144"
      ]
     },
     "execution_count": 69,
     "metadata": {},
     "output_type": "execute_result"
    }
   ],
   "source": [
    "X_test.head(20)"
   ]
  },
  {
   "cell_type": "code",
   "execution_count": 70,
   "metadata": {},
   "outputs": [
    {
     "data": {
      "text/html": [
       "<div>\n",
       "<style scoped>\n",
       "    .dataframe tbody tr th:only-of-type {\n",
       "        vertical-align: middle;\n",
       "    }\n",
       "\n",
       "    .dataframe tbody tr th {\n",
       "        vertical-align: top;\n",
       "    }\n",
       "\n",
       "    .dataframe thead th {\n",
       "        text-align: right;\n",
       "    }\n",
       "</style>\n",
       "<table border=\"1\" class=\"dataframe\">\n",
       "  <thead>\n",
       "    <tr style=\"text-align: right;\">\n",
       "      <th></th>\n",
       "      <th>seg_id</th>\n",
       "      <th>mean</th>\n",
       "      <th>std</th>\n",
       "    </tr>\n",
       "  </thead>\n",
       "  <tbody>\n",
       "    <tr>\n",
       "      <th>180</th>\n",
       "      <td>seg_e4f203</td>\n",
       "      <td>4.6814</td>\n",
       "      <td>4.41603073606047</td>\n",
       "    </tr>\n",
       "    <tr>\n",
       "      <th>181</th>\n",
       "      <td>seg_e4f203</td>\n",
       "      <td>4.58973333333333</td>\n",
       "      <td>3.60642228267863</td>\n",
       "    </tr>\n",
       "    <tr>\n",
       "      <th>182</th>\n",
       "      <td>seg_e4f203</td>\n",
       "      <td>4.5558</td>\n",
       "      <td>5.48149214573394</td>\n",
       "    </tr>\n",
       "    <tr>\n",
       "      <th>183</th>\n",
       "      <td>seg_e4f203</td>\n",
       "      <td>4.56993333333333</td>\n",
       "      <td>3.34035724556383</td>\n",
       "    </tr>\n",
       "    <tr>\n",
       "      <th>184</th>\n",
       "      <td>seg_e4f203</td>\n",
       "      <td>4.78086666666667</td>\n",
       "      <td>5.50916242638252</td>\n",
       "    </tr>\n",
       "    <tr>\n",
       "      <th>185</th>\n",
       "      <td>seg_e4f203</td>\n",
       "      <td>4.79533333333333</td>\n",
       "      <td>7.3746776616742</td>\n",
       "    </tr>\n",
       "    <tr>\n",
       "      <th>186</th>\n",
       "      <td>seg_e4f203</td>\n",
       "      <td>4.50566666666667</td>\n",
       "      <td>6.28359240067225</td>\n",
       "    </tr>\n",
       "    <tr>\n",
       "      <th>187</th>\n",
       "      <td>seg_e4f203</td>\n",
       "      <td>4.6458</td>\n",
       "      <td>3.83920021930197</td>\n",
       "    </tr>\n",
       "    <tr>\n",
       "      <th>188</th>\n",
       "      <td>seg_e4f203</td>\n",
       "      <td>4.78486666666667</td>\n",
       "      <td>4.8101552457748</td>\n",
       "    </tr>\n",
       "    <tr>\n",
       "      <th>189</th>\n",
       "      <td>seg_e4f203</td>\n",
       "      <td>4.68186666666667</td>\n",
       "      <td>4.33514829614923</td>\n",
       "    </tr>\n",
       "    <tr>\n",
       "      <th>190</th>\n",
       "      <td>seg_8456d3</td>\n",
       "      <td>4.28133333333333</td>\n",
       "      <td>6.51482011117429</td>\n",
       "    </tr>\n",
       "    <tr>\n",
       "      <th>191</th>\n",
       "      <td>seg_8456d3</td>\n",
       "      <td>4.31533333333333</td>\n",
       "      <td>3.34432512219188</td>\n",
       "    </tr>\n",
       "    <tr>\n",
       "      <th>192</th>\n",
       "      <td>seg_8456d3</td>\n",
       "      <td>4.51706666666667</td>\n",
       "      <td>7.80282220297103</td>\n",
       "    </tr>\n",
       "    <tr>\n",
       "      <th>193</th>\n",
       "      <td>seg_8456d3</td>\n",
       "      <td>4.408</td>\n",
       "      <td>7.06140167102613</td>\n",
       "    </tr>\n",
       "    <tr>\n",
       "      <th>194</th>\n",
       "      <td>seg_8456d3</td>\n",
       "      <td>4.33706666666667</td>\n",
       "      <td>6.63576081674111</td>\n",
       "    </tr>\n",
       "    <tr>\n",
       "      <th>195</th>\n",
       "      <td>seg_8456d3</td>\n",
       "      <td>4.43626666666667</td>\n",
       "      <td>4.77135785557333</td>\n",
       "    </tr>\n",
       "    <tr>\n",
       "      <th>196</th>\n",
       "      <td>seg_8456d3</td>\n",
       "      <td>4.31533333333333</td>\n",
       "      <td>4.30372703130433</td>\n",
       "    </tr>\n",
       "    <tr>\n",
       "      <th>197</th>\n",
       "      <td>seg_8456d3</td>\n",
       "      <td>4.4054</td>\n",
       "      <td>6.58442160055492</td>\n",
       "    </tr>\n",
       "    <tr>\n",
       "      <th>198</th>\n",
       "      <td>seg_8456d3</td>\n",
       "      <td>4.569</td>\n",
       "      <td>6.89580615128972</td>\n",
       "    </tr>\n",
       "    <tr>\n",
       "      <th>199</th>\n",
       "      <td>seg_8456d3</td>\n",
       "      <td>4.57433333333333</td>\n",
       "      <td>5.40641808526277</td>\n",
       "    </tr>\n",
       "  </tbody>\n",
       "</table>\n",
       "</div>"
      ],
      "text/plain": [
       "         seg_id              mean               std\n",
       "180  seg_e4f203            4.6814  4.41603073606047\n",
       "181  seg_e4f203  4.58973333333333  3.60642228267863\n",
       "182  seg_e4f203            4.5558  5.48149214573394\n",
       "183  seg_e4f203  4.56993333333333  3.34035724556383\n",
       "184  seg_e4f203  4.78086666666667  5.50916242638252\n",
       "185  seg_e4f203  4.79533333333333   7.3746776616742\n",
       "186  seg_e4f203  4.50566666666667  6.28359240067225\n",
       "187  seg_e4f203            4.6458  3.83920021930197\n",
       "188  seg_e4f203  4.78486666666667   4.8101552457748\n",
       "189  seg_e4f203  4.68186666666667  4.33514829614923\n",
       "190  seg_8456d3  4.28133333333333  6.51482011117429\n",
       "191  seg_8456d3  4.31533333333333  3.34432512219188\n",
       "192  seg_8456d3  4.51706666666667  7.80282220297103\n",
       "193  seg_8456d3             4.408  7.06140167102613\n",
       "194  seg_8456d3  4.33706666666667  6.63576081674111\n",
       "195  seg_8456d3  4.43626666666667  4.77135785557333\n",
       "196  seg_8456d3  4.31533333333333  4.30372703130433\n",
       "197  seg_8456d3            4.4054  6.58442160055492\n",
       "198  seg_8456d3             4.569  6.89580615128972\n",
       "199  seg_8456d3  4.57433333333333  5.40641808526277"
      ]
     },
     "execution_count": 70,
     "metadata": {},
     "output_type": "execute_result"
    }
   ],
   "source": [
    "X_test.tail(20)"
   ]
  },
  {
   "cell_type": "code",
   "execution_count": 65,
   "metadata": {},
   "outputs": [],
   "source": [
    "pd.DataFrame?"
   ]
  },
  {
   "cell_type": "code",
   "execution_count": 71,
   "metadata": {},
   "outputs": [
    {
     "name": "stdout",
     "output_type": "stream",
     "text": [
      "<class 'pandas.core.frame.DataFrame'>\n",
      "RangeIndex: 200 entries, 0 to 199\n",
      "Data columns (total 3 columns):\n",
      "seg_id    200 non-null object\n",
      "mean      200 non-null object\n",
      "std       200 non-null object\n",
      "dtypes: object(3)\n",
      "memory usage: 4.8+ KB\n"
     ]
    }
   ],
   "source": [
    "X_test.info()"
   ]
  },
  {
   "cell_type": "code",
   "execution_count": 76,
   "metadata": {},
   "outputs": [],
   "source": [
    "X_test = pd.DataFrame(columns=['seg_id', 'mean', 'std'], dtype=np.float64, index=range(file_num * chunks_num))\n",
    "#X_test = pd.DataFrame(columns=['seg_id', 'mean', 'std'], index=range(file_num * chunks_num))"
   ]
  },
  {
   "cell_type": "code",
   "execution_count": 77,
   "metadata": {},
   "outputs": [
    {
     "data": {
      "application/vnd.jupyter.widget-view+json": {
       "model_id": "caaa517a648e45478d7ab2ba4df47ff9",
       "version_major": 2,
       "version_minor": 0
      },
      "text/plain": [
       "HBox(children=(IntProgress(value=0, max=20), HTML(value='')))"
      ]
     },
     "metadata": {},
     "output_type": "display_data"
    }
   ],
   "source": [
    "test_idx = 0\n",
    "for i, seg_filename in enumerate(tqdm_notebook(os.listdir('../input/test/')[:file_num])):\n",
    "    seg_df = pd.read_csv('../input/test/{}'.format(seg_filename))\n",
    "    seg_id = seg_filename[:-4]\n",
    "    x = pd.Series(seg_df['acoustic_data'].values)\n",
    "    for chunk_idx in range(chunks_num):\n",
    "        x_chunk = x[chunk_idx * seg_chunk_len:(chunk_idx + 1) * seg_chunk_len]\n",
    "        X_test.loc[test_idx, 'seg_id'] = seg_id\n",
    "        X_test.loc[test_idx, 'mean'] = x_chunk.mean()\n",
    "        X_test.loc[test_idx, 'std'] = x_chunk.std()\n",
    "        #X_test.at[test_idx, 'seg_id'] = seg_id\n",
    "        #X_test.at[test_idx, 'mean'] = x_chunk.mean()\n",
    "        #X_test.at[test_idx, 'std'] = x_chunk.std()\n",
    "        #X_test.loc[seg_id, 'max'] = x_chunk.max()\n",
    "        #X_test.loc[seg_id, 'min'] = x_chunk.min()\n",
    "        test_idx += 1"
   ]
  },
  {
   "cell_type": "code",
   "execution_count": 78,
   "metadata": {},
   "outputs": [
    {
     "data": {
      "text/html": [
       "<div>\n",
       "<style scoped>\n",
       "    .dataframe tbody tr th:only-of-type {\n",
       "        vertical-align: middle;\n",
       "    }\n",
       "\n",
       "    .dataframe tbody tr th {\n",
       "        vertical-align: top;\n",
       "    }\n",
       "\n",
       "    .dataframe thead th {\n",
       "        text-align: right;\n",
       "    }\n",
       "</style>\n",
       "<table border=\"1\" class=\"dataframe\">\n",
       "  <thead>\n",
       "    <tr style=\"text-align: right;\">\n",
       "      <th></th>\n",
       "      <th>seg_id</th>\n",
       "      <th>mean</th>\n",
       "      <th>std</th>\n",
       "    </tr>\n",
       "  </thead>\n",
       "  <tbody>\n",
       "    <tr>\n",
       "      <th>0</th>\n",
       "      <td>seg_1a671a</td>\n",
       "      <td>3.933666666666667</td>\n",
       "      <td>4.735647964780742</td>\n",
       "    </tr>\n",
       "    <tr>\n",
       "      <th>1</th>\n",
       "      <td>seg_1a671a</td>\n",
       "      <td>3.997000000000000</td>\n",
       "      <td>4.465518304024918</td>\n",
       "    </tr>\n",
       "    <tr>\n",
       "      <th>2</th>\n",
       "      <td>seg_1a671a</td>\n",
       "      <td>4.210200000000000</td>\n",
       "      <td>3.516064107367850</td>\n",
       "    </tr>\n",
       "    <tr>\n",
       "      <th>3</th>\n",
       "      <td>seg_1a671a</td>\n",
       "      <td>4.081666666666667</td>\n",
       "      <td>4.129503692003642</td>\n",
       "    </tr>\n",
       "    <tr>\n",
       "      <th>4</th>\n",
       "      <td>seg_1a671a</td>\n",
       "      <td>4.003666666666667</td>\n",
       "      <td>5.735373820110826</td>\n",
       "    </tr>\n",
       "  </tbody>\n",
       "</table>\n",
       "</div>"
      ],
      "text/plain": [
       "       seg_id               mean                std\n",
       "0  seg_1a671a  3.933666666666667  4.735647964780742\n",
       "1  seg_1a671a  3.997000000000000  4.465518304024918\n",
       "2  seg_1a671a  4.210200000000000  3.516064107367850\n",
       "3  seg_1a671a  4.081666666666667  4.129503692003642\n",
       "4  seg_1a671a  4.003666666666667  5.735373820110826"
      ]
     },
     "execution_count": 78,
     "metadata": {},
     "output_type": "execute_result"
    }
   ],
   "source": [
    "X_test.head()"
   ]
  },
  {
   "cell_type": "code",
   "execution_count": 79,
   "metadata": {},
   "outputs": [
    {
     "name": "stdout",
     "output_type": "stream",
     "text": [
      "<class 'pandas.core.frame.DataFrame'>\n",
      "RangeIndex: 200 entries, 0 to 199\n",
      "Data columns (total 3 columns):\n",
      "seg_id    200 non-null object\n",
      "mean      200 non-null float64\n",
      "std       200 non-null float64\n",
      "dtypes: float64(2), object(1)\n",
      "memory usage: 4.8+ KB\n"
     ]
    }
   ],
   "source": [
    "X_test.info()"
   ]
  },
  {
   "cell_type": "code",
   "execution_count": null,
   "metadata": {},
   "outputs": [],
   "source": []
  }
 ],
 "metadata": {
  "kernelspec": {
   "display_name": "Python 3",
   "language": "python",
   "name": "python3"
  },
  "language_info": {
   "codemirror_mode": {
    "name": "ipython",
    "version": 3
   },
   "file_extension": ".py",
   "mimetype": "text/x-python",
   "name": "python",
   "nbconvert_exporter": "python",
   "pygments_lexer": "ipython3",
   "version": "3.6.6"
  }
 },
 "nbformat": 4,
 "nbformat_minor": 2
}
