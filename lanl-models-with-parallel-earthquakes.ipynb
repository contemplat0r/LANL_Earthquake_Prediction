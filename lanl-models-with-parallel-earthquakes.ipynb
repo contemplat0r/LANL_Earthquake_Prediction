{
 "cells": [
  {
   "cell_type": "code",
   "execution_count": 1,
   "metadata": {},
   "outputs": [
    {
     "name": "stderr",
     "output_type": "stream",
     "text": [
      "Using TensorFlow backend.\n"
     ]
    }
   ],
   "source": [
    "import gc\n",
    "import math\n",
    "import os\n",
    "import pathlib\n",
    "import time\n",
    "\n",
    "import numpy as np\n",
    "import pandas as pd\n",
    "\n",
    "import matplotlib.pyplot as plt\n",
    "import seaborn as sns\n",
    "\n",
    "from tqdm import tqdm_notebook\n",
    "\n",
    "from sklearn.preprocessing import StandardScaler\n",
    "from sklearn.metrics import mean_absolute_error\n",
    "from sklearn.model_selection import StratifiedKFold, KFold, RepeatedKFold, train_test_split\n",
    "\n",
    "import lightgbm as lgb\n",
    "import xgboost as xgb\n",
    "\n",
    "import keras\n",
    "from keras.models import Sequential\n",
    "from keras.layers import Dense\n",
    "from keras.optimizers import adam\n",
    "from keras.callbacks import ModelCheckpoint"
   ]
  },
  {
   "cell_type": "code",
   "execution_count": 2,
   "metadata": {},
   "outputs": [],
   "source": [
    "%matplotlib inline"
   ]
  },
  {
   "cell_type": "code",
   "execution_count": 76,
   "metadata": {},
   "outputs": [],
   "source": [
    "#np.random.randint?"
   ]
  },
  {
   "cell_type": "code",
   "execution_count": 54,
   "metadata": {},
   "outputs": [],
   "source": [
    "def features_maker(df, first_index=None, last_index=None, smootch_windows_size = (3, 5, 7)):\n",
    "    if first_index == None or last_index == None:\n",
    "        first_index = 0\n",
    "        last_index = df.shape[0] - 1\n",
    "\n",
    "    smooth_feature_names = ['smootch_feature_{}_ws_{}'.format(i, window_size) for i, window_size in enumerate(smootch_windows_size)]\n",
    "    for feature_name in smooth_feature_names:\n",
    "        df[feature_name] = 0\n",
    "    for i in df.index:\n",
    "        for smooth_feature_name, window_size in zip(smooth_feature_names, smootch_windows_size):\n",
    "            half_window_size = window_size // 2\n",
    "            data_series = df['acoustic_data']\n",
    "            if i < first_index + half_window_size:\n",
    "                smooth_feature_value = data_series.iloc[first_index:first_index + window_size].mean()\n",
    "            elif i < last_index - half_window_size:\n",
    "                smooth_feature_value = data_series.iloc[last_index - window_size:last_index].mean()\n",
    "            else:\n",
    "                smooth_feature_value = data_series.iloc[i - half_window_size:i + half_window_size].mean()\n",
    "            df.iloc[i][feature_name] = data_series[i] - smooth_feature_value\n",
    "    return df"
   ]
  },
  {
   "cell_type": "code",
   "execution_count": 108,
   "metadata": {},
   "outputs": [],
   "source": [
    "def add_features(\n",
    "        df,\n",
    "        first_index=None,\n",
    "        last_index=None,\n",
    "        sample_size=150000,\n",
    "        holdout_size=50000,\n",
    "        smootch_windows_size = (3, 5, 7)\n",
    "    ):\n",
    "    \n",
    "    if first_index == None or last_index == None:\n",
    "        first_index = df.index.min()\n",
    "        last_index = df.index.max()\n",
    "    sample_indexes = np.random.randint(first_index, last_index, sample_size)\n",
    "    sample_indexes.sort()\n",
    "        \n",
    "    smootch_feature_names = ['smootch_feature_{}_ws_{}'.format(i, window_size) for i, window_size in enumerate(smootch_windows_size)]\n",
    "    half_windows_size = [ws // 2 for ws in smootch_windows_size]\n",
    "    print(\"half_windows_size:\\n\", half_windows_size)\n",
    "    \n",
    "    print(\"sample_indexes.shape:\", sample_indexes.shape)\n",
    "    print(\"sample_indexes[:5]\", sample_indexes[:5])\n",
    "    print(\"sample_indexes[-5:]\", sample_indexes[-5:])\n",
    "    print(\"df.index.min()\", df.index.min())\n",
    "    print(\"df.index.max()\", df.index.max())\n",
    "    \n",
    "    \n",
    "    print(\"before data_series\")\n",
    "    sample_df = df.iloc[sample_indexes]\n",
    "    data_series = sample_df['acoustic_data']\n",
    "    \n",
    "    #data_series = df[sample_indexes]['acoustic_data']\n",
    "    print(\"data_series.head()\\n\", data_series.head())\n",
    "    \n",
    "    #sample_df = df[sample_indexes]\n",
    "    for feature_name in smootch_feature_names:\n",
    "        sample_df[feature_name] = 0\n",
    "    begin_smootch_features_value = []\n",
    "    end_smootch_features_value = []\n",
    "    for h_w_size, feature_name in zip(half_windows_size, smootch_feature_names):\n",
    "        print(\"\\n\\n\")\n",
    "        print(feature_name, h_w_size)\n",
    "        print(\"before begin and end indexes operations\")\n",
    "        begin_indexes = sample_indexes[:h_w_size]\n",
    "        sample_begin_indexes = sample_indexes[:h_w_size]\n",
    "        print(\"sample_begin_indexes:\\n\", sample_begin_indexes)\n",
    "        full_data_begin_indexes = df.index[:h_w_size].tolist()\n",
    "        print(\"full_data_begin_indexes:\\n\", full_data_begin_indexes)\n",
    "        in_window_begin_indexes = [idx for idx in sample_begin_indexes if idx in full_data_begin_indexes]\n",
    "        print(\"in_window_begin_indexes:\\n\", in_window_begin_indexes)\n",
    "        \n",
    "        sample_end_indexes = sample_indexes[-h_w_size:]\n",
    "        print(\"sample_end_indexes:\\n\", sample_end_indexes)\n",
    "        full_data_end_indexes = df.index[-h_w_size:].tolist()\n",
    "        print(\"full_data_end_indexes:\\n\", full_data_end_indexes)\n",
    "        in_window_end_indexes = [idx for idx in sample_end_indexes if idx in full_data_end_indexes]\n",
    "        print(\"in_window_end_indexes:\\n\", in_window_end_indexes)\n",
    "        \n",
    "        print(\"\\n\")\n",
    "        print(\"begin_indexes <= h_w_size:\\n\", begin_indexes <= h_w_size)\n",
    "        #begin_indexes = begin_indexes[begin_indexes <= h_w_size]\n",
    "        begin_indexes = begin_indexes[begin_indexes <= h_w_size]\n",
    "        \n",
    "        end_indexes = sample_indexes[-h_w_size:]\n",
    "        print(\"end_indexes >= end_indexes.max() - h_w_size:\\n\", end_indexes >= end_indexes.max() - h_w_size)\n",
    "        print(\"end_indexes:\\n\", end_indexes)\n",
    "        end_indexes = end_indexes[end_indexes >= end_indexes.max() - h_w_size]\n",
    "        print(\"begin_idexes:\\n\", begin_indexes)\n",
    "        print(\"end_idexes:\\n\", end_indexes)\n",
    "        print(\"end_indexes.max():\", end_indexes.max())\n",
    "        print(\"h_w_size:\", h_w_size)\n",
    "        '''\n",
    "        if begin_indexes:\n",
    "            print(\"if begin_indexes\")\n",
    "            for i, b_idx in enumerate(begin_indexes):\n",
    "                begin_smootch_features_value.append(df[b_idx]['acoustic_data'] - df.iloc[first_index:first_index + window_size]['acoustic_data'].mean())\n",
    "                sample_df.iloc[i][feature_name] = df[b_idx]['acoustic_data'] - df.iloc[first_index:first_index + window_size]['acoustic_data'].mean()\n",
    "        if end_indexes:\n",
    "            print(\"if end_indexes\")\n",
    "            for i, e_idx in enumerate(end_indexes):\n",
    "                end_smootch_features_value.append(df[e_idx]['acoustic_data'] - df.iloc[last_index - window_size:last_index]['acoustic_data'].mean())\n",
    "                sample_df.iloc[sample_df.shape[0] - i][feature_name] = df[e_idx]['acoustic_data'] - df.iloc[first_index:first_index + window_size]['acoustic_data'].mean()\n",
    "        '''\n",
    "    return sample_df"
   ]
  },
  {
   "cell_type": "code",
   "execution_count": 101,
   "metadata": {},
   "outputs": [],
   "source": [
    "earthquake_margin_indexes =[\n",
    "    5656573,\n",
    "    50085877,\n",
    "    104677355,\n",
    "    138772452,\n",
    "    187641819,\n",
    "    218652629,\n",
    "    245829584,\n",
    "    307838916,\n",
    "    338276286,\n",
    "    375377847,\n",
    "    419368879,\n",
    "    461811622,\n",
    "    495800224,\n",
    "    528777114,\n",
    "    585568143,\n",
    "    621985672\n",
    "]"
   ]
  },
  {
   "cell_type": "code",
   "execution_count": 8,
   "metadata": {},
   "outputs": [],
   "source": [
    "earthquakes_length = [earthquake_margin_indexes[i + 1] - earthquake_margin_indexes[i] for i in range(len(earthquake_margin_indexes) - 1)]"
   ]
  },
  {
   "cell_type": "code",
   "execution_count": 9,
   "metadata": {},
   "outputs": [
    {
     "data": {
      "text/plain": [
       "[44429304,\n",
       " 54591478,\n",
       " 34095097,\n",
       " 48869367,\n",
       " 31010810,\n",
       " 27176955,\n",
       " 62009332,\n",
       " 30437370,\n",
       " 37101561,\n",
       " 43991032,\n",
       " 42442743,\n",
       " 33988602,\n",
       " 32976890,\n",
       " 56791029,\n",
       " 36417529]"
      ]
     },
     "execution_count": 9,
     "metadata": {},
     "output_type": "execute_result"
    }
   ],
   "source": [
    "earthquakes_length"
   ]
  },
  {
   "cell_type": "code",
   "execution_count": 10,
   "metadata": {},
   "outputs": [
    {
     "data": {
      "text/plain": [
       "36417529"
      ]
     },
     "execution_count": 10,
     "metadata": {},
     "output_type": "execute_result"
    }
   ],
   "source": [
    "621985672 - 585568143"
   ]
  },
  {
   "cell_type": "code",
   "execution_count": 11,
   "metadata": {},
   "outputs": [
    {
     "data": {
      "text/plain": [
       "44429304"
      ]
     },
     "execution_count": 11,
     "metadata": {},
     "output_type": "execute_result"
    }
   ],
   "source": [
    "50085877 - 5656573"
   ]
  },
  {
   "cell_type": "code",
   "execution_count": 32,
   "metadata": {},
   "outputs": [],
   "source": [
    "complete_earthquakes_length = earthquakes_length[:-1]"
   ]
  },
  {
   "cell_type": "code",
   "execution_count": 15,
   "metadata": {},
   "outputs": [],
   "source": [
    "#complete_earthquaces_length = complete_earthquaces_length[:-1]"
   ]
  },
  {
   "cell_type": "code",
   "execution_count": 33,
   "metadata": {},
   "outputs": [
    {
     "data": {
      "text/plain": [
       "[44429304,\n",
       " 54591478,\n",
       " 34095097,\n",
       " 48869367,\n",
       " 31010810,\n",
       " 27176955,\n",
       " 62009332,\n",
       " 30437370,\n",
       " 37101561,\n",
       " 43991032,\n",
       " 42442743,\n",
       " 33988602,\n",
       " 32976890,\n",
       " 56791029]"
      ]
     },
     "execution_count": 33,
     "metadata": {},
     "output_type": "execute_result"
    }
   ],
   "source": [
    "complete_earthquakes_length"
   ]
  },
  {
   "cell_type": "code",
   "execution_count": 34,
   "metadata": {},
   "outputs": [
    {
     "data": {
      "text/plain": [
       "14"
      ]
     },
     "execution_count": 34,
     "metadata": {},
     "output_type": "execute_result"
    }
   ],
   "source": [
    "len(complete_earthquakes_length)"
   ]
  },
  {
   "cell_type": "code",
   "execution_count": 36,
   "metadata": {},
   "outputs": [],
   "source": [
    "earthquakes_length_more_2_less_3 = [length for length in complete_earthquaces_length if length > 20000000 and length < 30000000]"
   ]
  },
  {
   "cell_type": "code",
   "execution_count": 37,
   "metadata": {},
   "outputs": [],
   "source": [
    "earthquakes_length_more_3_less_4 = [length for length in complete_earthquaces_length if length > 30000000 and length < 40000000]"
   ]
  },
  {
   "cell_type": "code",
   "execution_count": 38,
   "metadata": {},
   "outputs": [],
   "source": [
    "earthquakes_length_more_4_less_5 = [length for length in complete_earthquaces_length if length > 40000000 and length < 50000000]"
   ]
  },
  {
   "cell_type": "code",
   "execution_count": 39,
   "metadata": {},
   "outputs": [],
   "source": [
    "earthquakes_length_more_5_less_6 = [length for length in complete_earthquaces_length if length > 50000000 and length < 60000000]"
   ]
  },
  {
   "cell_type": "code",
   "execution_count": 40,
   "metadata": {},
   "outputs": [],
   "source": [
    "earthquakes_length_more_6 = [length for length in complete_earthquaces_length if length > 60000000]"
   ]
  },
  {
   "cell_type": "code",
   "execution_count": 41,
   "metadata": {},
   "outputs": [
    {
     "data": {
      "text/plain": [
       "[34095097, 31010810, 30437370, 37101561, 33988602, 32976890]"
      ]
     },
     "execution_count": 41,
     "metadata": {},
     "output_type": "execute_result"
    }
   ],
   "source": [
    "earthquakes_length_more_3_less_4"
   ]
  },
  {
   "cell_type": "code",
   "execution_count": 42,
   "metadata": {},
   "outputs": [
    {
     "data": {
      "text/plain": [
       "[27176955]"
      ]
     },
     "execution_count": 42,
     "metadata": {},
     "output_type": "execute_result"
    }
   ],
   "source": [
    "earthquakes_length_more_2_less_3"
   ]
  },
  {
   "cell_type": "code",
   "execution_count": 43,
   "metadata": {},
   "outputs": [
    {
     "data": {
      "text/plain": [
       "[34095097, 31010810, 30437370, 37101561, 33988602, 32976890]"
      ]
     },
     "execution_count": 43,
     "metadata": {},
     "output_type": "execute_result"
    }
   ],
   "source": [
    "earthquakes_length_more_3_less_4"
   ]
  },
  {
   "cell_type": "code",
   "execution_count": 44,
   "metadata": {},
   "outputs": [
    {
     "data": {
      "text/plain": [
       "[44429304, 48869367, 43991032, 42442743]"
      ]
     },
     "execution_count": 44,
     "metadata": {},
     "output_type": "execute_result"
    }
   ],
   "source": [
    "earthquakes_length_more_4_less_5"
   ]
  },
  {
   "cell_type": "code",
   "execution_count": 45,
   "metadata": {},
   "outputs": [
    {
     "data": {
      "text/plain": [
       "[54591478, 56791029]"
      ]
     },
     "execution_count": 45,
     "metadata": {},
     "output_type": "execute_result"
    }
   ],
   "source": [
    "earthquakes_length_more_5_less_6"
   ]
  },
  {
   "cell_type": "code",
   "execution_count": 46,
   "metadata": {},
   "outputs": [
    {
     "data": {
      "text/plain": [
       "[62009332]"
      ]
     },
     "execution_count": 46,
     "metadata": {},
     "output_type": "execute_result"
    }
   ],
   "source": [
    "earthquakes_length_more_6"
   ]
  },
  {
   "cell_type": "code",
   "execution_count": 92,
   "metadata": {},
   "outputs": [
    {
     "name": "stdout",
     "output_type": "stream",
     "text": [
      "CPU times: user 0 ns, sys: 0 ns, total: 0 ns\n",
      "Wall time: 6.68 µs\n"
     ]
    }
   ],
   "source": [
    "%time\n",
    "earthquake_1_df = pd.read_csv(\n",
    "    '../input/train/train.csv',\n",
    "    #nrows=100000000,\n",
    "    names=['acoustic_data', 'time_to_failure'],\n",
    "    dtype={'acoustic_data': np.float32, 'time_to_failure': np.float32},\n",
    "    skiprows=earthquake_margin_indexes[0],\n",
    "    nrows=complete_earthquakes_length[0]\n",
    ")"
   ]
  },
  {
   "cell_type": "code",
   "execution_count": 49,
   "metadata": {},
   "outputs": [
    {
     "name": "stdout",
     "output_type": "stream",
     "text": [
      "<class 'pandas.core.frame.DataFrame'>\n",
      "RangeIndex: 44429304 entries, 0 to 44429303\n",
      "Data columns (total 2 columns):\n",
      "acoustic_data      float32\n",
      "time_to_failure    float32\n",
      "dtypes: float32(2)\n",
      "memory usage: 339.0 MB\n"
     ]
    }
   ],
   "source": [
    "earthquake_1_df.info()"
   ]
  },
  {
   "cell_type": "markdown",
   "metadata": {},
   "source": [
    "%%time\n",
    "earthquake_1_with_additional_features_df = features_maker(earthquake_1_df)"
   ]
  },
  {
   "cell_type": "code",
   "execution_count": 56,
   "metadata": {},
   "outputs": [],
   "source": [
    "#np.random.randint?"
   ]
  },
  {
   "cell_type": "code",
   "execution_count": 109,
   "metadata": {},
   "outputs": [
    {
     "name": "stdout",
     "output_type": "stream",
     "text": [
      "half_windows_size:\n",
      " [1, 2, 3]\n",
      "sample_indexes.shape: (150000,)\n",
      "sample_indexes[:5] [ 863 1454 1558 2425 2557]\n",
      "sample_indexes[-5:] [44427446 44427809 44427997 44428423 44428728]\n",
      "df.index.min() 0\n",
      "df.index.max() 44429303\n",
      "before data_series\n",
      "data_series.head()\n",
      " 863     3.0\n",
      "1454    5.0\n",
      "1558    7.0\n",
      "2425    1.0\n",
      "2557    5.0\n",
      "Name: acoustic_data, dtype: float32\n",
      "\n",
      "\n",
      "\n",
      "smootch_feature_0_ws_3 1\n",
      "before begin and end indexes operations\n",
      "sample_begin_indexes:\n",
      " [863]\n",
      "full_data_begin_indexes:\n",
      " [0]\n",
      "in_window_begin_indexes:\n",
      " []\n",
      "sample_end_indexes:\n",
      " [44428728]\n",
      "full_data_end_indexes:\n",
      " [44429303]\n",
      "in_window_end_indexes:\n",
      " []\n",
      "\n",
      "\n",
      "begin_indexes <= h_w_size:\n",
      " [False]\n",
      "end_indexes >= end_indexes.max() - h_w_size:\n",
      " [ True]\n",
      "end_indexes:\n",
      " [44428728]\n",
      "begin_idexes:\n",
      " []\n",
      "end_idexes:\n",
      " [44428728]\n",
      "end_indexes.max(): 44428728\n",
      "h_w_size: 1\n",
      "\n",
      "\n",
      "\n",
      "smootch_feature_1_ws_5 2\n",
      "before begin and end indexes operations\n",
      "sample_begin_indexes:\n",
      " [ 863 1454]\n",
      "full_data_begin_indexes:\n",
      " [0, 1]\n",
      "in_window_begin_indexes:\n",
      " []\n",
      "sample_end_indexes:\n",
      " [44428423 44428728]\n",
      "full_data_end_indexes:\n",
      " [44429302, 44429303]\n",
      "in_window_end_indexes:\n",
      " []\n",
      "\n",
      "\n",
      "begin_indexes <= h_w_size:\n",
      " [False False]\n",
      "end_indexes >= end_indexes.max() - h_w_size:\n",
      " [False  True]\n",
      "end_indexes:\n",
      " [44428423 44428728]\n",
      "begin_idexes:\n",
      " []\n",
      "end_idexes:\n",
      " [44428728]\n",
      "end_indexes.max(): 44428728\n",
      "h_w_size: 2\n",
      "\n",
      "\n",
      "\n",
      "smootch_feature_2_ws_7 3\n",
      "before begin and end indexes operations\n",
      "sample_begin_indexes:\n",
      " [ 863 1454 1558]\n",
      "full_data_begin_indexes:\n",
      " [0, 1, 2]\n",
      "in_window_begin_indexes:\n",
      " []\n",
      "sample_end_indexes:\n",
      " [44427997 44428423 44428728]\n",
      "full_data_end_indexes:\n",
      " [44429301, 44429302, 44429303]\n",
      "in_window_end_indexes:\n",
      " []\n",
      "\n",
      "\n",
      "begin_indexes <= h_w_size:\n",
      " [False False False]\n",
      "end_indexes >= end_indexes.max() - h_w_size:\n",
      " [False False  True]\n",
      "end_indexes:\n",
      " [44427997 44428423 44428728]\n",
      "begin_idexes:\n",
      " []\n",
      "end_idexes:\n",
      " [44428728]\n",
      "end_indexes.max(): 44428728\n",
      "h_w_size: 3\n",
      "CPU times: user 228 ms, sys: 28 ms, total: 256 ms\n",
      "Wall time: 252 ms\n"
     ]
    }
   ],
   "source": [
    "%%time\n",
    "earthquake_1_with_additional_features_df = add_features(earthquake_1_df)"
   ]
  },
  {
   "cell_type": "code",
   "execution_count": 69,
   "metadata": {},
   "outputs": [
    {
     "data": {
      "text/plain": [
       "0"
      ]
     },
     "execution_count": 69,
     "metadata": {},
     "output_type": "execute_result"
    }
   ],
   "source": [
    "earthquake_1_df.index.min()"
   ]
  },
  {
   "cell_type": "code",
   "execution_count": 70,
   "metadata": {},
   "outputs": [
    {
     "data": {
      "text/plain": [
       "44429303"
      ]
     },
     "execution_count": 70,
     "metadata": {},
     "output_type": "execute_result"
    }
   ],
   "source": [
    "earthquake_1_df.index.max()"
   ]
  },
  {
   "cell_type": "code",
   "execution_count": 83,
   "metadata": {},
   "outputs": [
    {
     "data": {
      "text/plain": [
       "acoustic_data             2.000000\n",
       "time_to_failure          11.540799\n",
       "smooth_feature_0_ws_3     0.000000\n",
       "smooth_feature_1_ws_5     0.000000\n",
       "smooth_feature_2_ws_7     0.000000\n",
       "Name: 522, dtype: float64"
      ]
     },
     "execution_count": 83,
     "metadata": {},
     "output_type": "execute_result"
    }
   ],
   "source": [
    "earthquake_1_df.iloc[522]"
   ]
  },
  {
   "cell_type": "code",
   "execution_count": null,
   "metadata": {},
   "outputs": [],
   "source": []
  }
 ],
 "metadata": {
  "kernelspec": {
   "display_name": "Python 3",
   "language": "python",
   "name": "python3"
  },
  "language_info": {
   "codemirror_mode": {
    "name": "ipython",
    "version": 3
   },
   "file_extension": ".py",
   "mimetype": "text/x-python",
   "name": "python",
   "nbconvert_exporter": "python",
   "pygments_lexer": "ipython3",
   "version": "3.6.6"
  }
 },
 "nbformat": 4,
 "nbformat_minor": 2
}
