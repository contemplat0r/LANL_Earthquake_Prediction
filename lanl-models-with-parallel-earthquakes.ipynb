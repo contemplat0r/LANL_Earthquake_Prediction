{
 "cells": [
  {
   "cell_type": "code",
   "execution_count": 1,
   "metadata": {},
   "outputs": [
    {
     "name": "stderr",
     "output_type": "stream",
     "text": [
      "Using TensorFlow backend.\n"
     ]
    }
   ],
   "source": [
    "import gc\n",
    "import math\n",
    "import os\n",
    "import pathlib\n",
    "import time\n",
    "\n",
    "import numpy as np\n",
    "import pandas as pd\n",
    "\n",
    "import matplotlib.pyplot as plt\n",
    "import seaborn as sns\n",
    "\n",
    "from tqdm import tqdm_notebook\n",
    "\n",
    "from sklearn.preprocessing import StandardScaler\n",
    "from sklearn.metrics import mean_absolute_error\n",
    "from sklearn.model_selection import StratifiedKFold, KFold, RepeatedKFold, train_test_split\n",
    "\n",
    "import lightgbm as lgb\n",
    "import xgboost as xgb\n",
    "\n",
    "import keras\n",
    "from keras.models import Sequential\n",
    "from keras.layers import Dense\n",
    "from keras.optimizers import adam\n",
    "from keras.callbacks import ModelCheckpoint"
   ]
  },
  {
   "cell_type": "code",
   "execution_count": 2,
   "metadata": {},
   "outputs": [],
   "source": [
    "%matplotlib inline"
   ]
  },
  {
   "cell_type": "code",
   "execution_count": 4,
   "metadata": {},
   "outputs": [],
   "source": [
    "def features_maker(df, first_index=None, last_index=None, smootch_windows_size = (3, 5, 7)):\n",
    "    if first_index == None or last_index == None:\n",
    "        first_index = 0\n",
    "        last_index = df.shape[0] - 1\n",
    "\n",
    "    smooth_feature_names = ['smooth_feature_{}_ws_{}'.format(i, window_size) for i, window_size in enumerate(smootch_windows_size)]\n",
    "    for current_index in df.indexes.tolist():\n",
    "        for smooth_feature_name, window_size in zip(smooth_feature_names, smootch_windows_size):\n",
    "            half_window_size = window_size % 2\n",
    "            data_series = df['acoustic_data']\n",
    "            if current_index < first_index + half_window_size:\n",
    "                smooth_feature_value = data_series.iloc[first_index:first_index + window_size].mean()\n",
    "            elif current_index < last_index - half_window_size:\n",
    "                smooth_feature_value = data_series.iloc[last_index - window_size:last_index].mean()\n",
    "            else:\n",
    "                smooth_feature_value = data_series.iloc[i - half_window_size:i + half_window_size].mean()\n",
    "            df.iloc[i][feature_name] = data_series[i] - smooth_feature_value\n",
    "    return df"
   ]
  },
  {
   "cell_type": "code",
   "execution_count": null,
   "metadata": {},
   "outputs": [],
   "source": []
  }
 ],
 "metadata": {
  "kernelspec": {
   "display_name": "Python 3",
   "language": "python",
   "name": "python3"
  },
  "language_info": {
   "codemirror_mode": {
    "name": "ipython",
    "version": 3
   },
   "file_extension": ".py",
   "mimetype": "text/x-python",
   "name": "python",
   "nbconvert_exporter": "python",
   "pygments_lexer": "ipython3",
   "version": "3.6.6"
  }
 },
 "nbformat": 4,
 "nbformat_minor": 2
}
