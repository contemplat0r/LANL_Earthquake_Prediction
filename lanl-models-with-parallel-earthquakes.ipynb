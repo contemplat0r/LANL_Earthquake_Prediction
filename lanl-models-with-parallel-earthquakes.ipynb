{
 "cells": [
  {
   "cell_type": "code",
   "execution_count": 1,
   "metadata": {},
   "outputs": [
    {
     "name": "stderr",
     "output_type": "stream",
     "text": [
      "Using TensorFlow backend.\n"
     ]
    }
   ],
   "source": [
    "import gc\n",
    "import math\n",
    "import os\n",
    "import pathlib\n",
    "import time\n",
    "\n",
    "import numpy as np\n",
    "import pandas as pd\n",
    "\n",
    "import matplotlib.pyplot as plt\n",
    "import seaborn as sns\n",
    "\n",
    "from tqdm import tqdm_notebook\n",
    "\n",
    "from sklearn.preprocessing import StandardScaler\n",
    "from sklearn.metrics import mean_absolute_error\n",
    "from sklearn.model_selection import StratifiedKFold, KFold, RepeatedKFold, train_test_split\n",
    "\n",
    "import lightgbm as lgb\n",
    "import xgboost as xgb\n",
    "\n",
    "import keras\n",
    "from keras.models import Sequential\n",
    "from keras.layers import Dense\n",
    "from keras.optimizers import adam\n",
    "from keras.callbacks import ModelCheckpoint"
   ]
  },
  {
   "cell_type": "code",
   "execution_count": 2,
   "metadata": {},
   "outputs": [],
   "source": [
    "%matplotlib inline"
   ]
  },
  {
   "cell_type": "code",
   "execution_count": 76,
   "metadata": {},
   "outputs": [],
   "source": [
    "#np.random.randint?"
   ]
  },
  {
   "cell_type": "code",
   "execution_count": 54,
   "metadata": {},
   "outputs": [],
   "source": [
    "def features_maker(df, first_index=None, last_index=None, smootch_windows_size = (3, 5, 7)):\n",
    "    if first_index == None or last_index == None:\n",
    "        first_index = 0\n",
    "        last_index = df.shape[0] - 1\n",
    "\n",
    "    smooth_feature_names = ['smootch_feature_{}_ws_{}'.format(i, window_size) for i, window_size in enumerate(smootch_windows_size)]\n",
    "    for feature_name in smooth_feature_names:\n",
    "        df[feature_name] = 0\n",
    "    for i in df.index:\n",
    "        for smooth_feature_name, window_size in zip(smooth_feature_names, smootch_windows_size):\n",
    "            half_window_size = window_size // 2\n",
    "            data_series = df['acoustic_data']\n",
    "            if i < first_index + half_window_size:\n",
    "                smooth_feature_value = data_series.iloc[first_index:first_index + window_size].mean()\n",
    "            elif i < last_index - half_window_size:\n",
    "                smooth_feature_value = data_series.iloc[last_index - window_size:last_index].mean()\n",
    "            else:\n",
    "                smooth_feature_value = data_series.iloc[i - half_window_size:i + half_window_size].mean()\n",
    "            df.iloc[i][feature_name] = data_series[i] - smooth_feature_value\n",
    "    return df"
   ]
  },
  {
   "cell_type": "code",
   "execution_count": 161,
   "metadata": {},
   "outputs": [],
   "source": [
    "def add_features(\n",
    "        df,\n",
    "        first_index=None,\n",
    "        last_index=None,\n",
    "        sample_size=150000,\n",
    "        holdout_size=50000,\n",
    "        smootch_windows_size = (3, 5, 7)\n",
    "    ):\n",
    "    \n",
    "    if first_index == None or last_index == None:\n",
    "        first_index = df.index.min()\n",
    "        last_index = df.index.max()\n",
    "    sample_indexes = np.random.randint(first_index, last_index, sample_size)\n",
    "    sample_indexes.sort()\n",
    "        \n",
    "    smootch_feature_names = ['smootch_feature_{}_ws_{}'.format(i, window_size) for i, window_size in enumerate(smootch_windows_size)]\n",
    "    half_windows_size = [ws // 2 for ws in smootch_windows_size]\n",
    "    print(\"half_windows_size:\\n\", half_windows_size)\n",
    "    \n",
    "    print(\"sample_indexes.shape:\", sample_indexes.shape)\n",
    "    print(\"sample_indexes[:5]\", sample_indexes[:5])\n",
    "    print(\"sample_indexes[-5:]\", sample_indexes[-5:])\n",
    "    print(\"df.index.min()\", df.index.min())\n",
    "    print(\"df.index.max()\", df.index.max())\n",
    "    \n",
    "    \n",
    "    print(\"before data_series\")\n",
    "    sample_df = df.iloc[sample_indexes]\n",
    "    data_series = sample_df['acoustic_data']\n",
    "    print(\"sample_df.index.tolist()[:5]:\", sample_df.index.tolist()[:5])\n",
    "    print(\"sample_df.index.tolist()[-5:]:\", sample_df.index.tolist()[-5:])\n",
    "    \n",
    "    #data_series = df[sample_indexes]['acoustic_data']\n",
    "    print(\"data_series.head()\\n\", data_series.head())\n",
    "    \n",
    "    #sample_df = df[sample_indexes]\n",
    "    for feature_name in smootch_feature_names:\n",
    "        sample_df[feature_name] = 0\n",
    "    begin_smootch_features_value = []\n",
    "    end_smootch_features_value = []\n",
    "    for h_w_size, feature_name in zip(half_windows_size, smootch_feature_names):\n",
    "        print(\"\\n\\n\")\n",
    "        print(feature_name, h_w_size)\n",
    "        print(\"before begin and end indexes operations\")\n",
    "        begin_indexes = sample_indexes[:h_w_size]\n",
    "        sample_begin_indexes = sample_indexes[:h_w_size]\n",
    "        print(\"sample_begin_indexes:\\n\", sample_begin_indexes)\n",
    "        full_data_begin_indexes = df.index[:h_w_size].tolist()\n",
    "        print(\"full_data_begin_indexes:\\n\", full_data_begin_indexes)\n",
    "        in_window_begin_indexes = [idx for idx in sample_begin_indexes if idx in full_data_begin_indexes]\n",
    "        print(\"in_window_begin_indexes:\\n\", in_window_begin_indexes)\n",
    "        \n",
    "        sample_end_indexes = sample_indexes[-h_w_size:]\n",
    "        print(\"sample_end_indexes:\\n\", sample_end_indexes)\n",
    "        full_data_end_indexes = df.index[-h_w_size:].tolist()\n",
    "        print(\"full_data_end_indexes:\\n\", full_data_end_indexes)\n",
    "        in_window_end_indexes = [idx for idx in sample_end_indexes if idx in full_data_end_indexes]\n",
    "        print(\"in_window_end_indexes:\\n\", in_window_end_indexes)\n",
    "        \n",
    "        print(\"\\n\")\n",
    "        print(\"begin_indexes <= h_w_size:\\n\", begin_indexes <= h_w_size)\n",
    "        #begin_indexes = begin_indexes[begin_indexes <= h_w_size]\n",
    "        begin_indexes = begin_indexes[begin_indexes <= h_w_size]\n",
    "        \n",
    "        end_indexes = sample_indexes[-h_w_size:]\n",
    "        print(\"end_indexes >= end_indexes.max() - h_w_size:\\n\", end_indexes >= end_indexes.max() - h_w_size)\n",
    "        print(\"end_indexes:\\n\", end_indexes)\n",
    "        end_indexes = end_indexes[end_indexes >= end_indexes.max() - h_w_size]\n",
    "        print(\"begin_idexes:\\n\", begin_indexes)\n",
    "        print(\"end_idexes:\\n\", end_indexes)\n",
    "        print(\"end_indexes.max():\", end_indexes.max())\n",
    "        print(\"h_w_size:\", h_w_size)\n",
    "        '''\n",
    "        if begin_indexes:\n",
    "            print(\"if begin_indexes\")\n",
    "            for i, b_idx in enumerate(begin_indexes):\n",
    "                begin_smootch_features_value.append(df[b_idx]['acoustic_data'] - df.iloc[first_index:first_index + window_size]['acoustic_data'].mean())\n",
    "                sample_df.iloc[i][feature_name] = df[b_idx]['acoustic_data'] - df.iloc[first_index:first_index + window_size]['acoustic_data'].mean()\n",
    "        if end_indexes:\n",
    "            print(\"if end_indexes\")\n",
    "            for i, e_idx in enumerate(end_indexes):\n",
    "                end_smootch_features_value.append(df[e_idx]['acoustic_data'] - df.iloc[last_index - window_size:last_index]['acoustic_data'].mean())\n",
    "                sample_df.iloc[sample_df.shape[0] - i][feature_name] = df[e_idx]['acoustic_data'] - df.iloc[first_index:first_index + window_size]['acoustic_data'].mean()\n",
    "        '''\n",
    "    return sample_df"
   ]
  },
  {
   "cell_type": "code",
   "execution_count": 170,
   "metadata": {},
   "outputs": [],
   "source": [
    "def add_features(\n",
    "        df,\n",
    "        first_index=None,\n",
    "        last_index=None,\n",
    "        sample_size=150000,\n",
    "        holdout_size=50000,\n",
    "        smootch_windows_size = (3, 5, 7)\n",
    "    ):\n",
    "    \n",
    "    if first_index == None or last_index == None:\n",
    "        first_index = df.index.min()\n",
    "        last_index = df.index.max()\n",
    "    sample_indexes = np.random.randint(first_index, last_index, sample_size)\n",
    "    sample_indexes.sort()\n",
    "        \n",
    "    #smootch_feature_names = ['smootch_feature_{}_ws_{}'.format(i, window_size) for i, window_size in enumerate(smootch_windows_size)]\n",
    "    smootch_feature_names = ['smootch_mean_ws_{}'.format(window_size) for window_size in smootch_windows_size]\n",
    "    half_windows_size = [ws // 2 for ws in smootch_windows_size]\n",
    "    print(\"half_windows_size:\\n\", half_windows_size)\n",
    "    \n",
    "    print(\"sample_indexes.shape:\", sample_indexes.shape)\n",
    "    print(\"sample_indexes[:5]\", sample_indexes[:5])\n",
    "    print(\"sample_indexes[-5:]\", sample_indexes[-5:])\n",
    "    print(\"df.index.min()\", df.index.min())\n",
    "    print(\"df.index.max()\", df.index.max())\n",
    "    \n",
    "    acoustic_data_series = df['acoustic_data']\n",
    "    \n",
    "    print(\"before data_series\")\n",
    "    sample_df = df.iloc[sample_indexes]\n",
    "    sample_df.reset_index()\n",
    "    \n",
    "    print(\"sample_df.index[:5]:\", sample_df.index[:5])\n",
    "    print(\"sample_df.index[-5:]:\", sample_df.index[-5:])\n",
    "    \n",
    "    #data_series = df[sample_indexes]['acoustic_data']\n",
    "    print(\"acoustic_data_series.head()\\n\", acoustic_data_series.head())\n",
    "    \n",
    "    #sample_df = df[sample_indexes]\n",
    "    for feature_name in smootch_feature_names:\n",
    "        sample_df[feature_name] = 0\n",
    "    begin_smootch_features_value = []\n",
    "    end_smootch_features_value = []\n",
    "    \n",
    "    sample_indexes_set = set(sample_indexes)\n",
    "    begin_indexes_set = set()\n",
    "    end_indexes_set = set()\n",
    "    \n",
    "    for h_w_size, feature_name in zip(half_windows_size, smootch_feature_names):\n",
    "        print(\"\\n\\n\")\n",
    "        print(feature_name, h_w_size)\n",
    "        print(\"before begin and end indexes operations\")\n",
    "        begin_indexes = sample_indexes[:h_w_size]\n",
    "        \n",
    "        sample_begin_indexes = sample_indexes[:h_w_size]\n",
    "        #sample_begin_indexes = [0, 1, 2]\n",
    "        print(\"sample_begin_indexes:\\n\", sample_begin_indexes)\n",
    "        full_data_begin_indexes = df.index[:h_w_size].tolist()\n",
    "        #full_data_begin_indexes = [0, 1, 2]\n",
    "        print(\"full_data_begin_indexes:\\n\", full_data_begin_indexes)\n",
    "        in_window_begin_indexes = [idx for idx in sample_begin_indexes if idx in full_data_begin_indexes]\n",
    "        print(\"in_window_begin_indexes:\\n\", in_window_begin_indexes)\n",
    "        \n",
    "        sample_end_indexes = sample_indexes[-h_w_size:]\n",
    "        #sample_end_indexes = [44429301, 44429302, 44429303]\n",
    "        print(\"sample_end_indexes:\\n\", sample_end_indexes)\n",
    "        full_data_end_indexes = df.index[-h_w_size:].tolist()\n",
    "        print(\"full_data_end_indexes:\\n\", full_data_end_indexes)\n",
    "        in_window_end_indexes = [idx for idx in sample_end_indexes if idx in full_data_end_indexes]\n",
    "        print(\"in_window_end_indexes:\\n\", in_window_end_indexes)\n",
    "        \n",
    "        print(\"\\n\")\n",
    "        \n",
    "        #begin_indexes = begin_indexes[begin_indexes <= h_w_size]\n",
    "        begin_indexes = begin_indexes[begin_indexes <= h_w_size]\n",
    "        \n",
    "        end_indexes = sample_indexes[-h_w_size:]\n",
    "        \n",
    "        if in_window_begin_indexes:\n",
    "            begin_indexes_set.union(set(in_window_begin_indexes))\n",
    "            print(\"if begin_indexes\")\n",
    "            for b_idx in in_window_begin_indexes:\n",
    "                sample_df.iloc[b_idx][feature_name] = df[b_idx]['acoustic_data'] - df.iloc[first_index:first_index + window_size]['acoustic_data'].mean()\n",
    "        if in_window_end_indexes:\n",
    "            end_indexes_set.union(set(in_window_end_indexes))\n",
    "            print(\"if end_indexes\")\n",
    "            for e_idx in in_window_end_indexes:\n",
    "                sample_df.iloc[e_idx][feature_name] = df[e_idx]['acoustic_data'] - df.iloc[last_index - window_size:]['acoustic_data'].mean()\n",
    "    print(\"begin_indexes_set:\", begin_indexes_set)\n",
    "    print(\"end_indexes_set:\", end_indexes_set)\n",
    "    sample_indexes_set.difference(begin_indexes_set)\n",
    "    sample_indexes_set.difference(end_indexes_set)\n",
    "    sorted_sample_indexes = sorted(tuple(sample_indexes_set))\n",
    "    #for i in sorted(tuple(sample_indexes_set)):\n",
    "    for i in sample_df.shape[0]:\n",
    "        print(\"i:\", i)\n",
    "        print(\"i in sample_df.index\", i in sample_df.index)\n",
    "        temp_value = 0\n",
    "        for feature_name, half_window_size in zip(smootch_feature_names, half_windows_size):\n",
    "            #half_window_size = window_size // 2\n",
    "            #data_series = df['acoustic_data']\n",
    "            \n",
    "            feature_value = acoustic_data_series.iloc[i - half_window_size:i + half_window_size].mean()\n",
    "            temp_value = acoustic_data_series.iloc[i] - feature_value\n",
    "            print(\"temp_value:\", temp_value)\n",
    "            sample_df.iloc[i][feature_name] = temp_value\n",
    "            #print(\"feature_value:\", feature_value)\n",
    "            #acoustic_data_series.iloc[i]\n",
    "            '''\n",
    "            try:\n",
    "                temp_value = acoustic_data_series.iloc[i] - feature_value\n",
    "            except IndexError as ire:\n",
    "                print(\"i:\", i)\n",
    "                print(\"IndexError as ire:\\n\", ire)\n",
    "            sample_df.iloc[i][feature_name] = temp_value\n",
    "            '''\n",
    "    return sample_df"
   ]
  },
  {
   "cell_type": "code",
   "execution_count": 101,
   "metadata": {},
   "outputs": [],
   "source": [
    "earthquake_margin_indexes =[\n",
    "    5656573,\n",
    "    50085877,\n",
    "    104677355,\n",
    "    138772452,\n",
    "    187641819,\n",
    "    218652629,\n",
    "    245829584,\n",
    "    307838916,\n",
    "    338276286,\n",
    "    375377847,\n",
    "    419368879,\n",
    "    461811622,\n",
    "    495800224,\n",
    "    528777114,\n",
    "    585568143,\n",
    "    621985672\n",
    "]"
   ]
  },
  {
   "cell_type": "code",
   "execution_count": 8,
   "metadata": {},
   "outputs": [],
   "source": [
    "earthquakes_length = [earthquake_margin_indexes[i + 1] - earthquake_margin_indexes[i] for i in range(len(earthquake_margin_indexes) - 1)]"
   ]
  },
  {
   "cell_type": "code",
   "execution_count": 9,
   "metadata": {},
   "outputs": [
    {
     "data": {
      "text/plain": [
       "[44429304,\n",
       " 54591478,\n",
       " 34095097,\n",
       " 48869367,\n",
       " 31010810,\n",
       " 27176955,\n",
       " 62009332,\n",
       " 30437370,\n",
       " 37101561,\n",
       " 43991032,\n",
       " 42442743,\n",
       " 33988602,\n",
       " 32976890,\n",
       " 56791029,\n",
       " 36417529]"
      ]
     },
     "execution_count": 9,
     "metadata": {},
     "output_type": "execute_result"
    }
   ],
   "source": [
    "earthquakes_length"
   ]
  },
  {
   "cell_type": "code",
   "execution_count": 10,
   "metadata": {},
   "outputs": [
    {
     "data": {
      "text/plain": [
       "36417529"
      ]
     },
     "execution_count": 10,
     "metadata": {},
     "output_type": "execute_result"
    }
   ],
   "source": [
    "621985672 - 585568143"
   ]
  },
  {
   "cell_type": "code",
   "execution_count": 11,
   "metadata": {},
   "outputs": [
    {
     "data": {
      "text/plain": [
       "44429304"
      ]
     },
     "execution_count": 11,
     "metadata": {},
     "output_type": "execute_result"
    }
   ],
   "source": [
    "50085877 - 5656573"
   ]
  },
  {
   "cell_type": "code",
   "execution_count": 32,
   "metadata": {},
   "outputs": [],
   "source": [
    "complete_earthquakes_length = earthquakes_length[:-1]"
   ]
  },
  {
   "cell_type": "code",
   "execution_count": 15,
   "metadata": {},
   "outputs": [],
   "source": [
    "#complete_earthquaces_length = complete_earthquaces_length[:-1]"
   ]
  },
  {
   "cell_type": "code",
   "execution_count": 33,
   "metadata": {},
   "outputs": [
    {
     "data": {
      "text/plain": [
       "[44429304,\n",
       " 54591478,\n",
       " 34095097,\n",
       " 48869367,\n",
       " 31010810,\n",
       " 27176955,\n",
       " 62009332,\n",
       " 30437370,\n",
       " 37101561,\n",
       " 43991032,\n",
       " 42442743,\n",
       " 33988602,\n",
       " 32976890,\n",
       " 56791029]"
      ]
     },
     "execution_count": 33,
     "metadata": {},
     "output_type": "execute_result"
    }
   ],
   "source": [
    "complete_earthquakes_length"
   ]
  },
  {
   "cell_type": "code",
   "execution_count": 34,
   "metadata": {},
   "outputs": [
    {
     "data": {
      "text/plain": [
       "14"
      ]
     },
     "execution_count": 34,
     "metadata": {},
     "output_type": "execute_result"
    }
   ],
   "source": [
    "len(complete_earthquakes_length)"
   ]
  },
  {
   "cell_type": "code",
   "execution_count": 36,
   "metadata": {},
   "outputs": [],
   "source": [
    "earthquakes_length_more_2_less_3 = [length for length in complete_earthquaces_length if length > 20000000 and length < 30000000]"
   ]
  },
  {
   "cell_type": "code",
   "execution_count": 37,
   "metadata": {},
   "outputs": [],
   "source": [
    "earthquakes_length_more_3_less_4 = [length for length in complete_earthquaces_length if length > 30000000 and length < 40000000]"
   ]
  },
  {
   "cell_type": "code",
   "execution_count": 38,
   "metadata": {},
   "outputs": [],
   "source": [
    "earthquakes_length_more_4_less_5 = [length for length in complete_earthquaces_length if length > 40000000 and length < 50000000]"
   ]
  },
  {
   "cell_type": "code",
   "execution_count": 39,
   "metadata": {},
   "outputs": [],
   "source": [
    "earthquakes_length_more_5_less_6 = [length for length in complete_earthquaces_length if length > 50000000 and length < 60000000]"
   ]
  },
  {
   "cell_type": "code",
   "execution_count": 40,
   "metadata": {},
   "outputs": [],
   "source": [
    "earthquakes_length_more_6 = [length for length in complete_earthquaces_length if length > 60000000]"
   ]
  },
  {
   "cell_type": "code",
   "execution_count": 41,
   "metadata": {},
   "outputs": [
    {
     "data": {
      "text/plain": [
       "[34095097, 31010810, 30437370, 37101561, 33988602, 32976890]"
      ]
     },
     "execution_count": 41,
     "metadata": {},
     "output_type": "execute_result"
    }
   ],
   "source": [
    "earthquakes_length_more_3_less_4"
   ]
  },
  {
   "cell_type": "code",
   "execution_count": 42,
   "metadata": {},
   "outputs": [
    {
     "data": {
      "text/plain": [
       "[27176955]"
      ]
     },
     "execution_count": 42,
     "metadata": {},
     "output_type": "execute_result"
    }
   ],
   "source": [
    "earthquakes_length_more_2_less_3"
   ]
  },
  {
   "cell_type": "code",
   "execution_count": 43,
   "metadata": {},
   "outputs": [
    {
     "data": {
      "text/plain": [
       "[34095097, 31010810, 30437370, 37101561, 33988602, 32976890]"
      ]
     },
     "execution_count": 43,
     "metadata": {},
     "output_type": "execute_result"
    }
   ],
   "source": [
    "earthquakes_length_more_3_less_4"
   ]
  },
  {
   "cell_type": "code",
   "execution_count": 44,
   "metadata": {},
   "outputs": [
    {
     "data": {
      "text/plain": [
       "[44429304, 48869367, 43991032, 42442743]"
      ]
     },
     "execution_count": 44,
     "metadata": {},
     "output_type": "execute_result"
    }
   ],
   "source": [
    "earthquakes_length_more_4_less_5"
   ]
  },
  {
   "cell_type": "code",
   "execution_count": 45,
   "metadata": {},
   "outputs": [
    {
     "data": {
      "text/plain": [
       "[54591478, 56791029]"
      ]
     },
     "execution_count": 45,
     "metadata": {},
     "output_type": "execute_result"
    }
   ],
   "source": [
    "earthquakes_length_more_5_less_6"
   ]
  },
  {
   "cell_type": "code",
   "execution_count": 46,
   "metadata": {},
   "outputs": [
    {
     "data": {
      "text/plain": [
       "[62009332]"
      ]
     },
     "execution_count": 46,
     "metadata": {},
     "output_type": "execute_result"
    }
   ],
   "source": [
    "earthquakes_length_more_6"
   ]
  },
  {
   "cell_type": "code",
   "execution_count": 92,
   "metadata": {},
   "outputs": [
    {
     "name": "stdout",
     "output_type": "stream",
     "text": [
      "CPU times: user 0 ns, sys: 0 ns, total: 0 ns\n",
      "Wall time: 6.68 µs\n"
     ]
    }
   ],
   "source": [
    "%time\n",
    "earthquake_1_df = pd.read_csv(\n",
    "    '../input/train/train.csv',\n",
    "    #nrows=100000000,\n",
    "    names=['acoustic_data', 'time_to_failure'],\n",
    "    dtype={'acoustic_data': np.float32, 'time_to_failure': np.float32},\n",
    "    skiprows=earthquake_margin_indexes[0],\n",
    "    nrows=complete_earthquakes_length[0]\n",
    ")"
   ]
  },
  {
   "cell_type": "code",
   "execution_count": 49,
   "metadata": {},
   "outputs": [
    {
     "name": "stdout",
     "output_type": "stream",
     "text": [
      "<class 'pandas.core.frame.DataFrame'>\n",
      "RangeIndex: 44429304 entries, 0 to 44429303\n",
      "Data columns (total 2 columns):\n",
      "acoustic_data      float32\n",
      "time_to_failure    float32\n",
      "dtypes: float32(2)\n",
      "memory usage: 339.0 MB\n"
     ]
    }
   ],
   "source": [
    "earthquake_1_df.info()"
   ]
  },
  {
   "cell_type": "markdown",
   "metadata": {},
   "source": [
    "%%time\n",
    "earthquake_1_with_additional_features_df = features_maker(earthquake_1_df)"
   ]
  },
  {
   "cell_type": "code",
   "execution_count": 56,
   "metadata": {},
   "outputs": [],
   "source": [
    "#np.random.randint?"
   ]
  },
  {
   "cell_type": "code",
   "execution_count": 172,
   "metadata": {},
   "outputs": [
    {
     "name": "stdout",
     "output_type": "stream",
     "text": [
      "half_windows_size:\n",
      " [1, 2, 3]\n",
      "sample_indexes.shape: (100,)\n",
      "sample_indexes[:5] [ 157128 1897235 2022634 2372420 2380824]\n",
      "sample_indexes[-5:] [42069405 42108559 42569656 42664031 43683121]\n",
      "df.index.min() 0\n",
      "df.index.max() 44429303\n",
      "before data_series\n",
      "sample_df.index[:5]: Int64Index([157128, 1897235, 2022634, 2372420, 2380824], dtype='int64')\n",
      "sample_df.index[-5:]: Int64Index([42069405, 42108559, 42569656, 42664031, 43683121], dtype='int64')\n",
      "acoustic_data_series.head()\n",
      " 0    5.0\n",
      "1    4.0\n",
      "2    4.0\n",
      "3    5.0\n",
      "4    6.0\n",
      "Name: acoustic_data, dtype: float32\n",
      "\n",
      "\n",
      "\n",
      "smootch_mean_ws_3 1\n",
      "before begin and end indexes operations\n",
      "sample_begin_indexes:\n",
      " [157128]\n",
      "full_data_begin_indexes:\n",
      " [0]\n",
      "in_window_begin_indexes:\n",
      " []\n",
      "sample_end_indexes:\n",
      " [43683121]\n",
      "full_data_end_indexes:\n",
      " [44429303]\n",
      "in_window_end_indexes:\n",
      " []\n",
      "\n",
      "\n",
      "\n",
      "\n",
      "\n",
      "smootch_mean_ws_5 2\n",
      "before begin and end indexes operations\n",
      "sample_begin_indexes:\n",
      " [ 157128 1897235]\n",
      "full_data_begin_indexes:\n",
      " [0, 1]\n",
      "in_window_begin_indexes:\n",
      " []\n",
      "sample_end_indexes:\n",
      " [42664031 43683121]\n",
      "full_data_end_indexes:\n",
      " [44429302, 44429303]\n",
      "in_window_end_indexes:\n",
      " []\n",
      "\n",
      "\n",
      "\n",
      "\n",
      "\n",
      "smootch_mean_ws_7 3\n",
      "before begin and end indexes operations\n",
      "sample_begin_indexes:\n",
      " [ 157128 1897235 2022634]\n",
      "full_data_begin_indexes:\n",
      " [0, 1, 2]\n",
      "in_window_begin_indexes:\n",
      " []\n",
      "sample_end_indexes:\n",
      " [42569656 42664031 43683121]\n",
      "full_data_end_indexes:\n",
      " [44429301, 44429302, 44429303]\n",
      "in_window_end_indexes:\n",
      " []\n",
      "\n",
      "\n",
      "begin_indexes_set: set()\n",
      "end_indexes_set: set()\n",
      "i: 157128\n",
      "i in sample_df.index True\n",
      "temp_value: -4.5\n"
     ]
    },
    {
     "ename": "IndexError",
     "evalue": "single positional indexer is out-of-bounds",
     "output_type": "error",
     "traceback": [
      "\u001b[0;31m---------------------------------------------------------------------------\u001b[0m",
      "\u001b[0;31mIndexError\u001b[0m                                Traceback (most recent call last)",
      "\u001b[0;32m<timed exec>\u001b[0m in \u001b[0;36m<module>\u001b[0;34m()\u001b[0m\n",
      "\u001b[0;32m<ipython-input-170-ecf32c8b5a2e>\u001b[0m in \u001b[0;36madd_features\u001b[0;34m(df, first_index, last_index, sample_size, holdout_size, smootch_windows_size)\u001b[0m\n\u001b[1;32m    102\u001b[0m             \u001b[0mtemp_value\u001b[0m \u001b[0;34m=\u001b[0m \u001b[0macoustic_data_series\u001b[0m\u001b[0;34m.\u001b[0m\u001b[0miloc\u001b[0m\u001b[0;34m[\u001b[0m\u001b[0mi\u001b[0m\u001b[0;34m]\u001b[0m \u001b[0;34m-\u001b[0m \u001b[0mfeature_value\u001b[0m\u001b[0;34m\u001b[0m\u001b[0m\n\u001b[1;32m    103\u001b[0m             \u001b[0mprint\u001b[0m\u001b[0;34m(\u001b[0m\u001b[0;34m\"temp_value:\"\u001b[0m\u001b[0;34m,\u001b[0m \u001b[0mtemp_value\u001b[0m\u001b[0;34m)\u001b[0m\u001b[0;34m\u001b[0m\u001b[0m\n\u001b[0;32m--> 104\u001b[0;31m             \u001b[0msample_df\u001b[0m\u001b[0;34m.\u001b[0m\u001b[0miloc\u001b[0m\u001b[0;34m[\u001b[0m\u001b[0mi\u001b[0m\u001b[0;34m]\u001b[0m\u001b[0;34m[\u001b[0m\u001b[0mfeature_name\u001b[0m\u001b[0;34m]\u001b[0m \u001b[0;34m=\u001b[0m \u001b[0mtemp_value\u001b[0m\u001b[0;34m\u001b[0m\u001b[0m\n\u001b[0m\u001b[1;32m    105\u001b[0m             \u001b[0;31m#print(\"feature_value:\", feature_value)\u001b[0m\u001b[0;34m\u001b[0m\u001b[0;34m\u001b[0m\u001b[0m\n\u001b[1;32m    106\u001b[0m             \u001b[0;31m#acoustic_data_series.iloc[i]\u001b[0m\u001b[0;34m\u001b[0m\u001b[0;34m\u001b[0m\u001b[0m\n",
      "\u001b[0;32m~/miniconda3/envs/DS-New/lib/python3.6/site-packages/pandas/core/indexing.py\u001b[0m in \u001b[0;36m__getitem__\u001b[0;34m(self, key)\u001b[0m\n\u001b[1;32m   1476\u001b[0m \u001b[0;34m\u001b[0m\u001b[0m\n\u001b[1;32m   1477\u001b[0m             \u001b[0mmaybe_callable\u001b[0m \u001b[0;34m=\u001b[0m \u001b[0mcom\u001b[0m\u001b[0;34m.\u001b[0m\u001b[0m_apply_if_callable\u001b[0m\u001b[0;34m(\u001b[0m\u001b[0mkey\u001b[0m\u001b[0;34m,\u001b[0m \u001b[0mself\u001b[0m\u001b[0;34m.\u001b[0m\u001b[0mobj\u001b[0m\u001b[0;34m)\u001b[0m\u001b[0;34m\u001b[0m\u001b[0m\n\u001b[0;32m-> 1478\u001b[0;31m             \u001b[0;32mreturn\u001b[0m \u001b[0mself\u001b[0m\u001b[0;34m.\u001b[0m\u001b[0m_getitem_axis\u001b[0m\u001b[0;34m(\u001b[0m\u001b[0mmaybe_callable\u001b[0m\u001b[0;34m,\u001b[0m \u001b[0maxis\u001b[0m\u001b[0;34m=\u001b[0m\u001b[0maxis\u001b[0m\u001b[0;34m)\u001b[0m\u001b[0;34m\u001b[0m\u001b[0m\n\u001b[0m\u001b[1;32m   1479\u001b[0m \u001b[0;34m\u001b[0m\u001b[0m\n\u001b[1;32m   1480\u001b[0m     \u001b[0;32mdef\u001b[0m \u001b[0m_is_scalar_access\u001b[0m\u001b[0;34m(\u001b[0m\u001b[0mself\u001b[0m\u001b[0;34m,\u001b[0m \u001b[0mkey\u001b[0m\u001b[0;34m)\u001b[0m\u001b[0;34m:\u001b[0m\u001b[0;34m\u001b[0m\u001b[0m\n",
      "\u001b[0;32m~/miniconda3/envs/DS-New/lib/python3.6/site-packages/pandas/core/indexing.py\u001b[0m in \u001b[0;36m_getitem_axis\u001b[0;34m(self, key, axis)\u001b[0m\n\u001b[1;32m   2100\u001b[0m                                 \"non-integer key\")\n\u001b[1;32m   2101\u001b[0m \u001b[0;34m\u001b[0m\u001b[0m\n\u001b[0;32m-> 2102\u001b[0;31m             \u001b[0;31m# validate the location\u001b[0m\u001b[0;34m\u001b[0m\u001b[0;34m\u001b[0m\u001b[0m\n\u001b[0m\u001b[1;32m   2103\u001b[0m             \u001b[0mself\u001b[0m\u001b[0;34m.\u001b[0m\u001b[0m_validate_integer\u001b[0m\u001b[0;34m(\u001b[0m\u001b[0mkey\u001b[0m\u001b[0;34m,\u001b[0m \u001b[0maxis\u001b[0m\u001b[0;34m)\u001b[0m\u001b[0;34m\u001b[0m\u001b[0m\n\u001b[1;32m   2104\u001b[0m \u001b[0;34m\u001b[0m\u001b[0m\n",
      "\u001b[0;32m~/miniconda3/envs/DS-New/lib/python3.6/site-packages/pandas/core/indexing.py\u001b[0m in \u001b[0;36m_validate_integer\u001b[0;34m(self, key, axis)\u001b[0m\n\u001b[1;32m   2007\u001b[0m         \u001b[0ml\u001b[0m \u001b[0;34m=\u001b[0m \u001b[0mlen\u001b[0m\u001b[0;34m(\u001b[0m\u001b[0max\u001b[0m\u001b[0;34m)\u001b[0m\u001b[0;34m\u001b[0m\u001b[0m\n\u001b[1;32m   2008\u001b[0m         \u001b[0mprint\u001b[0m\u001b[0;34m(\u001b[0m\u001b[0;31m\"\u001b[0m\u001b[0ml\u001b[0m\u001b[0;34m:\u001b[0m\u001b[0;31m'\u001b[0m\u001b[0;34m,\u001b[0m \u001b[0ml\u001b[0m\u001b[0;34m)\u001b[0m\u001b[0;34m\u001b[0m\u001b[0m\n\u001b[0;32m-> 2009\u001b[0;31m         \u001b[0;32mif\u001b[0m \u001b[0mkey\u001b[0m \u001b[0;34m>=\u001b[0m \u001b[0ml\u001b[0m \u001b[0;32mor\u001b[0m \u001b[0mkey\u001b[0m \u001b[0;34m<\u001b[0m \u001b[0;34m-\u001b[0m\u001b[0ml\u001b[0m\u001b[0;34m:\u001b[0m\u001b[0;34m\u001b[0m\u001b[0m\n\u001b[0m\u001b[1;32m   2010\u001b[0m             \u001b[0;32mraise\u001b[0m \u001b[0mIndexError\u001b[0m\u001b[0;34m(\u001b[0m\u001b[0;34m\"single positional indexer is out-of-bounds\"\u001b[0m\u001b[0;34m)\u001b[0m\u001b[0;34m\u001b[0m\u001b[0m\n\u001b[1;32m   2011\u001b[0m \u001b[0;34m\u001b[0m\u001b[0m\n",
      "\u001b[0;31mIndexError\u001b[0m: single positional indexer is out-of-bounds"
     ]
    }
   ],
   "source": [
    "%%time\n",
    "earthquake_1_with_additional_features_df = add_features(earthquake_1_df, sample_size=100)"
   ]
  },
  {
   "cell_type": "code",
   "execution_count": 69,
   "metadata": {},
   "outputs": [
    {
     "data": {
      "text/plain": [
       "0"
      ]
     },
     "execution_count": 69,
     "metadata": {},
     "output_type": "execute_result"
    }
   ],
   "source": [
    "earthquake_1_df.index.min()"
   ]
  },
  {
   "cell_type": "code",
   "execution_count": 70,
   "metadata": {},
   "outputs": [
    {
     "data": {
      "text/plain": [
       "44429303"
      ]
     },
     "execution_count": 70,
     "metadata": {},
     "output_type": "execute_result"
    }
   ],
   "source": [
    "earthquake_1_df.index.max()"
   ]
  },
  {
   "cell_type": "code",
   "execution_count": 83,
   "metadata": {},
   "outputs": [
    {
     "data": {
      "text/plain": [
       "acoustic_data             2.000000\n",
       "time_to_failure          11.540799\n",
       "smooth_feature_0_ws_3     0.000000\n",
       "smooth_feature_1_ws_5     0.000000\n",
       "smooth_feature_2_ws_7     0.000000\n",
       "Name: 522, dtype: float64"
      ]
     },
     "execution_count": 83,
     "metadata": {},
     "output_type": "execute_result"
    }
   ],
   "source": [
    "earthquake_1_df.iloc[522]"
   ]
  },
  {
   "cell_type": "code",
   "execution_count": 129,
   "metadata": {},
   "outputs": [
    {
     "data": {
      "text/html": [
       "<div>\n",
       "<style scoped>\n",
       "    .dataframe tbody tr th:only-of-type {\n",
       "        vertical-align: middle;\n",
       "    }\n",
       "\n",
       "    .dataframe tbody tr th {\n",
       "        vertical-align: top;\n",
       "    }\n",
       "\n",
       "    .dataframe thead th {\n",
       "        text-align: right;\n",
       "    }\n",
       "</style>\n",
       "<table border=\"1\" class=\"dataframe\">\n",
       "  <thead>\n",
       "    <tr style=\"text-align: right;\">\n",
       "      <th></th>\n",
       "      <th>acoustic_data</th>\n",
       "      <th>time_to_failure</th>\n",
       "    </tr>\n",
       "  </thead>\n",
       "  <tbody>\n",
       "    <tr>\n",
       "      <th>0</th>\n",
       "      <td>5.0</td>\n",
       "      <td>0.000795</td>\n",
       "    </tr>\n",
       "    <tr>\n",
       "      <th>1</th>\n",
       "      <td>4.0</td>\n",
       "      <td>0.000795</td>\n",
       "    </tr>\n",
       "    <tr>\n",
       "      <th>2</th>\n",
       "      <td>4.0</td>\n",
       "      <td>11.540800</td>\n",
       "    </tr>\n",
       "    <tr>\n",
       "      <th>3</th>\n",
       "      <td>5.0</td>\n",
       "      <td>11.540800</td>\n",
       "    </tr>\n",
       "    <tr>\n",
       "      <th>4</th>\n",
       "      <td>6.0</td>\n",
       "      <td>11.540800</td>\n",
       "    </tr>\n",
       "  </tbody>\n",
       "</table>\n",
       "</div>"
      ],
      "text/plain": [
       "   acoustic_data  time_to_failure\n",
       "0            5.0         0.000795\n",
       "1            4.0         0.000795\n",
       "2            4.0        11.540800\n",
       "3            5.0        11.540800\n",
       "4            6.0        11.540800"
      ]
     },
     "execution_count": 129,
     "metadata": {},
     "output_type": "execute_result"
    }
   ],
   "source": [
    "earthquake_1_df.head()"
   ]
  },
  {
   "cell_type": "code",
   "execution_count": 173,
   "metadata": {},
   "outputs": [
    {
     "data": {
      "text/html": [
       "<div>\n",
       "<style scoped>\n",
       "    .dataframe tbody tr th:only-of-type {\n",
       "        vertical-align: middle;\n",
       "    }\n",
       "\n",
       "    .dataframe tbody tr th {\n",
       "        vertical-align: top;\n",
       "    }\n",
       "\n",
       "    .dataframe thead th {\n",
       "        text-align: right;\n",
       "    }\n",
       "</style>\n",
       "<table border=\"1\" class=\"dataframe\">\n",
       "  <thead>\n",
       "    <tr style=\"text-align: right;\">\n",
       "      <th></th>\n",
       "      <th>acoustic_data</th>\n",
       "      <th>time_to_failure</th>\n",
       "      <th>smootch_feature_0_ws_3</th>\n",
       "      <th>smootch_feature_1_ws_5</th>\n",
       "      <th>smootch_feature_2_ws_7</th>\n",
       "    </tr>\n",
       "  </thead>\n",
       "  <tbody>\n",
       "    <tr>\n",
       "      <th>90</th>\n",
       "      <td>8.0</td>\n",
       "      <td>11.540800</td>\n",
       "      <td>0</td>\n",
       "      <td>0</td>\n",
       "      <td>0</td>\n",
       "    </tr>\n",
       "    <tr>\n",
       "      <th>474</th>\n",
       "      <td>1.0</td>\n",
       "      <td>11.540799</td>\n",
       "      <td>0</td>\n",
       "      <td>0</td>\n",
       "      <td>0</td>\n",
       "    </tr>\n",
       "    <tr>\n",
       "      <th>1229</th>\n",
       "      <td>7.0</td>\n",
       "      <td>11.540798</td>\n",
       "      <td>0</td>\n",
       "      <td>0</td>\n",
       "      <td>0</td>\n",
       "    </tr>\n",
       "    <tr>\n",
       "      <th>1304</th>\n",
       "      <td>3.0</td>\n",
       "      <td>11.540798</td>\n",
       "      <td>0</td>\n",
       "      <td>0</td>\n",
       "      <td>0</td>\n",
       "    </tr>\n",
       "    <tr>\n",
       "      <th>1667</th>\n",
       "      <td>1.0</td>\n",
       "      <td>11.540798</td>\n",
       "      <td>0</td>\n",
       "      <td>0</td>\n",
       "      <td>0</td>\n",
       "    </tr>\n",
       "  </tbody>\n",
       "</table>\n",
       "</div>"
      ],
      "text/plain": [
       "      acoustic_data  time_to_failure  smootch_feature_0_ws_3  \\\n",
       "90              8.0        11.540800                       0   \n",
       "474             1.0        11.540799                       0   \n",
       "1229            7.0        11.540798                       0   \n",
       "1304            3.0        11.540798                       0   \n",
       "1667            1.0        11.540798                       0   \n",
       "\n",
       "      smootch_feature_1_ws_5  smootch_feature_2_ws_7  \n",
       "90                         0                       0  \n",
       "474                        0                       0  \n",
       "1229                       0                       0  \n",
       "1304                       0                       0  \n",
       "1667                       0                       0  "
      ]
     },
     "execution_count": 173,
     "metadata": {},
     "output_type": "execute_result"
    }
   ],
   "source": [
    "earthquake_1_with_additional_features_df.head()"
   ]
  },
  {
   "cell_type": "code",
   "execution_count": 144,
   "metadata": {},
   "outputs": [],
   "source": [
    "e_1_idx = earthquake_1_df.index"
   ]
  },
  {
   "cell_type": "code",
   "execution_count": 145,
   "metadata": {},
   "outputs": [
    {
     "data": {
      "text/plain": [
       "True"
      ]
     },
     "execution_count": 145,
     "metadata": {},
     "output_type": "execute_result"
    }
   ],
   "source": [
    "150590 in e_1_idx"
   ]
  },
  {
   "cell_type": "code",
   "execution_count": 146,
   "metadata": {},
   "outputs": [],
   "source": [
    "e_1_acoustic_series = earthquake_1_df['acoustic_data']"
   ]
  },
  {
   "cell_type": "code",
   "execution_count": 147,
   "metadata": {},
   "outputs": [
    {
     "data": {
      "text/plain": [
       "(44429304,)"
      ]
     },
     "execution_count": 147,
     "metadata": {},
     "output_type": "execute_result"
    }
   ],
   "source": [
    "e_1_acoustic_series.shape"
   ]
  },
  {
   "cell_type": "code",
   "execution_count": 148,
   "metadata": {},
   "outputs": [],
   "source": [
    "e_1_as_idx = e_1_acoustic_series.index"
   ]
  },
  {
   "cell_type": "code",
   "execution_count": 149,
   "metadata": {},
   "outputs": [
    {
     "data": {
      "text/plain": [
       "(44429304,)"
      ]
     },
     "execution_count": 149,
     "metadata": {},
     "output_type": "execute_result"
    }
   ],
   "source": [
    "e_1_as_idx.shape"
   ]
  },
  {
   "cell_type": "code",
   "execution_count": 150,
   "metadata": {},
   "outputs": [
    {
     "data": {
      "text/plain": [
       "True"
      ]
     },
     "execution_count": 150,
     "metadata": {},
     "output_type": "execute_result"
    }
   ],
   "source": [
    "150590 in e_1_as_idx"
   ]
  },
  {
   "cell_type": "code",
   "execution_count": 151,
   "metadata": {},
   "outputs": [
    {
     "data": {
      "text/plain": [
       "7.0"
      ]
     },
     "execution_count": 151,
     "metadata": {},
     "output_type": "execute_result"
    }
   ],
   "source": [
    "e_1_acoustic_series[150590]"
   ]
  },
  {
   "cell_type": "code",
   "execution_count": 169,
   "metadata": {},
   "outputs": [],
   "source": [
    "earthquake_1_df.reset_index?"
   ]
  },
  {
   "cell_type": "code",
   "execution_count": 174,
   "metadata": {},
   "outputs": [],
   "source": [
    "earthquake_1_with_additional_features_copy_df = earthquake_1_with_additional_features_df.copy()"
   ]
  },
  {
   "cell_type": "code",
   "execution_count": 175,
   "metadata": {},
   "outputs": [
    {
     "data": {
      "text/html": [
       "<div>\n",
       "<style scoped>\n",
       "    .dataframe tbody tr th:only-of-type {\n",
       "        vertical-align: middle;\n",
       "    }\n",
       "\n",
       "    .dataframe tbody tr th {\n",
       "        vertical-align: top;\n",
       "    }\n",
       "\n",
       "    .dataframe thead th {\n",
       "        text-align: right;\n",
       "    }\n",
       "</style>\n",
       "<table border=\"1\" class=\"dataframe\">\n",
       "  <thead>\n",
       "    <tr style=\"text-align: right;\">\n",
       "      <th></th>\n",
       "      <th>acoustic_data</th>\n",
       "      <th>time_to_failure</th>\n",
       "      <th>smootch_feature_0_ws_3</th>\n",
       "      <th>smootch_feature_1_ws_5</th>\n",
       "      <th>smootch_feature_2_ws_7</th>\n",
       "    </tr>\n",
       "  </thead>\n",
       "  <tbody>\n",
       "    <tr>\n",
       "      <th>90</th>\n",
       "      <td>8.0</td>\n",
       "      <td>11.540800</td>\n",
       "      <td>0</td>\n",
       "      <td>0</td>\n",
       "      <td>0</td>\n",
       "    </tr>\n",
       "    <tr>\n",
       "      <th>474</th>\n",
       "      <td>1.0</td>\n",
       "      <td>11.540799</td>\n",
       "      <td>0</td>\n",
       "      <td>0</td>\n",
       "      <td>0</td>\n",
       "    </tr>\n",
       "    <tr>\n",
       "      <th>1229</th>\n",
       "      <td>7.0</td>\n",
       "      <td>11.540798</td>\n",
       "      <td>0</td>\n",
       "      <td>0</td>\n",
       "      <td>0</td>\n",
       "    </tr>\n",
       "    <tr>\n",
       "      <th>1304</th>\n",
       "      <td>3.0</td>\n",
       "      <td>11.540798</td>\n",
       "      <td>0</td>\n",
       "      <td>0</td>\n",
       "      <td>0</td>\n",
       "    </tr>\n",
       "    <tr>\n",
       "      <th>1667</th>\n",
       "      <td>1.0</td>\n",
       "      <td>11.540798</td>\n",
       "      <td>0</td>\n",
       "      <td>0</td>\n",
       "      <td>0</td>\n",
       "    </tr>\n",
       "  </tbody>\n",
       "</table>\n",
       "</div>"
      ],
      "text/plain": [
       "      acoustic_data  time_to_failure  smootch_feature_0_ws_3  \\\n",
       "90              8.0        11.540800                       0   \n",
       "474             1.0        11.540799                       0   \n",
       "1229            7.0        11.540798                       0   \n",
       "1304            3.0        11.540798                       0   \n",
       "1667            1.0        11.540798                       0   \n",
       "\n",
       "      smootch_feature_1_ws_5  smootch_feature_2_ws_7  \n",
       "90                         0                       0  \n",
       "474                        0                       0  \n",
       "1229                       0                       0  \n",
       "1304                       0                       0  \n",
       "1667                       0                       0  "
      ]
     },
     "execution_count": 175,
     "metadata": {},
     "output_type": "execute_result"
    }
   ],
   "source": [
    "earthquake_1_with_additional_features_copy_df.head()"
   ]
  },
  {
   "cell_type": "code",
   "execution_count": 176,
   "metadata": {},
   "outputs": [
    {
     "data": {
      "text/html": [
       "<div>\n",
       "<style scoped>\n",
       "    .dataframe tbody tr th:only-of-type {\n",
       "        vertical-align: middle;\n",
       "    }\n",
       "\n",
       "    .dataframe tbody tr th {\n",
       "        vertical-align: top;\n",
       "    }\n",
       "\n",
       "    .dataframe thead th {\n",
       "        text-align: right;\n",
       "    }\n",
       "</style>\n",
       "<table border=\"1\" class=\"dataframe\">\n",
       "  <thead>\n",
       "    <tr style=\"text-align: right;\">\n",
       "      <th></th>\n",
       "      <th>index</th>\n",
       "      <th>acoustic_data</th>\n",
       "      <th>time_to_failure</th>\n",
       "      <th>smootch_feature_0_ws_3</th>\n",
       "      <th>smootch_feature_1_ws_5</th>\n",
       "      <th>smootch_feature_2_ws_7</th>\n",
       "    </tr>\n",
       "  </thead>\n",
       "  <tbody>\n",
       "    <tr>\n",
       "      <th>0</th>\n",
       "      <td>90</td>\n",
       "      <td>8.0</td>\n",
       "      <td>11.540800</td>\n",
       "      <td>0</td>\n",
       "      <td>0</td>\n",
       "      <td>0</td>\n",
       "    </tr>\n",
       "    <tr>\n",
       "      <th>1</th>\n",
       "      <td>474</td>\n",
       "      <td>1.0</td>\n",
       "      <td>11.540799</td>\n",
       "      <td>0</td>\n",
       "      <td>0</td>\n",
       "      <td>0</td>\n",
       "    </tr>\n",
       "    <tr>\n",
       "      <th>2</th>\n",
       "      <td>1229</td>\n",
       "      <td>7.0</td>\n",
       "      <td>11.540798</td>\n",
       "      <td>0</td>\n",
       "      <td>0</td>\n",
       "      <td>0</td>\n",
       "    </tr>\n",
       "    <tr>\n",
       "      <th>3</th>\n",
       "      <td>1304</td>\n",
       "      <td>3.0</td>\n",
       "      <td>11.540798</td>\n",
       "      <td>0</td>\n",
       "      <td>0</td>\n",
       "      <td>0</td>\n",
       "    </tr>\n",
       "    <tr>\n",
       "      <th>4</th>\n",
       "      <td>1667</td>\n",
       "      <td>1.0</td>\n",
       "      <td>11.540798</td>\n",
       "      <td>0</td>\n",
       "      <td>0</td>\n",
       "      <td>0</td>\n",
       "    </tr>\n",
       "    <tr>\n",
       "      <th>5</th>\n",
       "      <td>1747</td>\n",
       "      <td>4.0</td>\n",
       "      <td>11.540798</td>\n",
       "      <td>0</td>\n",
       "      <td>0</td>\n",
       "      <td>0</td>\n",
       "    </tr>\n",
       "    <tr>\n",
       "      <th>6</th>\n",
       "      <td>1821</td>\n",
       "      <td>10.0</td>\n",
       "      <td>11.540798</td>\n",
       "      <td>0</td>\n",
       "      <td>0</td>\n",
       "      <td>0</td>\n",
       "    </tr>\n",
       "    <tr>\n",
       "      <th>7</th>\n",
       "      <td>1861</td>\n",
       "      <td>6.0</td>\n",
       "      <td>11.540798</td>\n",
       "      <td>0</td>\n",
       "      <td>0</td>\n",
       "      <td>0</td>\n",
       "    </tr>\n",
       "    <tr>\n",
       "      <th>8</th>\n",
       "      <td>2442</td>\n",
       "      <td>9.0</td>\n",
       "      <td>11.540797</td>\n",
       "      <td>0</td>\n",
       "      <td>0</td>\n",
       "      <td>0</td>\n",
       "    </tr>\n",
       "    <tr>\n",
       "      <th>9</th>\n",
       "      <td>2450</td>\n",
       "      <td>6.0</td>\n",
       "      <td>11.540797</td>\n",
       "      <td>0</td>\n",
       "      <td>0</td>\n",
       "      <td>0</td>\n",
       "    </tr>\n",
       "    <tr>\n",
       "      <th>10</th>\n",
       "      <td>2749</td>\n",
       "      <td>3.0</td>\n",
       "      <td>11.540797</td>\n",
       "      <td>0</td>\n",
       "      <td>0</td>\n",
       "      <td>0</td>\n",
       "    </tr>\n",
       "    <tr>\n",
       "      <th>11</th>\n",
       "      <td>2756</td>\n",
       "      <td>-2.0</td>\n",
       "      <td>11.540797</td>\n",
       "      <td>0</td>\n",
       "      <td>0</td>\n",
       "      <td>0</td>\n",
       "    </tr>\n",
       "    <tr>\n",
       "      <th>12</th>\n",
       "      <td>2776</td>\n",
       "      <td>0.0</td>\n",
       "      <td>11.540797</td>\n",
       "      <td>0</td>\n",
       "      <td>0</td>\n",
       "      <td>0</td>\n",
       "    </tr>\n",
       "    <tr>\n",
       "      <th>13</th>\n",
       "      <td>2921</td>\n",
       "      <td>4.0</td>\n",
       "      <td>11.540797</td>\n",
       "      <td>0</td>\n",
       "      <td>0</td>\n",
       "      <td>0</td>\n",
       "    </tr>\n",
       "    <tr>\n",
       "      <th>14</th>\n",
       "      <td>2971</td>\n",
       "      <td>6.0</td>\n",
       "      <td>11.540796</td>\n",
       "      <td>0</td>\n",
       "      <td>0</td>\n",
       "      <td>0</td>\n",
       "    </tr>\n",
       "    <tr>\n",
       "      <th>15</th>\n",
       "      <td>3691</td>\n",
       "      <td>0.0</td>\n",
       "      <td>11.540796</td>\n",
       "      <td>0</td>\n",
       "      <td>0</td>\n",
       "      <td>0</td>\n",
       "    </tr>\n",
       "    <tr>\n",
       "      <th>16</th>\n",
       "      <td>4145</td>\n",
       "      <td>9.0</td>\n",
       "      <td>11.539700</td>\n",
       "      <td>0</td>\n",
       "      <td>0</td>\n",
       "      <td>0</td>\n",
       "    </tr>\n",
       "    <tr>\n",
       "      <th>17</th>\n",
       "      <td>4268</td>\n",
       "      <td>3.0</td>\n",
       "      <td>11.539700</td>\n",
       "      <td>0</td>\n",
       "      <td>0</td>\n",
       "      <td>0</td>\n",
       "    </tr>\n",
       "    <tr>\n",
       "      <th>18</th>\n",
       "      <td>4379</td>\n",
       "      <td>2.0</td>\n",
       "      <td>11.539700</td>\n",
       "      <td>0</td>\n",
       "      <td>0</td>\n",
       "      <td>0</td>\n",
       "    </tr>\n",
       "    <tr>\n",
       "      <th>19</th>\n",
       "      <td>4941</td>\n",
       "      <td>7.0</td>\n",
       "      <td>11.539699</td>\n",
       "      <td>0</td>\n",
       "      <td>0</td>\n",
       "      <td>0</td>\n",
       "    </tr>\n",
       "    <tr>\n",
       "      <th>20</th>\n",
       "      <td>5238</td>\n",
       "      <td>6.0</td>\n",
       "      <td>11.539699</td>\n",
       "      <td>0</td>\n",
       "      <td>0</td>\n",
       "      <td>0</td>\n",
       "    </tr>\n",
       "    <tr>\n",
       "      <th>21</th>\n",
       "      <td>5371</td>\n",
       "      <td>5.0</td>\n",
       "      <td>11.539699</td>\n",
       "      <td>0</td>\n",
       "      <td>0</td>\n",
       "      <td>0</td>\n",
       "    </tr>\n",
       "    <tr>\n",
       "      <th>22</th>\n",
       "      <td>6139</td>\n",
       "      <td>5.0</td>\n",
       "      <td>11.539698</td>\n",
       "      <td>0</td>\n",
       "      <td>0</td>\n",
       "      <td>0</td>\n",
       "    </tr>\n",
       "    <tr>\n",
       "      <th>23</th>\n",
       "      <td>6692</td>\n",
       "      <td>8.0</td>\n",
       "      <td>11.539697</td>\n",
       "      <td>0</td>\n",
       "      <td>0</td>\n",
       "      <td>0</td>\n",
       "    </tr>\n",
       "    <tr>\n",
       "      <th>24</th>\n",
       "      <td>6876</td>\n",
       "      <td>3.0</td>\n",
       "      <td>11.539697</td>\n",
       "      <td>0</td>\n",
       "      <td>0</td>\n",
       "      <td>0</td>\n",
       "    </tr>\n",
       "    <tr>\n",
       "      <th>25</th>\n",
       "      <td>7524</td>\n",
       "      <td>8.0</td>\n",
       "      <td>11.539697</td>\n",
       "      <td>0</td>\n",
       "      <td>0</td>\n",
       "      <td>0</td>\n",
       "    </tr>\n",
       "    <tr>\n",
       "      <th>26</th>\n",
       "      <td>7915</td>\n",
       "      <td>3.0</td>\n",
       "      <td>11.539696</td>\n",
       "      <td>0</td>\n",
       "      <td>0</td>\n",
       "      <td>0</td>\n",
       "    </tr>\n",
       "    <tr>\n",
       "      <th>27</th>\n",
       "      <td>8097</td>\n",
       "      <td>0.0</td>\n",
       "      <td>11.539696</td>\n",
       "      <td>0</td>\n",
       "      <td>0</td>\n",
       "      <td>0</td>\n",
       "    </tr>\n",
       "    <tr>\n",
       "      <th>28</th>\n",
       "      <td>8339</td>\n",
       "      <td>4.0</td>\n",
       "      <td>11.538600</td>\n",
       "      <td>0</td>\n",
       "      <td>0</td>\n",
       "      <td>0</td>\n",
       "    </tr>\n",
       "    <tr>\n",
       "      <th>29</th>\n",
       "      <td>8562</td>\n",
       "      <td>1.0</td>\n",
       "      <td>11.538600</td>\n",
       "      <td>0</td>\n",
       "      <td>0</td>\n",
       "      <td>0</td>\n",
       "    </tr>\n",
       "    <tr>\n",
       "      <th>...</th>\n",
       "      <td>...</td>\n",
       "      <td>...</td>\n",
       "      <td>...</td>\n",
       "      <td>...</td>\n",
       "      <td>...</td>\n",
       "      <td>...</td>\n",
       "    </tr>\n",
       "    <tr>\n",
       "      <th>149970</th>\n",
       "      <td>44421910</td>\n",
       "      <td>7.0</td>\n",
       "      <td>0.001799</td>\n",
       "      <td>0</td>\n",
       "      <td>0</td>\n",
       "      <td>0</td>\n",
       "    </tr>\n",
       "    <tr>\n",
       "      <th>149971</th>\n",
       "      <td>44422108</td>\n",
       "      <td>5.0</td>\n",
       "      <td>0.001799</td>\n",
       "      <td>0</td>\n",
       "      <td>0</td>\n",
       "      <td>0</td>\n",
       "    </tr>\n",
       "    <tr>\n",
       "      <th>149972</th>\n",
       "      <td>44423095</td>\n",
       "      <td>3.0</td>\n",
       "      <td>0.001798</td>\n",
       "      <td>0</td>\n",
       "      <td>0</td>\n",
       "      <td>0</td>\n",
       "    </tr>\n",
       "    <tr>\n",
       "      <th>149973</th>\n",
       "      <td>44423168</td>\n",
       "      <td>6.0</td>\n",
       "      <td>0.001798</td>\n",
       "      <td>0</td>\n",
       "      <td>0</td>\n",
       "      <td>0</td>\n",
       "    </tr>\n",
       "    <tr>\n",
       "      <th>149974</th>\n",
       "      <td>44423545</td>\n",
       "      <td>9.0</td>\n",
       "      <td>0.001797</td>\n",
       "      <td>0</td>\n",
       "      <td>0</td>\n",
       "      <td>0</td>\n",
       "    </tr>\n",
       "    <tr>\n",
       "      <th>149975</th>\n",
       "      <td>44424117</td>\n",
       "      <td>4.0</td>\n",
       "      <td>0.001797</td>\n",
       "      <td>0</td>\n",
       "      <td>0</td>\n",
       "      <td>0</td>\n",
       "    </tr>\n",
       "    <tr>\n",
       "      <th>149976</th>\n",
       "      <td>44424208</td>\n",
       "      <td>9.0</td>\n",
       "      <td>0.001797</td>\n",
       "      <td>0</td>\n",
       "      <td>0</td>\n",
       "      <td>0</td>\n",
       "    </tr>\n",
       "    <tr>\n",
       "      <th>149977</th>\n",
       "      <td>44424512</td>\n",
       "      <td>6.0</td>\n",
       "      <td>0.001796</td>\n",
       "      <td>0</td>\n",
       "      <td>0</td>\n",
       "      <td>0</td>\n",
       "    </tr>\n",
       "    <tr>\n",
       "      <th>149978</th>\n",
       "      <td>44424608</td>\n",
       "      <td>3.0</td>\n",
       "      <td>0.001796</td>\n",
       "      <td>0</td>\n",
       "      <td>0</td>\n",
       "      <td>0</td>\n",
       "    </tr>\n",
       "    <tr>\n",
       "      <th>149979</th>\n",
       "      <td>44424696</td>\n",
       "      <td>10.0</td>\n",
       "      <td>0.001796</td>\n",
       "      <td>0</td>\n",
       "      <td>0</td>\n",
       "      <td>0</td>\n",
       "    </tr>\n",
       "    <tr>\n",
       "      <th>149980</th>\n",
       "      <td>44424711</td>\n",
       "      <td>9.0</td>\n",
       "      <td>0.001796</td>\n",
       "      <td>0</td>\n",
       "      <td>0</td>\n",
       "      <td>0</td>\n",
       "    </tr>\n",
       "    <tr>\n",
       "      <th>149981</th>\n",
       "      <td>44424774</td>\n",
       "      <td>8.0</td>\n",
       "      <td>0.001796</td>\n",
       "      <td>0</td>\n",
       "      <td>0</td>\n",
       "      <td>0</td>\n",
       "    </tr>\n",
       "    <tr>\n",
       "      <th>149982</th>\n",
       "      <td>44425263</td>\n",
       "      <td>5.0</td>\n",
       "      <td>0.000700</td>\n",
       "      <td>0</td>\n",
       "      <td>0</td>\n",
       "      <td>0</td>\n",
       "    </tr>\n",
       "    <tr>\n",
       "      <th>149983</th>\n",
       "      <td>44425629</td>\n",
       "      <td>0.0</td>\n",
       "      <td>0.000700</td>\n",
       "      <td>0</td>\n",
       "      <td>0</td>\n",
       "      <td>0</td>\n",
       "    </tr>\n",
       "    <tr>\n",
       "      <th>149984</th>\n",
       "      <td>44426309</td>\n",
       "      <td>5.0</td>\n",
       "      <td>0.000699</td>\n",
       "      <td>0</td>\n",
       "      <td>0</td>\n",
       "      <td>0</td>\n",
       "    </tr>\n",
       "    <tr>\n",
       "      <th>149985</th>\n",
       "      <td>44426461</td>\n",
       "      <td>1.0</td>\n",
       "      <td>0.000699</td>\n",
       "      <td>0</td>\n",
       "      <td>0</td>\n",
       "      <td>0</td>\n",
       "    </tr>\n",
       "    <tr>\n",
       "      <th>149986</th>\n",
       "      <td>44426556</td>\n",
       "      <td>6.0</td>\n",
       "      <td>0.000699</td>\n",
       "      <td>0</td>\n",
       "      <td>0</td>\n",
       "      <td>0</td>\n",
       "    </tr>\n",
       "    <tr>\n",
       "      <th>149987</th>\n",
       "      <td>44426725</td>\n",
       "      <td>6.0</td>\n",
       "      <td>0.000698</td>\n",
       "      <td>0</td>\n",
       "      <td>0</td>\n",
       "      <td>0</td>\n",
       "    </tr>\n",
       "    <tr>\n",
       "      <th>149988</th>\n",
       "      <td>44427254</td>\n",
       "      <td>8.0</td>\n",
       "      <td>0.000698</td>\n",
       "      <td>0</td>\n",
       "      <td>0</td>\n",
       "      <td>0</td>\n",
       "    </tr>\n",
       "    <tr>\n",
       "      <th>149989</th>\n",
       "      <td>44427458</td>\n",
       "      <td>4.0</td>\n",
       "      <td>0.000698</td>\n",
       "      <td>0</td>\n",
       "      <td>0</td>\n",
       "      <td>0</td>\n",
       "    </tr>\n",
       "    <tr>\n",
       "      <th>149990</th>\n",
       "      <td>44427595</td>\n",
       "      <td>6.0</td>\n",
       "      <td>0.000697</td>\n",
       "      <td>0</td>\n",
       "      <td>0</td>\n",
       "      <td>0</td>\n",
       "    </tr>\n",
       "    <tr>\n",
       "      <th>149991</th>\n",
       "      <td>44427888</td>\n",
       "      <td>-2.0</td>\n",
       "      <td>0.000697</td>\n",
       "      <td>0</td>\n",
       "      <td>0</td>\n",
       "      <td>0</td>\n",
       "    </tr>\n",
       "    <tr>\n",
       "      <th>149992</th>\n",
       "      <td>44427896</td>\n",
       "      <td>9.0</td>\n",
       "      <td>0.000697</td>\n",
       "      <td>0</td>\n",
       "      <td>0</td>\n",
       "      <td>0</td>\n",
       "    </tr>\n",
       "    <tr>\n",
       "      <th>149993</th>\n",
       "      <td>44428310</td>\n",
       "      <td>5.0</td>\n",
       "      <td>0.000697</td>\n",
       "      <td>0</td>\n",
       "      <td>0</td>\n",
       "      <td>0</td>\n",
       "    </tr>\n",
       "    <tr>\n",
       "      <th>149994</th>\n",
       "      <td>44428403</td>\n",
       "      <td>3.0</td>\n",
       "      <td>0.000696</td>\n",
       "      <td>0</td>\n",
       "      <td>0</td>\n",
       "      <td>0</td>\n",
       "    </tr>\n",
       "    <tr>\n",
       "      <th>149995</th>\n",
       "      <td>44428460</td>\n",
       "      <td>7.0</td>\n",
       "      <td>0.000696</td>\n",
       "      <td>0</td>\n",
       "      <td>0</td>\n",
       "      <td>0</td>\n",
       "    </tr>\n",
       "    <tr>\n",
       "      <th>149996</th>\n",
       "      <td>44428514</td>\n",
       "      <td>-8.0</td>\n",
       "      <td>0.000696</td>\n",
       "      <td>0</td>\n",
       "      <td>0</td>\n",
       "      <td>0</td>\n",
       "    </tr>\n",
       "    <tr>\n",
       "      <th>149997</th>\n",
       "      <td>44428917</td>\n",
       "      <td>5.0</td>\n",
       "      <td>0.000696</td>\n",
       "      <td>0</td>\n",
       "      <td>0</td>\n",
       "      <td>0</td>\n",
       "    </tr>\n",
       "    <tr>\n",
       "      <th>149998</th>\n",
       "      <td>44428949</td>\n",
       "      <td>9.0</td>\n",
       "      <td>0.000696</td>\n",
       "      <td>0</td>\n",
       "      <td>0</td>\n",
       "      <td>0</td>\n",
       "    </tr>\n",
       "    <tr>\n",
       "      <th>149999</th>\n",
       "      <td>44429101</td>\n",
       "      <td>10.0</td>\n",
       "      <td>0.000696</td>\n",
       "      <td>0</td>\n",
       "      <td>0</td>\n",
       "      <td>0</td>\n",
       "    </tr>\n",
       "  </tbody>\n",
       "</table>\n",
       "<p>150000 rows × 6 columns</p>\n",
       "</div>"
      ],
      "text/plain": [
       "           index  acoustic_data  time_to_failure  smootch_feature_0_ws_3  \\\n",
       "0             90            8.0        11.540800                       0   \n",
       "1            474            1.0        11.540799                       0   \n",
       "2           1229            7.0        11.540798                       0   \n",
       "3           1304            3.0        11.540798                       0   \n",
       "4           1667            1.0        11.540798                       0   \n",
       "5           1747            4.0        11.540798                       0   \n",
       "6           1821           10.0        11.540798                       0   \n",
       "7           1861            6.0        11.540798                       0   \n",
       "8           2442            9.0        11.540797                       0   \n",
       "9           2450            6.0        11.540797                       0   \n",
       "10          2749            3.0        11.540797                       0   \n",
       "11          2756           -2.0        11.540797                       0   \n",
       "12          2776            0.0        11.540797                       0   \n",
       "13          2921            4.0        11.540797                       0   \n",
       "14          2971            6.0        11.540796                       0   \n",
       "15          3691            0.0        11.540796                       0   \n",
       "16          4145            9.0        11.539700                       0   \n",
       "17          4268            3.0        11.539700                       0   \n",
       "18          4379            2.0        11.539700                       0   \n",
       "19          4941            7.0        11.539699                       0   \n",
       "20          5238            6.0        11.539699                       0   \n",
       "21          5371            5.0        11.539699                       0   \n",
       "22          6139            5.0        11.539698                       0   \n",
       "23          6692            8.0        11.539697                       0   \n",
       "24          6876            3.0        11.539697                       0   \n",
       "25          7524            8.0        11.539697                       0   \n",
       "26          7915            3.0        11.539696                       0   \n",
       "27          8097            0.0        11.539696                       0   \n",
       "28          8339            4.0        11.538600                       0   \n",
       "29          8562            1.0        11.538600                       0   \n",
       "...          ...            ...              ...                     ...   \n",
       "149970  44421910            7.0         0.001799                       0   \n",
       "149971  44422108            5.0         0.001799                       0   \n",
       "149972  44423095            3.0         0.001798                       0   \n",
       "149973  44423168            6.0         0.001798                       0   \n",
       "149974  44423545            9.0         0.001797                       0   \n",
       "149975  44424117            4.0         0.001797                       0   \n",
       "149976  44424208            9.0         0.001797                       0   \n",
       "149977  44424512            6.0         0.001796                       0   \n",
       "149978  44424608            3.0         0.001796                       0   \n",
       "149979  44424696           10.0         0.001796                       0   \n",
       "149980  44424711            9.0         0.001796                       0   \n",
       "149981  44424774            8.0         0.001796                       0   \n",
       "149982  44425263            5.0         0.000700                       0   \n",
       "149983  44425629            0.0         0.000700                       0   \n",
       "149984  44426309            5.0         0.000699                       0   \n",
       "149985  44426461            1.0         0.000699                       0   \n",
       "149986  44426556            6.0         0.000699                       0   \n",
       "149987  44426725            6.0         0.000698                       0   \n",
       "149988  44427254            8.0         0.000698                       0   \n",
       "149989  44427458            4.0         0.000698                       0   \n",
       "149990  44427595            6.0         0.000697                       0   \n",
       "149991  44427888           -2.0         0.000697                       0   \n",
       "149992  44427896            9.0         0.000697                       0   \n",
       "149993  44428310            5.0         0.000697                       0   \n",
       "149994  44428403            3.0         0.000696                       0   \n",
       "149995  44428460            7.0         0.000696                       0   \n",
       "149996  44428514           -8.0         0.000696                       0   \n",
       "149997  44428917            5.0         0.000696                       0   \n",
       "149998  44428949            9.0         0.000696                       0   \n",
       "149999  44429101           10.0         0.000696                       0   \n",
       "\n",
       "        smootch_feature_1_ws_5  smootch_feature_2_ws_7  \n",
       "0                            0                       0  \n",
       "1                            0                       0  \n",
       "2                            0                       0  \n",
       "3                            0                       0  \n",
       "4                            0                       0  \n",
       "5                            0                       0  \n",
       "6                            0                       0  \n",
       "7                            0                       0  \n",
       "8                            0                       0  \n",
       "9                            0                       0  \n",
       "10                           0                       0  \n",
       "11                           0                       0  \n",
       "12                           0                       0  \n",
       "13                           0                       0  \n",
       "14                           0                       0  \n",
       "15                           0                       0  \n",
       "16                           0                       0  \n",
       "17                           0                       0  \n",
       "18                           0                       0  \n",
       "19                           0                       0  \n",
       "20                           0                       0  \n",
       "21                           0                       0  \n",
       "22                           0                       0  \n",
       "23                           0                       0  \n",
       "24                           0                       0  \n",
       "25                           0                       0  \n",
       "26                           0                       0  \n",
       "27                           0                       0  \n",
       "28                           0                       0  \n",
       "29                           0                       0  \n",
       "...                        ...                     ...  \n",
       "149970                       0                       0  \n",
       "149971                       0                       0  \n",
       "149972                       0                       0  \n",
       "149973                       0                       0  \n",
       "149974                       0                       0  \n",
       "149975                       0                       0  \n",
       "149976                       0                       0  \n",
       "149977                       0                       0  \n",
       "149978                       0                       0  \n",
       "149979                       0                       0  \n",
       "149980                       0                       0  \n",
       "149981                       0                       0  \n",
       "149982                       0                       0  \n",
       "149983                       0                       0  \n",
       "149984                       0                       0  \n",
       "149985                       0                       0  \n",
       "149986                       0                       0  \n",
       "149987                       0                       0  \n",
       "149988                       0                       0  \n",
       "149989                       0                       0  \n",
       "149990                       0                       0  \n",
       "149991                       0                       0  \n",
       "149992                       0                       0  \n",
       "149993                       0                       0  \n",
       "149994                       0                       0  \n",
       "149995                       0                       0  \n",
       "149996                       0                       0  \n",
       "149997                       0                       0  \n",
       "149998                       0                       0  \n",
       "149999                       0                       0  \n",
       "\n",
       "[150000 rows x 6 columns]"
      ]
     },
     "execution_count": 176,
     "metadata": {},
     "output_type": "execute_result"
    }
   ],
   "source": [
    "earthquake_1_with_additional_features_copy_df.reset_index()"
   ]
  },
  {
   "cell_type": "code",
   "execution_count": null,
   "metadata": {},
   "outputs": [],
   "source": [
    "earthquake_1_df"
   ]
  }
 ],
 "metadata": {
  "kernelspec": {
   "display_name": "Python 3",
   "language": "python",
   "name": "python3"
  },
  "language_info": {
   "codemirror_mode": {
    "name": "ipython",
    "version": 3
   },
   "file_extension": ".py",
   "mimetype": "text/x-python",
   "name": "python",
   "nbconvert_exporter": "python",
   "pygments_lexer": "ipython3",
   "version": "3.6.6"
  }
 },
 "nbformat": 4,
 "nbformat_minor": 2
}
