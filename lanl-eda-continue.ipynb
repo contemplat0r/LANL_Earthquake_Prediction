{
 "cells": [
  {
   "cell_type": "code",
   "execution_count": 1,
   "metadata": {},
   "outputs": [],
   "source": [
    "import gc\n",
    "import os\n",
    "import pathlib\n",
    "\n",
    "import numpy as np\n",
    "import pandas as pd\n",
    "\n",
    "import matplotlib.pyplot as plt\n",
    "import seaborn as sns\n",
    "\n",
    "from sklearn.model_selection import cross_val_score, train_test_split\n",
    "from sklearn.linear_model import LinearRegression\n",
    "from sklearn.metrics import mean_squared_error\n",
    "from sklearn.model_selection import StratifiedKFold"
   ]
  },
  {
   "cell_type": "code",
   "execution_count": 2,
   "metadata": {},
   "outputs": [],
   "source": [
    "%matplotlib inline"
   ]
  },
  {
   "cell_type": "code",
   "execution_count": 3,
   "metadata": {},
   "outputs": [
    {
     "name": "stdout",
     "output_type": "stream",
     "text": [
      "sample_submission.csv  test  test.zip  train  train.csv.zip  unarch\r\n"
     ]
    }
   ],
   "source": [
    "!ls '../input'"
   ]
  },
  {
   "cell_type": "code",
   "execution_count": 4,
   "metadata": {},
   "outputs": [],
   "source": [
    "train_df = pd.read_csv('../input/train/train.csv')"
   ]
  },
  {
   "cell_type": "code",
   "execution_count": 5,
   "metadata": {},
   "outputs": [
    {
     "name": "stdout",
     "output_type": "stream",
     "text": [
      "<class 'pandas.core.frame.DataFrame'>\n",
      "RangeIndex: 629145480 entries, 0 to 629145479\n",
      "Data columns (total 2 columns):\n",
      "acoustic_data      int64\n",
      "time_to_failure    float64\n",
      "dtypes: float64(1), int64(1)\n",
      "memory usage: 9.4 GB\n"
     ]
    }
   ],
   "source": [
    "train_df.info()"
   ]
  },
  {
   "cell_type": "code",
   "execution_count": 6,
   "metadata": {},
   "outputs": [
    {
     "data": {
      "text/html": [
       "<div>\n",
       "<style scoped>\n",
       "    .dataframe tbody tr th:only-of-type {\n",
       "        vertical-align: middle;\n",
       "    }\n",
       "\n",
       "    .dataframe tbody tr th {\n",
       "        vertical-align: top;\n",
       "    }\n",
       "\n",
       "    .dataframe thead th {\n",
       "        text-align: right;\n",
       "    }\n",
       "</style>\n",
       "<table border=\"1\" class=\"dataframe\">\n",
       "  <thead>\n",
       "    <tr style=\"text-align: right;\">\n",
       "      <th></th>\n",
       "      <th>acoustic_data</th>\n",
       "      <th>time_to_failure</th>\n",
       "    </tr>\n",
       "  </thead>\n",
       "  <tbody>\n",
       "    <tr>\n",
       "      <th>count</th>\n",
       "      <td>6.291455e+08</td>\n",
       "      <td>6.291455e+08</td>\n",
       "    </tr>\n",
       "    <tr>\n",
       "      <th>mean</th>\n",
       "      <td>4.519468e+00</td>\n",
       "      <td>5.678292e+00</td>\n",
       "    </tr>\n",
       "    <tr>\n",
       "      <th>std</th>\n",
       "      <td>1.073571e+01</td>\n",
       "      <td>3.672697e+00</td>\n",
       "    </tr>\n",
       "    <tr>\n",
       "      <th>min</th>\n",
       "      <td>-5.515000e+03</td>\n",
       "      <td>9.550396e-05</td>\n",
       "    </tr>\n",
       "    <tr>\n",
       "      <th>25%</th>\n",
       "      <td>2.000000e+00</td>\n",
       "      <td>2.625997e+00</td>\n",
       "    </tr>\n",
       "    <tr>\n",
       "      <th>50%</th>\n",
       "      <td>5.000000e+00</td>\n",
       "      <td>5.349798e+00</td>\n",
       "    </tr>\n",
       "    <tr>\n",
       "      <th>75%</th>\n",
       "      <td>7.000000e+00</td>\n",
       "      <td>8.173396e+00</td>\n",
       "    </tr>\n",
       "    <tr>\n",
       "      <th>max</th>\n",
       "      <td>5.444000e+03</td>\n",
       "      <td>1.610740e+01</td>\n",
       "    </tr>\n",
       "  </tbody>\n",
       "</table>\n",
       "</div>"
      ],
      "text/plain": [
       "       acoustic_data  time_to_failure\n",
       "count   6.291455e+08     6.291455e+08\n",
       "mean    4.519468e+00     5.678292e+00\n",
       "std     1.073571e+01     3.672697e+00\n",
       "min    -5.515000e+03     9.550396e-05\n",
       "25%     2.000000e+00     2.625997e+00\n",
       "50%     5.000000e+00     5.349798e+00\n",
       "75%     7.000000e+00     8.173396e+00\n",
       "max     5.444000e+03     1.610740e+01"
      ]
     },
     "execution_count": 6,
     "metadata": {},
     "output_type": "execute_result"
    }
   ],
   "source": [
    "train_df.describe()"
   ]
  },
  {
   "cell_type": "code",
   "execution_count": 7,
   "metadata": {},
   "outputs": [
    {
     "data": {
      "text/html": [
       "<div>\n",
       "<style scoped>\n",
       "    .dataframe tbody tr th:only-of-type {\n",
       "        vertical-align: middle;\n",
       "    }\n",
       "\n",
       "    .dataframe tbody tr th {\n",
       "        vertical-align: top;\n",
       "    }\n",
       "\n",
       "    .dataframe thead th {\n",
       "        text-align: right;\n",
       "    }\n",
       "</style>\n",
       "<table border=\"1\" class=\"dataframe\">\n",
       "  <thead>\n",
       "    <tr style=\"text-align: right;\">\n",
       "      <th></th>\n",
       "      <th>acoustic_data</th>\n",
       "      <th>time_to_failure</th>\n",
       "    </tr>\n",
       "  </thead>\n",
       "  <tbody>\n",
       "    <tr>\n",
       "      <th>0</th>\n",
       "      <td>12</td>\n",
       "      <td>1.4691</td>\n",
       "    </tr>\n",
       "    <tr>\n",
       "      <th>1</th>\n",
       "      <td>6</td>\n",
       "      <td>1.4691</td>\n",
       "    </tr>\n",
       "    <tr>\n",
       "      <th>2</th>\n",
       "      <td>8</td>\n",
       "      <td>1.4691</td>\n",
       "    </tr>\n",
       "    <tr>\n",
       "      <th>3</th>\n",
       "      <td>5</td>\n",
       "      <td>1.4691</td>\n",
       "    </tr>\n",
       "    <tr>\n",
       "      <th>4</th>\n",
       "      <td>8</td>\n",
       "      <td>1.4691</td>\n",
       "    </tr>\n",
       "  </tbody>\n",
       "</table>\n",
       "</div>"
      ],
      "text/plain": [
       "   acoustic_data  time_to_failure\n",
       "0             12           1.4691\n",
       "1              6           1.4691\n",
       "2              8           1.4691\n",
       "3              5           1.4691\n",
       "4              8           1.4691"
      ]
     },
     "execution_count": 7,
     "metadata": {},
     "output_type": "execute_result"
    }
   ],
   "source": [
    "train_df.head()"
   ]
  },
  {
   "cell_type": "code",
   "execution_count": 8,
   "metadata": {},
   "outputs": [
    {
     "data": {
      "text/html": [
       "<div>\n",
       "<style scoped>\n",
       "    .dataframe tbody tr th:only-of-type {\n",
       "        vertical-align: middle;\n",
       "    }\n",
       "\n",
       "    .dataframe tbody tr th {\n",
       "        vertical-align: top;\n",
       "    }\n",
       "\n",
       "    .dataframe thead th {\n",
       "        text-align: right;\n",
       "    }\n",
       "</style>\n",
       "<table border=\"1\" class=\"dataframe\">\n",
       "  <thead>\n",
       "    <tr style=\"text-align: right;\">\n",
       "      <th></th>\n",
       "      <th>acoustic_data</th>\n",
       "      <th>time_to_failure</th>\n",
       "    </tr>\n",
       "  </thead>\n",
       "  <tbody>\n",
       "    <tr>\n",
       "      <th>629145475</th>\n",
       "      <td>7</td>\n",
       "      <td>9.759796</td>\n",
       "    </tr>\n",
       "    <tr>\n",
       "      <th>629145476</th>\n",
       "      <td>9</td>\n",
       "      <td>9.759796</td>\n",
       "    </tr>\n",
       "    <tr>\n",
       "      <th>629145477</th>\n",
       "      <td>10</td>\n",
       "      <td>9.759796</td>\n",
       "    </tr>\n",
       "    <tr>\n",
       "      <th>629145478</th>\n",
       "      <td>6</td>\n",
       "      <td>9.759796</td>\n",
       "    </tr>\n",
       "    <tr>\n",
       "      <th>629145479</th>\n",
       "      <td>5</td>\n",
       "      <td>9.759796</td>\n",
       "    </tr>\n",
       "  </tbody>\n",
       "</table>\n",
       "</div>"
      ],
      "text/plain": [
       "           acoustic_data  time_to_failure\n",
       "629145475              7         9.759796\n",
       "629145476              9         9.759796\n",
       "629145477             10         9.759796\n",
       "629145478              6         9.759796\n",
       "629145479              5         9.759796"
      ]
     },
     "execution_count": 8,
     "metadata": {},
     "output_type": "execute_result"
    }
   ],
   "source": [
    "train_df.tail()"
   ]
  },
  {
   "cell_type": "code",
   "execution_count": 9,
   "metadata": {},
   "outputs": [],
   "source": [
    "acoustic_data_df = train_df[train_df.columns.drop('time_to_failure')].astype(np.int32)"
   ]
  },
  {
   "cell_type": "code",
   "execution_count": 10,
   "metadata": {},
   "outputs": [],
   "source": [
    "time_to_failure_df = train_df[train_df.columns.drop('acoustic_data')].astype(np.float32)"
   ]
  },
  {
   "cell_type": "code",
   "execution_count": 11,
   "metadata": {},
   "outputs": [],
   "source": [
    "compressed_train_df = pd.concat([acoustic_data_df, time_to_failure_df], axis=1)"
   ]
  },
  {
   "cell_type": "code",
   "execution_count": 12,
   "metadata": {},
   "outputs": [
    {
     "data": {
      "text/html": [
       "<div>\n",
       "<style scoped>\n",
       "    .dataframe tbody tr th:only-of-type {\n",
       "        vertical-align: middle;\n",
       "    }\n",
       "\n",
       "    .dataframe tbody tr th {\n",
       "        vertical-align: top;\n",
       "    }\n",
       "\n",
       "    .dataframe thead th {\n",
       "        text-align: right;\n",
       "    }\n",
       "</style>\n",
       "<table border=\"1\" class=\"dataframe\">\n",
       "  <thead>\n",
       "    <tr style=\"text-align: right;\">\n",
       "      <th></th>\n",
       "      <th>acoustic_data</th>\n",
       "      <th>time_to_failure</th>\n",
       "    </tr>\n",
       "  </thead>\n",
       "  <tbody>\n",
       "    <tr>\n",
       "      <th>0</th>\n",
       "      <td>12</td>\n",
       "      <td>1.4691</td>\n",
       "    </tr>\n",
       "    <tr>\n",
       "      <th>1</th>\n",
       "      <td>6</td>\n",
       "      <td>1.4691</td>\n",
       "    </tr>\n",
       "    <tr>\n",
       "      <th>2</th>\n",
       "      <td>8</td>\n",
       "      <td>1.4691</td>\n",
       "    </tr>\n",
       "    <tr>\n",
       "      <th>3</th>\n",
       "      <td>5</td>\n",
       "      <td>1.4691</td>\n",
       "    </tr>\n",
       "    <tr>\n",
       "      <th>4</th>\n",
       "      <td>8</td>\n",
       "      <td>1.4691</td>\n",
       "    </tr>\n",
       "  </tbody>\n",
       "</table>\n",
       "</div>"
      ],
      "text/plain": [
       "   acoustic_data  time_to_failure\n",
       "0             12           1.4691\n",
       "1              6           1.4691\n",
       "2              8           1.4691\n",
       "3              5           1.4691\n",
       "4              8           1.4691"
      ]
     },
     "execution_count": 12,
     "metadata": {},
     "output_type": "execute_result"
    }
   ],
   "source": [
    "compressed_train_df.head()"
   ]
  },
  {
   "cell_type": "code",
   "execution_count": 13,
   "metadata": {},
   "outputs": [
    {
     "name": "stdout",
     "output_type": "stream",
     "text": [
      "<class 'pandas.core.frame.DataFrame'>\n",
      "RangeIndex: 629145480 entries, 0 to 629145479\n",
      "Data columns (total 2 columns):\n",
      "acoustic_data      int32\n",
      "time_to_failure    float32\n",
      "dtypes: float32(1), int32(1)\n",
      "memory usage: 4.7 GB\n"
     ]
    }
   ],
   "source": [
    "compressed_train_df.info()"
   ]
  },
  {
   "cell_type": "code",
   "execution_count": 14,
   "metadata": {},
   "outputs": [],
   "source": [
    "train_df = compressed_train_df"
   ]
  },
  {
   "cell_type": "code",
   "execution_count": 15,
   "metadata": {},
   "outputs": [
    {
     "data": {
      "text/plain": [
       "(629145480, 2)"
      ]
     },
     "execution_count": 15,
     "metadata": {},
     "output_type": "execute_result"
    }
   ],
   "source": [
    "train_df.shape"
   ]
  },
  {
   "cell_type": "code",
   "execution_count": 16,
   "metadata": {},
   "outputs": [
    {
     "data": {
      "text/plain": [
       "18"
      ]
     },
     "execution_count": 16,
     "metadata": {},
     "output_type": "execute_result"
    }
   ],
   "source": [
    "#del acoustic_data_df \n",
    "#del time_to_failure_df\n",
    "gc.collect()"
   ]
  },
  {
   "cell_type": "code",
   "execution_count": 17,
   "metadata": {},
   "outputs": [
    {
     "name": "stdout",
     "output_type": "stream",
     "text": [
      "<class 'pandas.core.frame.DataFrame'>\n",
      "RangeIndex: 629145480 entries, 0 to 629145479\n",
      "Data columns (total 2 columns):\n",
      "acoustic_data      int32\n",
      "time_to_failure    float32\n",
      "dtypes: float32(1), int32(1)\n",
      "memory usage: 4.7 GB\n"
     ]
    }
   ],
   "source": [
    "train_df.info()"
   ]
  },
  {
   "cell_type": "code",
   "execution_count": 18,
   "metadata": {},
   "outputs": [],
   "source": [
    "unique_acoustic_data = train_df['acoustic_data'].unique()"
   ]
  },
  {
   "cell_type": "code",
   "execution_count": 19,
   "metadata": {},
   "outputs": [],
   "source": [
    "unique_time_to_failure = train_df['time_to_failure'].unique()"
   ]
  },
  {
   "cell_type": "code",
   "execution_count": 20,
   "metadata": {},
   "outputs": [
    {
     "data": {
      "text/plain": [
       "(5354,)"
      ]
     },
     "execution_count": 20,
     "metadata": {},
     "output_type": "execute_result"
    }
   ],
   "source": [
    "unique_acoustic_data.shape"
   ]
  },
  {
   "cell_type": "code",
   "execution_count": 21,
   "metadata": {},
   "outputs": [
    {
     "data": {
      "text/plain": [
       "(3340667,)"
      ]
     },
     "execution_count": 21,
     "metadata": {},
     "output_type": "execute_result"
    }
   ],
   "source": [
    "unique_time_to_failure.shape"
   ]
  },
  {
   "cell_type": "code",
   "execution_count": 22,
   "metadata": {},
   "outputs": [
    {
     "data": {
      "text/plain": [
       "(629145480, 2)"
      ]
     },
     "execution_count": 22,
     "metadata": {},
     "output_type": "execute_result"
    }
   ],
   "source": [
    "train_df.shape"
   ]
  },
  {
   "cell_type": "code",
   "execution_count": 23,
   "metadata": {},
   "outputs": [
    {
     "data": {
      "text/plain": [
       "<Figure size 1728x1296 with 0 Axes>"
      ]
     },
     "metadata": {},
     "output_type": "display_data"
    }
   ],
   "source": [
    "fig = plt.figure(figsize=(24, 18))"
   ]
  },
  {
   "cell_type": "code",
   "execution_count": 24,
   "metadata": {},
   "outputs": [],
   "source": [
    "ax = fig.add_subplot(111)"
   ]
  },
  {
   "cell_type": "code",
   "execution_count": 25,
   "metadata": {},
   "outputs": [
    {
     "data": {
      "text/plain": [
       "(-5515, 5444)"
      ]
     },
     "execution_count": 25,
     "metadata": {},
     "output_type": "execute_result"
    }
   ],
   "source": [
    "ax.set_xlim(train_df['acoustic_data'].min(), train_df['acoustic_data'].max())"
   ]
  },
  {
   "cell_type": "code",
   "execution_count": 26,
   "metadata": {},
   "outputs": [
    {
     "data": {
      "text/plain": [
       "array([[<matplotlib.axes._subplots.AxesSubplot object at 0x7f9929e02da0>]],\n",
       "      dtype=object)"
      ]
     },
     "execution_count": 26,
     "metadata": {},
     "output_type": "execute_result"
    },
    {
     "data": {
      "image/png": "[encoded data removed]",
      "text/plain": [
       "<Figure size 1728x1296 with 1 Axes>"
      ]
     },
     "metadata": {
      "needs_background": "light"
     },
     "output_type": "display_data"
    }
   ],
   "source": [
    "train_df.hist(column='acoustic_data', bins=200, figsize=(24, 18))"
   ]
  },
  {
   "cell_type": "code",
   "execution_count": 27,
   "metadata": {},
   "outputs": [
    {
     "data": {
      "text/plain": [
       "629145480"
      ]
     },
     "execution_count": 27,
     "metadata": {},
     "output_type": "execute_result"
    }
   ],
   "source": [
    "train_df['acoustic_data'].count()"
   ]
  },
  {
   "cell_type": "code",
   "execution_count": 28,
   "metadata": {},
   "outputs": [],
   "source": [
    "#grouped_train_df_by_acoustic = train_df[train_df.columns.drop('time_to_failure')].groupby('acoustic_data')\n",
    "grouped_train_series_by_acoustic = train_df['acoustic_data'].groupby(by=train_df['acoustic_data'])"
   ]
  },
  {
   "cell_type": "code",
   "execution_count": 29,
   "metadata": {},
   "outputs": [],
   "source": [
    "#dir(grouped_train_series_by_acoustic)"
   ]
  },
  {
   "cell_type": "code",
   "execution_count": 30,
   "metadata": {},
   "outputs": [],
   "source": [
    "count_train_series_acoustic = grouped_train_series_by_acoustic.count()"
   ]
  },
  {
   "cell_type": "code",
   "execution_count": 31,
   "metadata": {},
   "outputs": [
    {
     "name": "stdout",
     "output_type": "stream",
     "text": [
      "85664\n"
     ]
    }
   ],
   "source": [
    "print(count_train_series_acoustic.memory_usage())"
   ]
  },
  {
   "cell_type": "code",
   "execution_count": 32,
   "metadata": {},
   "outputs": [
    {
     "data": {
      "text/plain": [
       "(5354,)"
      ]
     },
     "execution_count": 32,
     "metadata": {},
     "output_type": "execute_result"
    }
   ],
   "source": [
    "count_train_series_acoustic.shape"
   ]
  },
  {
   "cell_type": "code",
   "execution_count": 33,
   "metadata": {},
   "outputs": [
    {
     "data": {
      "text/plain": [
       "acoustic_data\n",
       "-5515    1\n",
       "-5474    1\n",
       "-5251    1\n",
       "-5135    1\n",
       "-5008    1\n",
       "Name: acoustic_data, dtype: int64"
      ]
     },
     "execution_count": 33,
     "metadata": {},
     "output_type": "execute_result"
    }
   ],
   "source": [
    "count_train_series_acoustic.head()"
   ]
  },
  {
   "cell_type": "code",
   "execution_count": 34,
   "metadata": {},
   "outputs": [],
   "source": [
    "#count_train_series_acoustic[-5008]"
   ]
  },
  {
   "cell_type": "code",
   "execution_count": 35,
   "metadata": {},
   "outputs": [],
   "source": [
    "count_acoustic_more_20 = count_train_series_acoustic[count_train_series_acoustic > 20]"
   ]
  },
  {
   "cell_type": "code",
   "execution_count": 36,
   "metadata": {},
   "outputs": [
    {
     "name": "stdout",
     "output_type": "stream",
     "text": [
      "21472\n"
     ]
    }
   ],
   "source": [
    "print(count_acoustic_more_20.memory_usage())"
   ]
  },
  {
   "cell_type": "code",
   "execution_count": 37,
   "metadata": {},
   "outputs": [
    {
     "data": {
      "text/plain": [
       "(1342,)"
      ]
     },
     "execution_count": 37,
     "metadata": {},
     "output_type": "execute_result"
    }
   ],
   "source": [
    "count_acoustic_more_20.shape"
   ]
  },
  {
   "cell_type": "code",
   "execution_count": 38,
   "metadata": {},
   "outputs": [
    {
     "name": "stdout",
     "output_type": "stream",
     "text": [
      "21\n",
      "73883469\n"
     ]
    }
   ],
   "source": [
    "print(count_acoustic_more_20.min())\n",
    "print(count_acoustic_more_20.max())"
   ]
  },
  {
   "cell_type": "code",
   "execution_count": 39,
   "metadata": {},
   "outputs": [],
   "source": [
    "#fig = plt.figure(figsize=(24, 18))\n",
    "#ax = fig.add_subplot(111)\n",
    "#ax.set_xlim(count_acoustic_more_20.min(), count_acoustic_more_20.max())"
   ]
  },
  {
   "cell_type": "code",
   "execution_count": 40,
   "metadata": {},
   "outputs": [
    {
     "data": {
      "text/plain": [
       "0    23\n",
       "dtype: int64"
      ]
     },
     "execution_count": 40,
     "metadata": {},
     "output_type": "execute_result"
    }
   ],
   "source": [
    "count_acoustic_more_20.mode()"
   ]
  },
  {
   "cell_type": "code",
   "execution_count": 41,
   "metadata": {},
   "outputs": [
    {
     "data": {
      "text/plain": [
       "acoustic_data\n",
       "766    21\n",
       "772    27\n",
       "774    21\n",
       "778    22\n",
       "948    22\n",
       "Name: acoustic_data, dtype: int64"
      ]
     },
     "execution_count": 41,
     "metadata": {},
     "output_type": "execute_result"
    }
   ],
   "source": [
    "count_acoustic_more_20.tail()"
   ]
  },
  {
   "cell_type": "code",
   "execution_count": 42,
   "metadata": {},
   "outputs": [],
   "source": [
    "#count_acoustic_more_20[73883469]"
   ]
  },
  {
   "cell_type": "code",
   "execution_count": 43,
   "metadata": {},
   "outputs": [],
   "source": [
    "index_count_acoustic_more_20 = count_acoustic_more_20.index"
   ]
  },
  {
   "cell_type": "code",
   "execution_count": 44,
   "metadata": {},
   "outputs": [
    {
     "name": "stdout",
     "output_type": "stream",
     "text": [
      "Int64Index([-840, -832, -827, -819, -813, -805, -796, -787, -786, -784], dtype='int64', name='acoustic_data')\n",
      "Int64Index([738, 740, 741, 750, 754, 766, 772, 774, 778, 948], dtype='int64', name='acoustic_data')\n"
     ]
    }
   ],
   "source": [
    "print(index_count_acoustic_more_20[:10])\n",
    "print(index_count_acoustic_more_20[-10:])"
   ]
  },
  {
   "cell_type": "code",
   "execution_count": 45,
   "metadata": {},
   "outputs": [
    {
     "name": "stdout",
     "output_type": "stream",
     "text": [
      "-840\n",
      "948\n"
     ]
    }
   ],
   "source": [
    "print(index_count_acoustic_more_20.min())\n",
    "print(index_count_acoustic_more_20.max())"
   ]
  },
  {
   "cell_type": "code",
   "execution_count": 46,
   "metadata": {},
   "outputs": [
    {
     "data": {
      "image/png": "[encoded data removed]",
      "text/plain": [
       "<Figure size 1728x1296 with 1 Axes>"
      ]
     },
     "metadata": {
      "needs_background": "light"
     },
     "output_type": "display_data"
    }
   ],
   "source": [
    "fig = plt.figure(figsize=(24, 18))\n",
    "ax = fig.add_subplot(111)\n",
    "ax.set_xlim(index_count_acoustic_more_20.min(), index_count_acoustic_more_20.max())\n",
    "#ax.hist(count_acoustic_more_20, bins=100, color='gray')\n",
    "ax.plot(index_count_acoustic_more_20, count_acoustic_more_20, color='green')\n",
    "ax.hist(count_acoustic_more_20, color='gray', bins=60)\n",
    "plt.show()"
   ]
  },
  {
   "cell_type": "code",
   "execution_count": 47,
   "metadata": {},
   "outputs": [
    {
     "data": {
      "image/png": "[encoded data removed]",
      "text/plain": [
       "<Figure size 1728x1296 with 1 Axes>"
      ]
     },
     "metadata": {
      "needs_background": "light"
     },
     "output_type": "display_data"
    }
   ],
   "source": [
    "fig = plt.figure(figsize=(24, 18))\n",
    "ax = fig.add_subplot(111)\n",
    "#ax.set_xlim(index_count_acoustic_more_20.min(), index_count_acoustic_more_20.max())\n",
    "#ax.hist(count_acoustic_more_20, bins=100, color='gray')\n",
    "#ax.plot(index_count_acoustic_more_20, count_acoustic_more_20, color='green')\n",
    "ax.hist(count_acoustic_more_20, color='gray', bins=500)\n",
    "plt.show()"
   ]
  },
  {
   "cell_type": "code",
   "execution_count": 48,
   "metadata": {},
   "outputs": [
    {
     "data": {
      "image/png": "[encoded data removed]",
      "text/plain": [
       "<Figure size 1728x1296 with 1 Axes>"
      ]
     },
     "metadata": {
      "needs_background": "light"
     },
     "output_type": "display_data"
    }
   ],
   "source": [
    "fig = plt.figure(figsize=(24, 18))\n",
    "ax = fig.add_subplot(111)\n",
    "ax.set_xlim(index_count_acoustic_more_20.min(), index_count_acoustic_more_20.max())\n",
    "#ax.hist(count_acoustic_more_20, bins=100, color='gray')\n",
    "#ax.plot(index_count_acoustic_more_20, count_acoustic_more_20, color='green')\n",
    "ax.scatter(index_count_acoustic_more_20, count_acoustic_more_20, color='black')\n",
    "plt.show()"
   ]
  },
  {
   "cell_type": "code",
   "execution_count": 49,
   "metadata": {},
   "outputs": [
    {
     "name": "stdout",
     "output_type": "stream",
     "text": [
      "[      21       22       23       27       28       24       25       30\n",
      "       26       32       33       41       31       36       35       29\n",
      "       34       37       40       38       39       44       42       47\n",
      "       43       52       45       46       53       51       49       50\n",
      "       55       57       59       48       68       56       61       63\n",
      "       58       60       62       67       66       69       74       54\n",
      "       70       65       79       64       76       80       78       73\n",
      "       75       84       90       83       91       82       85       86\n",
      "       95       94       92      127      108       98      106      109\n",
      "       77       88      100      115      102       97       99      107\n",
      "      110      117      125      104      111      131      122      133\n",
      "      118      116      123      141      129      153      137      160\n",
      "      138      159      135      156      148      171      161      169\n",
      "      155      165      176      167      172      199      173      185\n",
      "      198      183      194      186      210      212      227      213\n",
      "      220      241      211      244      205      231      240      225\n",
      "      260      280      255      246      242      257      275      268\n",
      "      304      261      286      294      307      315      325      335\n",
      "      299      306      355      338      346      373      348      381\n",
      "      360      353      383      393      385      413      414      422\n",
      "      441      425      450      463      485      426      469      493\n",
      "      520      500      543      536      519      571      552      576\n",
      "      584      621      610      644      671      713      661      684\n",
      "      709      757      743      816      792      767      835      890\n",
      "      867      936      929     1003     1029     1006     1013     1124\n",
      "     1144     1176     1198     1216     1252     1225     1262     1395\n",
      "     1314     1406     1475     1540     1509     1579     1595     1680\n",
      "     1781     1773     1862     1841     1983     2021     2064     2239\n",
      "     2330     2243     2365     2420     2540     2591     2726     2811\n",
      "     2848     2905     2970     3135     3357     3519     3588     3681\n",
      "     3813     4063     4209     4275     4371     4702     4806     4955\n",
      "     5101     5457     5720     5952     6159     6420     6744     6907\n",
      "     7197     7567     7842     8195     8712     8959     9372     9970\n",
      "    10391    10983    11255    11931    12517    13130    13899    14743\n",
      "    15659    16264    17146    18065    18996    20139    21334    22328\n",
      "    23680    25038    26692    28153    29713    31606    33913    36016\n",
      "    38643    40882    43706    46092    49662    53574    57722    61463\n",
      "    66163    71154    77190    83213    90811    98197   106792   116799\n",
      "   127929   140578   153850   169852   188499   210147   233925   261437\n",
      "   296006   335544   380303   437580   505877   590814   695201   830470\n",
      "  1006442  1243410  1579570  2078817  2868438  4188559  6482315 10428808\n",
      " 16894290 26546708 39239437 53479819 66178259 73792388 73883469 66416269\n",
      " 53817385 39628883 26888462 17165621 10621810  6600287  4255544  2905946\n",
      "  2099604  1594038  1254956  1017033   837281   701568   592692   508872\n",
      "   441090   383411   338382   298512   264160   235229   211309   189636\n",
      "   172748   156087   141118   129862   118032   108211    99189    91647\n",
      "    84308    78232    72553    67262    61940    57568    53606    49900\n",
      "    47023    44273    40998    38086    36078    33727    32015    30335\n",
      "    28328    26865    25047    23627    22667    21231    20195    19034\n",
      "    18251    17182    16204    15576    14780    14014    13591    12846\n",
      "    12377    11802    11356    10683    10400     9885     9520     8748\n",
      "     8543     8127     8002     7504     7213     6925     6735     6470\n",
      "     6150     5910     5718     5493     5348     4997     4744     4638\n",
      "     4454     4210     4112     3954     3748     3752     3630     3337\n",
      "     3206     3140     3132     2972     2847     2618     2610     2596\n",
      "     2424     2335     2291     2290     2195     2084     2055     1895\n",
      "     1879     1878     1777     1799     1609     1660     1578     1565\n",
      "     1494     1334     1312     1308     1241     1221     1195     1114\n",
      "     1095     1126     1059     1066     1024      954      883      956\n",
      "      889      856      891      833      855      785      749      808\n",
      "      707      695      701      678      697      637      629      634\n",
      "      600      630      549      606      589      522      553      507\n",
      "      498      515      517      501      456      444      457      408\n",
      "      430      394      418      409      417      358      375      395\n",
      "      390      367      324      340      334      312      331      327\n",
      "      265      253      271      302      281      317      266      264\n",
      "      272      269      254      263      259      256      243      252\n",
      "      247      230      203      217      202      239      201      187\n",
      "      189      193      196      178      195      181      179      206\n",
      "      177      158      163      150      142      139      149      130\n",
      "      134      146      113      120      114      132      121      105\n",
      "      103       93       87       81       72       71]\n"
     ]
    }
   ],
   "source": [
    "print(count_acoustic_more_20.unique())"
   ]
  },
  {
   "cell_type": "code",
   "execution_count": 50,
   "metadata": {},
   "outputs": [
    {
     "name": "stdout",
     "output_type": "stream",
     "text": [
      "(574,)\n",
      "(1342,)\n"
     ]
    }
   ],
   "source": [
    "print(count_acoustic_more_20.unique().shape)\n",
    "print(count_acoustic_more_20.shape)"
   ]
  },
  {
   "cell_type": "code",
   "execution_count": 51,
   "metadata": {},
   "outputs": [],
   "source": [
    "count_acoustic_more_40 = count_train_series_acoustic[count_train_series_acoustic > 40]"
   ]
  },
  {
   "cell_type": "code",
   "execution_count": 52,
   "metadata": {},
   "outputs": [
    {
     "name": "stdout",
     "output_type": "stream",
     "text": [
      "(554,)\n",
      "(927,)\n",
      "[      41       44       42       47       43       52       45       46\n",
      "       53       51       49       50       55       57       59       48\n",
      "       68       56       61       63       58       60       62       67\n",
      "       66       69       74       54       70       65       79       64\n",
      "       76       80       78       73       75       84       90       83\n",
      "       91       82       85       86       95       94       92      127\n",
      "      108       98      106      109       77       88      100      115\n",
      "      102       97       99      107      110      117      125      104\n",
      "      111      131      122      133      118      116      123      141\n",
      "      129      153      137      160      138      159      135      156\n",
      "      148      171      161      169      155      165      176      167\n",
      "      172      199      173      185      198      183      194      186\n",
      "      210      212      227      213      220      241      211      244\n",
      "      205      231      240      225      260      280      255      246\n",
      "      242      257      275      268      304      261      286      294\n",
      "      307      315      325      335      299      306      355      338\n",
      "      346      373      348      381      360      353      383      393\n",
      "      385      413      414      422      441      425      450      463\n",
      "      485      426      469      493      520      500      543      536\n",
      "      519      571      552      576      584      621      610      644\n",
      "      671      713      661      684      709      757      743      816\n",
      "      792      767      835      890      867      936      929     1003\n",
      "     1029     1006     1013     1124     1144     1176     1198     1216\n",
      "     1252     1225     1262     1395     1314     1406     1475     1540\n",
      "     1509     1579     1595     1680     1781     1773     1862     1841\n",
      "     1983     2021     2064     2239     2330     2243     2365     2420\n",
      "     2540     2591     2726     2811     2848     2905     2970     3135\n",
      "     3357     3519     3588     3681     3813     4063     4209     4275\n",
      "     4371     4702     4806     4955     5101     5457     5720     5952\n",
      "     6159     6420     6744     6907     7197     7567     7842     8195\n",
      "     8712     8959     9372     9970    10391    10983    11255    11931\n",
      "    12517    13130    13899    14743    15659    16264    17146    18065\n",
      "    18996    20139    21334    22328    23680    25038    26692    28153\n",
      "    29713    31606    33913    36016    38643    40882    43706    46092\n",
      "    49662    53574    57722    61463    66163    71154    77190    83213\n",
      "    90811    98197   106792   116799   127929   140578   153850   169852\n",
      "   188499   210147   233925   261437   296006   335544   380303   437580\n",
      "   505877   590814   695201   830470  1006442  1243410  1579570  2078817\n",
      "  2868438  4188559  6482315 10428808 16894290 26546708 39239437 53479819\n",
      " 66178259 73792388 73883469 66416269 53817385 39628883 26888462 17165621\n",
      " 10621810  6600287  4255544  2905946  2099604  1594038  1254956  1017033\n",
      "   837281   701568   592692   508872   441090   383411   338382   298512\n",
      "   264160   235229   211309   189636   172748   156087   141118   129862\n",
      "   118032   108211    99189    91647    84308    78232    72553    67262\n",
      "    61940    57568    53606    49900    47023    44273    40998    38086\n",
      "    36078    33727    32015    30335    28328    26865    25047    23627\n",
      "    22667    21231    20195    19034    18251    17182    16204    15576\n",
      "    14780    14014    13591    12846    12377    11802    11356    10683\n",
      "    10400     9885     9520     8748     8543     8127     8002     7504\n",
      "     7213     6925     6735     6470     6150     5910     5718     5493\n",
      "     5348     4997     4744     4638     4454     4210     4112     3954\n",
      "     3748     3752     3630     3337     3206     3140     3132     2972\n",
      "     2847     2618     2610     2596     2424     2335     2291     2290\n",
      "     2195     2084     2055     1895     1879     1878     1777     1799\n",
      "     1609     1660     1578     1565     1494     1334     1312     1308\n",
      "     1241     1221     1195     1114     1095     1126     1059     1066\n",
      "     1024      954      883      956      889      856      891      833\n",
      "      855      785      749      808      707      695      701      678\n",
      "      697      637      629      634      600      630      549      606\n",
      "      589      522      553      507      498      515      517      501\n",
      "      456      444      457      408      430      394      418      409\n",
      "      417      358      375      395      390      367      324      340\n",
      "      334      312      331      327      265      253      271      302\n",
      "      281      317      266      264      272      269      254      263\n",
      "      259      256      243      252      247      230      203      217\n",
      "      202      239      201      187      189      193      196      178\n",
      "      195      181      179      206      177      158      163      150\n",
      "      142      139      149      130      134      146      113      120\n",
      "      114      132      121      105      103       93       87       81\n",
      "       72       71]\n"
     ]
    }
   ],
   "source": [
    "print(count_acoustic_more_40.unique().shape)\n",
    "print(count_acoustic_more_40.shape)\n",
    "print(count_acoustic_more_40.unique())"
   ]
  },
  {
   "cell_type": "code",
   "execution_count": 53,
   "metadata": {},
   "outputs": [
    {
     "data": {
      "image/png": "[encoded data removed]",
      "text/plain": [
       "<Figure size 1728x1296 with 1 Axes>"
      ]
     },
     "metadata": {
      "needs_background": "light"
     },
     "output_type": "display_data"
    }
   ],
   "source": [
    "fig = plt.figure(figsize=(24, 18))\n",
    "ax = fig.add_subplot(111)\n",
    "ax.set_xlim(count_acoustic_more_40.index.min(), count_acoustic_more_40.index.max())\n",
    "#ax.hist(count_acoustic_more_20, bins=100, color='gray')\n",
    "#ax.plot(index_count_acoustic_more_20, count_acoustic_more_20, color='green')\n",
    "ax.scatter(count_acoustic_more_40.index, count_acoustic_more_40, color='black')\n",
    "plt.show()"
   ]
  },
  {
   "cell_type": "code",
   "execution_count": 54,
   "metadata": {},
   "outputs": [
    {
     "name": "stdout",
     "output_type": "stream",
     "text": [
      "count_train_series_acoustic.min():  1\n",
      "count_train_series_acoustic.max():  73883469\n",
      "count_train_df_acoustic.index.min():  -5515\n",
      "count_train_df_acoustic.index.max():  5444\n",
      "count_train_series_acoustic.mode():  0    1\n",
      "dtype: int64\n",
      "count_train_series_acoustic.median():  5.0\n",
      "count_train_series_acoustic.mean():  117509.42846469929\n"
     ]
    }
   ],
   "source": [
    "print(\"count_train_series_acoustic.min(): \", count_train_series_acoustic.min())\n",
    "print(\"count_train_series_acoustic.max(): \", count_train_series_acoustic.max())\n",
    "print(\"count_train_df_acoustic.index.min(): \", count_train_series_acoustic.index.min())\n",
    "print(\"count_train_df_acoustic.index.max(): \", count_train_series_acoustic.index.max())\n",
    "print(\"count_train_series_acoustic.mode(): \", count_train_series_acoustic.mode())\n",
    "print(\"count_train_series_acoustic.median(): \", count_train_series_acoustic.median())\n",
    "print(\"count_train_series_acoustic.mean(): \", count_train_series_acoustic.mean())\n",
    "#print(\"count_train_series_acoustic.index.mode(): \", count_train_series_acoustic.index.mode())\n",
    "#print(\"count_train_series_acoustic.index.median(): \", count_train_series_acoustic.index.median())\n",
    "#print(\"count_train_series_acoustic.index.mean(): \", count_train_series_acoustic.index.mean())"
   ]
  },
  {
   "cell_type": "code",
   "execution_count": null,
   "metadata": {},
   "outputs": [],
   "source": [
    "count_train_series_acoustic.mode()"
   ]
  },
  {
   "cell_type": "code",
   "execution_count": null,
   "metadata": {},
   "outputs": [],
   "source": [
    "count_train_series_acoustic[count_train_series_acoustic == 0].shape"
   ]
  },
  {
   "cell_type": "code",
   "execution_count": null,
   "metadata": {},
   "outputs": [],
   "source": [
    "count_train_series_acoustic[count_train_series_acoustic == 1].shape"
   ]
  },
  {
   "cell_type": "code",
   "execution_count": null,
   "metadata": {},
   "outputs": [],
   "source": [
    "#count_train_series_acoustic.mode?"
   ]
  },
  {
   "cell_type": "code",
   "execution_count": null,
   "metadata": {},
   "outputs": [],
   "source": [
    "count_train_series_acoustic.head()"
   ]
  },
  {
   "cell_type": "code",
   "execution_count": null,
   "metadata": {},
   "outputs": [],
   "source": [
    "gc.collect()"
   ]
  },
  {
   "cell_type": "code",
   "execution_count": null,
   "metadata": {},
   "outputs": [],
   "source": [
    "train_df.head()"
   ]
  },
  {
   "cell_type": "code",
   "execution_count": null,
   "metadata": {},
   "outputs": [],
   "source": [
    "zero_time_df = train_df[train_df['time_to_failure'] == 0]"
   ]
  },
  {
   "cell_type": "code",
   "execution_count": null,
   "metadata": {},
   "outputs": [],
   "source": [
    "zero_time_df.shape"
   ]
  },
  {
   "cell_type": "code",
   "execution_count": null,
   "metadata": {},
   "outputs": [],
   "source": [
    "train_df['time_to_failure'].min()"
   ]
  },
  {
   "cell_type": "code",
   "execution_count": null,
   "metadata": {},
   "outputs": [],
   "source": [
    "zero_time_df =  train_df[train_df['time_to_failure'] == train_df['time_to_failure'].min()]"
   ]
  },
  {
   "cell_type": "code",
   "execution_count": null,
   "metadata": {},
   "outputs": [],
   "source": [
    "zero_time_df.shape"
   ]
  },
  {
   "cell_type": "code",
   "execution_count": null,
   "metadata": {},
   "outputs": [],
   "source": [
    "zero_time_df =  train_df[train_df['time_to_failure'] <= 0.0001]"
   ]
  },
  {
   "cell_type": "code",
   "execution_count": null,
   "metadata": {},
   "outputs": [],
   "source": [
    "zero_time_df.index"
   ]
  },
  {
   "cell_type": "code",
   "execution_count": null,
   "metadata": {},
   "outputs": [],
   "source": [
    "plt.figure(figsize=(18, 16))\n",
    "plt.plot(zero_time_df['acoustic_data'].values, zero_time_df['time_to_failure'].values)\n",
    "plt.grid()\n",
    "plt.show()"
   ]
  },
  {
   "cell_type": "code",
   "execution_count": null,
   "metadata": {},
   "outputs": [],
   "source": [
    "plt.figure(figsize=(18, 16))\n",
    "plt.plot(train_df[train_df['time_to_failure'] <= 0.01].index, train_df[train_df['time_to_failure'] <= 0.01]['acoustic_data'].values)\n",
    "plt.grid()\n",
    "plt.show()"
   ]
  },
  {
   "cell_type": "code",
   "execution_count": null,
   "metadata": {},
   "outputs": [],
   "source": [
    "plt.figure(figsize=(18, 16))\n",
    "plt.plot(train_df[train_df['time_to_failure'] <= 0.01].index, train_df[train_df['time_to_failure'] <= 0.01]['time_to_failure'].values)\n",
    "plt.grid()\n",
    "plt.show()"
   ]
  },
  {
   "cell_type": "code",
   "execution_count": null,
   "metadata": {},
   "outputs": [],
   "source": [
    "np.diff?"
   ]
  },
  {
   "cell_type": "code",
   "execution_count": null,
   "metadata": {},
   "outputs": [],
   "source": [
    "time_to_failure_diffs = np.diff(train_df['time_to_failure']).astype(np.float32)"
   ]
  },
  {
   "cell_type": "code",
   "execution_count": null,
   "metadata": {},
   "outputs": [],
   "source": [
    "time_to_failure_diffs.shape[0] == train_df.shape[0]"
   ]
  },
  {
   "cell_type": "code",
   "execution_count": null,
   "metadata": {},
   "outputs": [],
   "source": [
    "time_to_failure_diffs.shape"
   ]
  },
  {
   "cell_type": "code",
   "execution_count": null,
   "metadata": {},
   "outputs": [],
   "source": [
    "train_df.shape"
   ]
  },
  {
   "cell_type": "code",
   "execution_count": null,
   "metadata": {},
   "outputs": [],
   "source": [
    "print(time_to_failure_diffs[:10])\n",
    "print(time_to_failure_diffs[-10:])"
   ]
  },
  {
   "cell_type": "code",
   "execution_count": null,
   "metadata": {},
   "outputs": [],
   "source": [
    "time_to_failure_diffs = np.concatenate((time_to_failure_diffs, [0])).astype(np.float32)"
   ]
  },
  {
   "cell_type": "code",
   "execution_count": null,
   "metadata": {},
   "outputs": [],
   "source": [
    "time_to_failure_diffs.shape"
   ]
  },
  {
   "cell_type": "code",
   "execution_count": null,
   "metadata": {},
   "outputs": [],
   "source": [
    "train_df['time_to_failure_diffs'] = time_to_failure_diffs"
   ]
  },
  {
   "cell_type": "code",
   "execution_count": null,
   "metadata": {},
   "outputs": [],
   "source": [
    "train_df.head()"
   ]
  },
  {
   "cell_type": "code",
   "execution_count": null,
   "metadata": {},
   "outputs": [],
   "source": [
    "train_df.info()"
   ]
  },
  {
   "cell_type": "code",
   "execution_count": null,
   "metadata": {},
   "outputs": [],
   "source": [
    "del time_to_failure_diffs\n",
    "gc.collect()"
   ]
  },
  {
   "cell_type": "code",
   "execution_count": null,
   "metadata": {},
   "outputs": [],
   "source": [
    "(train_df['time_to_failure_diffs'] == 0).count()"
   ]
  },
  {
   "cell_type": "code",
   "execution_count": null,
   "metadata": {},
   "outputs": [],
   "source": [
    "(train_df['time_to_failure_diffs'] == np.inf).any()"
   ]
  },
  {
   "cell_type": "code",
   "execution_count": null,
   "metadata": {},
   "outputs": [],
   "source": [
    "(train_df['time_to_failure_diffs'] == np.nan).any()"
   ]
  },
  {
   "cell_type": "code",
   "execution_count": null,
   "metadata": {},
   "outputs": [],
   "source": [
    "((train_df['time_to_failure_diffs'] != 0.0).astype(np.int32)).sum()"
   ]
  },
  {
   "cell_type": "code",
   "execution_count": null,
   "metadata": {},
   "outputs": [],
   "source": [
    "plt.figure(figsize=(16,6))\n",
    "features = train_df.columns.values\n",
    "plt.title(\"Distribution of mean values per row in the train and test set\")\n",
    "sns.distplot(train_df[features].mean(axis=1),color=\"green\", kde=True,bins=120, label='train')\n",
    "#sns.distplot(test_df[features].mean(axis=1),color=\"blue\", kde=True,bins=120, label='test')\n",
    "plt.legend()\n",
    "plt.show()"
   ]
  },
  {
   "cell_type": "code",
   "execution_count": null,
   "metadata": {},
   "outputs": [],
   "source": [
    "features = train_df.columns.values[2:202]\n",
    "plt.figure(figsize=(24, 18))\n",
    "plt.title(\"Distribution of mean values per column in the train and test set\")\n",
    "sns.distplot(train_df[features].mean(axis=0), color=\"magenta\", kde=True,bins=120, label='train')\n",
    "#sns.distplot(test_df[features].mean(axis=0),color=\"darkblue\", kde=True,bins=120, label='test')\n",
    "plt.legend()\n",
    "plt.show()"
   ]
  }
 ],
 "metadata": {
  "kernelspec": {
   "display_name": "Python 3",
   "language": "python",
   "name": "python3"
  },
  "language_info": {
   "codemirror_mode": {
    "name": "ipython",
    "version": 3
   },
   "file_extension": ".py",
   "mimetype": "text/x-python",
   "name": "python",
   "nbconvert_exporter": "python",
   "pygments_lexer": "ipython3",
   "version": "3.6.6"
  }
 },
 "nbformat": 4,
 "nbformat_minor": 2
}
