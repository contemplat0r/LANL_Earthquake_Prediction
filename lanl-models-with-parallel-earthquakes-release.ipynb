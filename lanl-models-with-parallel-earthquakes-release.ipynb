{
 "cells": [
  {
   "cell_type": "code",
   "execution_count": 1,
   "metadata": {},
   "outputs": [
    {
     "name": "stderr",
     "output_type": "stream",
     "text": [
      "Using TensorFlow backend.\n"
     ]
    }
   ],
   "source": [
    "import gc\n",
    "import math\n",
    "import os\n",
    "import pathlib\n",
    "import random\n",
    "import time\n",
    "\n",
    "import numpy as np\n",
    "import pandas as pd\n",
    "\n",
    "import matplotlib.pyplot as plt\n",
    "import seaborn as sns\n",
    "\n",
    "from tqdm import tqdm_notebook\n",
    "\n",
    "from sklearn.preprocessing import StandardScaler\n",
    "from sklearn.metrics import mean_absolute_error\n",
    "from sklearn.model_selection import StratifiedKFold, KFold, RepeatedKFold, train_test_split\n",
    "\n",
    "import lightgbm as lgb\n",
    "import xgboost as xgb\n",
    "\n",
    "import keras\n",
    "from keras.models import Sequential\n",
    "from keras.layers import Dense\n",
    "from keras.optimizers import adam\n",
    "from keras.callbacks import ModelCheckpoint"
   ]
  },
  {
   "cell_type": "code",
   "execution_count": 2,
   "metadata": {},
   "outputs": [],
   "source": [
    "%matplotlib inline"
   ]
  },
  {
   "cell_type": "code",
   "execution_count": 3,
   "metadata": {},
   "outputs": [],
   "source": [
    "def add_features(\n",
    "        df,\n",
    "        input_first_index=None,\n",
    "        input_last_index=None,\n",
    "        sample_size=150000,\n",
    "        holdout_size=50000,\n",
    "        smootch_windows_size = (3, 5, 7)\n",
    "    ):\n",
    "    if input_first_index == None or input_last_index == None:\n",
    "        input_first_index = df.index.min()\n",
    "        input_last_index = df.index.max() + 1\n",
    "        \n",
    "    \n",
    "    sample_indexes = random.sample(range(input_first_index, input_last_index), sample_size)\n",
    "    sample_indexes.sort()\n",
    "    \n",
    "    smootch_feature_names = ['smootch_mean_ws_{}'.format(window_size) for window_size in smootch_windows_size]\n",
    "    acoustic_data_series = df['acoustic_data']\n",
    "    full_data_indexes = tuple(acoustic_data_series.index.tolist())\n",
    "\n",
    "    sample_df = df.iloc[sample_indexes]\n",
    "\n",
    "    sample_df.reset_index(inplace=True)\n",
    "    sample_df.drop(columns=['index'], inplace=True)\n",
    "\n",
    "    output_first_index = 0\n",
    "    output_last_index = len(sample_df) - 1\n",
    "    \n",
    "    begin_indexes_set = set()\n",
    "    end_indexes_set = set()\n",
    "    \n",
    "    start_time = time.time()\n",
    "   \n",
    "    sample_df_len = sample_df.shape[0]\n",
    "    for window_size, feature_name in zip(smootch_windows_size, smootch_feature_names):\n",
    "\n",
    "        feature_values_list = list(range(sample_size))\n",
    "\n",
    "        half_window_size = window_size // 2\n",
    "\n",
    "        sample_begin_indexes = sample_indexes[:half_window_size]\n",
    "        full_data_begin_indexes = set(df.index[sample_begin_indexes].tolist())\n",
    "        min_full_data_index = min(full_data_indexes)\n",
    "        \n",
    "        in_window_full_data_begin_indexes = set(range(input_first_index, input_first_index + half_window_size))              \n",
    "        in_window_begin_indexes = full_data_begin_indexes.intersection(\n",
    "            in_window_full_data_begin_indexes\n",
    "        )\n",
    "        \n",
    "        sample_end_indexes = sample_indexes[-half_window_size:]\n",
    "        full_data_end_indexes = set(df.index[sample_end_indexes].tolist())\n",
    "        max_full_data_index = max(full_data_end_indexes) + 1\n",
    "        \n",
    "        in_window_full_data_end_indexes = set(range(input_last_index - half_window_size, input_last_index))        \n",
    "        in_window_end_indexes = full_data_end_indexes.intersection(\n",
    "            in_window_full_data_end_indexes\n",
    "        )\n",
    "        if in_window_begin_indexes:\n",
    "            begin_indexes_set = begin_indexes_set.union(in_window_begin_indexes)\n",
    "            for i, b_idx in enumerate(sorted(tuple(in_window_begin_indexes))):\n",
    "                value = sample_df.iloc[i]['acoustic_data']\n",
    "                temp = acoustic_data_series.iloc[input_first_index:input_first_index + window_size].mean()\n",
    "                value = value - temp\n",
    "                feature_values_list[output_first_index + i] = value\n",
    "                \n",
    "        if in_window_end_indexes:\n",
    "            end_indexes_set = end_indexes_set.union(in_window_end_indexes)\n",
    "            for i, e_idx in enumerate(sorted(tuple(in_window_end_indexes))):\n",
    "                value = sample_df.iloc[output_last_index - i]['acoustic_data']\n",
    "                temp = acoustic_data_series.iloc[input_last_index - window_size:].mean()\n",
    "                value = value - temp\n",
    "                feature_values_list[output_last_index - i] = value\n",
    "                \n",
    "        first_regular_idx = len(begin_indexes_set)\n",
    "        last_regular_idx = sample_df_len - len(end_indexes_set)\n",
    "        for i in range(first_regular_idx, last_regular_idx):\n",
    "            sample_idx = sample_indexes[i]\n",
    "            feature_values_list[i] = acoustic_data_series.iloc[\n",
    "                sample_idx - half_window_size:sample_idx + half_window_size\n",
    "            ].mean()\n",
    "        sample_df[feature_name] = feature_values_list\n",
    "        \n",
    "    holdout_df = None\n",
    "    if holdout_size > 0:\n",
    "        holdout_indexes = np.random.randint(0, sample_df.shape[0], holdout_size)\n",
    "        holdout_df = sample_df.iloc[holdout_indexes]\n",
    "        holdout_df.reset_index(inplace=True)\n",
    "        holdout_df.drop(columns=['index'], inplace=True)\n",
    "        train_indexes = sorted(tuple(set(sample_df.index).difference(set(holdout_indexes))))\n",
    "        sample_df = sample_df.iloc[train_indexes]\n",
    "        sample_df.reset_index(inplace=True)\n",
    "        sample_df.drop(columns=['index'], inplace=True)\n",
    "    print(\"Full calculation feature value time (with slicing) {} min:\".format((time.time() - start_time) / 60))\n",
    "    return sample_df, holdout_df"
   ]
  },
  {
   "cell_type": "code",
   "execution_count": 4,
   "metadata": {},
   "outputs": [],
   "source": [
    "earthquake_margin_indexes =[\n",
    "    5656573,\n",
    "    50085877,\n",
    "    104677355,\n",
    "    138772452,\n",
    "    187641819,\n",
    "    218652629,\n",
    "    245829584,\n",
    "    307838916,\n",
    "    338276286,\n",
    "    375377847,\n",
    "    419368879,\n",
    "    461811622,\n",
    "    495800224,\n",
    "    528777114,\n",
    "    585568143,\n",
    "    621985672\n",
    "]"
   ]
  },
  {
   "cell_type": "code",
   "execution_count": 5,
   "metadata": {},
   "outputs": [],
   "source": [
    "earthquakes_length = [earthquake_margin_indexes[i + 1] - earthquake_margin_indexes[i] for i in range(len(earthquake_margin_indexes) - 1)]"
   ]
  },
  {
   "cell_type": "code",
   "execution_count": 6,
   "metadata": {},
   "outputs": [
    {
     "data": {
      "text/plain": [
       "[44429304,\n",
       " 54591478,\n",
       " 34095097,\n",
       " 48869367,\n",
       " 31010810,\n",
       " 27176955,\n",
       " 62009332,\n",
       " 30437370,\n",
       " 37101561,\n",
       " 43991032,\n",
       " 42442743,\n",
       " 33988602,\n",
       " 32976890,\n",
       " 56791029,\n",
       " 36417529]"
      ]
     },
     "execution_count": 6,
     "metadata": {},
     "output_type": "execute_result"
    }
   ],
   "source": [
    "earthquakes_length"
   ]
  },
  {
   "cell_type": "code",
   "execution_count": 7,
   "metadata": {},
   "outputs": [],
   "source": [
    "complete_earthquakes_length = earthquakes_length[:-1]"
   ]
  },
  {
   "cell_type": "code",
   "execution_count": 8,
   "metadata": {},
   "outputs": [],
   "source": [
    "#complete_earthquaces_length = complete_earthquaces_length[:-1]"
   ]
  },
  {
   "cell_type": "code",
   "execution_count": 9,
   "metadata": {},
   "outputs": [
    {
     "data": {
      "text/plain": [
       "[44429304,\n",
       " 54591478,\n",
       " 34095097,\n",
       " 48869367,\n",
       " 31010810,\n",
       " 27176955,\n",
       " 62009332,\n",
       " 30437370,\n",
       " 37101561,\n",
       " 43991032,\n",
       " 42442743,\n",
       " 33988602,\n",
       " 32976890,\n",
       " 56791029]"
      ]
     },
     "execution_count": 9,
     "metadata": {},
     "output_type": "execute_result"
    }
   ],
   "source": [
    "complete_earthquakes_length"
   ]
  },
  {
   "cell_type": "code",
   "execution_count": 10,
   "metadata": {},
   "outputs": [],
   "source": [
    "params = {\n",
    "    #'num_leaves': 51,\n",
    "    'num_leaves': 27,\n",
    "    #'min_data_in_leaf': 10,\n",
    "    'min_data_in_leaf': 8,\n",
    "    'objective':'regression',\n",
    "    #'max_depth': -1,\n",
    "    'max_depth': 5,\n",
    "    'learning_rate': 0.001,\n",
    "    'boosting': 'gbdt',\n",
    "    #'feature_fraction': 0.91,\n",
    "    #'bagging_freq': 1,\n",
    "    #'bagging_fraction': 0.91,\n",
    "    #'bagging_seed': 42,\n",
    "    'metric': 'mae',\n",
    "    #'lambda_l1': 0.1,\n",
    "    'verbosity': -1,\n",
    "    'nthread': 10,\n",
    "    'random_state': 42\n",
    "}"
   ]
  },
  {
   "cell_type": "code",
   "execution_count": 11,
   "metadata": {},
   "outputs": [],
   "source": [
    "def train_models(\n",
    "        earthquake_margin_indexes,\n",
    "        complete_earthquakes_length,\n",
    "        params,\n",
    "        not_seen_data,\n",
    "        sample_size=None,\n",
    "        holdout_size=None,\n",
    "        not_seen_data_begin=1,\n",
    "        not_seen_data_end=5656572 #5656569\n",
    "    ):\n",
    "    \n",
    "    '''\n",
    "    not_seen_data_df = pd.read_csv(\n",
    "        '../input/train/train.csv',\n",
    "        #nrows=100000000,\n",
    "        names=['acoustic_data', 'time_to_failure'],\n",
    "        dtype={'acoustic_data': np.float32, 'time_to_failure': np.float32},\n",
    "        skiprows=not_seen_data_begin,\n",
    "        nrows=not_seen_data_end\n",
    "    )\n",
    "    \n",
    "    not_seen_data_df, _ = add_features(\n",
    "        not_seen_data_df,\n",
    "        sample_size=not_seen_data_df.shape[0],\n",
    "        holdout_size=0\n",
    "    )\n",
    "    '''\n",
    "    for i in range(len(complete_earthquakes_length)):\n",
    "        earthquake_df = pd.read_csv(\n",
    "                '../input/train/train.csv',\n",
    "                #nrows=100000000,\n",
    "                names=['acoustic_data', 'time_to_failure'],\n",
    "                dtype={'acoustic_data': np.float32, 'time_to_failure': np.float32},\n",
    "                skiprows=earthquake_margin_indexes[i],\n",
    "                nrows=complete_earthquakes_length[i]\n",
    "            )\n",
    "        if not sample_size:\n",
    "            sample_size = complete_earthquakes_length[i] // 100\n",
    "        if not holdout_size:\n",
    "            holdout_size = complete_earthquakes_length[i] // 500\n",
    "        earthquake_add_features_df, holdout_add_features_df = add_features(\n",
    "                earthquake_df,\n",
    "                sample_size=sample_size,\n",
    "                holdout_size=holdout_size\n",
    "            )\n",
    "        X_all = earthquake_add_features_df[earthquake_add_features_df.columns.drop('time_to_failure')]\n",
    "        y_all = earthquake_add_features_df['time_to_failure']\n",
    "\n",
    "        X_train, X_valid, y_train, y_valid = train_test_split(X_all, y_all, test_size=0.2, random_state=0)\n",
    "\n",
    "        model = lgb.LGBMRegressor(**params, n_estimators = 20000, n_jobs = 10, num_iterations=40000)\n",
    "        model.fit(\n",
    "                X_train,\n",
    "                y_train,\n",
    "                eval_set=[(X_train, y_train), (X_valid, y_valid)],\n",
    "                eval_metric='mae',\n",
    "                verbose=1000,\n",
    "                early_stopping_rounds=4000\n",
    "            )\n",
    "        X_holdout = holdout_add_features_df[holdout_add_features_df.columns.drop('time_to_failure')]\n",
    "        y_holdout = holdout_add_features_df['time_to_failure']\n",
    "        \n",
    "        y_holdout_predict = model.predict(X_holdout)\n",
    "        print(\"earthquake {} mae {}\".format(i, mean_absolute_error(y_holdout, y_holdout_predict)))\n",
    "\n",
    "        not_seen_data_predict = model.predict(not_seen_data_df)\n",
    "        not_seen_data_predict_df = pd.DataFrame({'time_to_failure': not_seen_data_predict})\n",
    "        not_seen_data_predict_df.to_csv('not_seend_data_earthquake_{}_model_predict.csv', index=False)\n",
    "\n",
    "        model.save_model('earthquake_{}_model.txt'.format(i))\n",
    "\n",
    "    return"
   ]
  },
  {
   "cell_type": "code",
   "execution_count": 12,
   "metadata": {},
   "outputs": [
    {
     "name": "stdout",
     "output_type": "stream",
     "text": [
      "CPU times: user 1.37 s, sys: 92 ms, total: 1.46 s\n",
      "Wall time: 1.49 s\n"
     ]
    }
   ],
   "source": [
    "%%time\n",
    "not_seen_data_df = pd.read_csv(\n",
    "    '../input/train/train.csv',\n",
    "    #nrows=100000000,\n",
    "    names=['acoustic_data', 'time_to_failure'],\n",
    "    dtype={'acoustic_data': np.float32, 'time_to_failure': np.float32},\n",
    "    skiprows=1,\n",
    "    nrows=5656572\n",
    ")"
   ]
  },
  {
   "cell_type": "code",
   "execution_count": 13,
   "metadata": {},
   "outputs": [
    {
     "name": "stdout",
     "output_type": "stream",
     "text": [
      "Full calculation feature value time (with slicing) 3.1329214493433635 min:\n",
      "CPU times: user 3min 8s, sys: 276 ms, total: 3min 9s\n",
      "Wall time: 3min 9s\n"
     ]
    }
   ],
   "source": [
    "%%time\n",
    "featured_not_seen_data_df, _ = add_features(\n",
    "    not_seen_data_df,\n",
    "    sample_size=not_seen_data_df.shape[0] // 20,\n",
    "    holdout_size=0\n",
    ")"
   ]
  },
  {
   "cell_type": "code",
   "execution_count": 14,
   "metadata": {},
   "outputs": [
    {
     "name": "stdout",
     "output_type": "stream",
     "text": [
      "Full calculation feature value time (with slicing) 4.9839229861895245 min:\n"
     ]
    },
    {
     "name": "stderr",
     "output_type": "stream",
     "text": [
      "/home/uldo/miniconda3/envs/DS-New/lib/python3.6/site-packages/lightgbm/engine.py:102: UserWarning: Found `num_iterations` in params. Will use it instead of argument\n",
      "  warnings.warn(\"Found `{}` in params. Will use it instead of argument\".format(alias))\n"
     ]
    },
    {
     "name": "stdout",
     "output_type": "stream",
     "text": [
      "Training until validation scores don't improve for 4000 rounds.\n",
      "[1000]\ttraining's l1: 2.85294\tvalid_1's l1: 2.85267\n",
      "[2000]\ttraining's l1: 2.84576\tvalid_1's l1: 2.84699\n",
      "[3000]\ttraining's l1: 2.84338\tvalid_1's l1: 2.84558\n",
      "[4000]\ttraining's l1: 2.84205\tvalid_1's l1: 2.84508\n",
      "[5000]\ttraining's l1: 2.84117\tvalid_1's l1: 2.84493\n",
      "[6000]\ttraining's l1: 2.84058\tvalid_1's l1: 2.84486\n",
      "[7000]\ttraining's l1: 2.84004\tvalid_1's l1: 2.84481\n",
      "[8000]\ttraining's l1: 2.83957\tvalid_1's l1: 2.8448\n",
      "[9000]\ttraining's l1: 2.83912\tvalid_1's l1: 2.84485\n",
      "[10000]\ttraining's l1: 2.83859\tvalid_1's l1: 2.84485\n",
      "[11000]\ttraining's l1: 2.83813\tvalid_1's l1: 2.84483\n",
      "Early stopping, best iteration is:\n",
      "[7812]\ttraining's l1: 2.83965\tvalid_1's l1: 2.8448\n"
     ]
    },
    {
     "ename": "NameError",
     "evalue": "name 'holdout_df' is not defined",
     "output_type": "error",
     "traceback": [
      "\u001b[0;31m---------------------------------------------------------------------------\u001b[0m",
      "\u001b[0;31mNameError\u001b[0m                                 Traceback (most recent call last)",
      "\u001b[0;32m<timed eval>\u001b[0m in \u001b[0;36m<module>\u001b[0;34m()\u001b[0m\n",
      "\u001b[0;32m<ipython-input-11-ba55e929c350>\u001b[0m in \u001b[0;36mtrain_models\u001b[0;34m(earthquake_margin_indexes, complete_earthquakes_length, params, not_seen_data, sample_size, holdout_size, not_seen_data_begin, not_seen_data_end)\u001b[0m\n\u001b[1;32m     58\u001b[0m                 \u001b[0mearly_stopping_rounds\u001b[0m\u001b[0;34m=\u001b[0m\u001b[0;36m4000\u001b[0m\u001b[0;34m\u001b[0m\u001b[0m\n\u001b[1;32m     59\u001b[0m             )\n\u001b[0;32m---> 60\u001b[0;31m         \u001b[0mX_holdout\u001b[0m \u001b[0;34m=\u001b[0m \u001b[0mholdout_add_features_df\u001b[0m\u001b[0;34m[\u001b[0m\u001b[0mholdout_df\u001b[0m\u001b[0;34m.\u001b[0m\u001b[0mcolumns\u001b[0m\u001b[0;34m.\u001b[0m\u001b[0mdrop\u001b[0m\u001b[0;34m(\u001b[0m\u001b[0;34m'time_to_failure'\u001b[0m\u001b[0;34m)\u001b[0m\u001b[0;34m]\u001b[0m\u001b[0;34m\u001b[0m\u001b[0m\n\u001b[0m\u001b[1;32m     61\u001b[0m         \u001b[0my_holdout\u001b[0m \u001b[0;34m=\u001b[0m \u001b[0mholdout_add_features_df\u001b[0m\u001b[0;34m[\u001b[0m\u001b[0;34m'time_to_failure'\u001b[0m\u001b[0;34m]\u001b[0m\u001b[0;34m\u001b[0m\u001b[0m\n\u001b[1;32m     62\u001b[0m \u001b[0;34m\u001b[0m\u001b[0m\n",
      "\u001b[0;31mNameError\u001b[0m: name 'holdout_df' is not defined"
     ]
    }
   ],
   "source": [
    "%%time\n",
    "train_models(earthquake_margin_indexes, complete_earthquakes_length, params, not_seen_data_df)"
   ]
  },
  {
   "cell_type": "code",
   "execution_count": null,
   "metadata": {},
   "outputs": [],
   "source": []
  }
 ],
 "metadata": {
  "kernelspec": {
   "display_name": "Python 3",
   "language": "python",
   "name": "python3"
  },
  "language_info": {
   "codemirror_mode": {
    "name": "ipython",
    "version": 3
   },
   "file_extension": ".py",
   "mimetype": "text/x-python",
   "name": "python",
   "nbconvert_exporter": "python",
   "pygments_lexer": "ipython3",
   "version": "3.6.6"
  }
 },
 "nbformat": 4,
 "nbformat_minor": 2
}
