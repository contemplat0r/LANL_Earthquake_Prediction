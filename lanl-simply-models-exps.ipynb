{
 "cells": [
  {
   "cell_type": "code",
   "execution_count": 18,
   "metadata": {},
   "outputs": [],
   "source": [
    "import gc\n",
    "import os\n",
    "import pathlib\n",
    "import time\n",
    "\n",
    "import numpy as np\n",
    "import pandas as pd\n",
    "\n",
    "import matplotlib.pyplot as plt\n",
    "import seaborn as sns\n",
    "\n",
    "from sklearn.model_selection import cross_val_score, train_test_split\n",
    "from sklearn.linear_model import LinearRegression\n",
    "from sklearn.svm import SVR\n",
    "from sklearn.metrics import mean_squared_error, mean_absolute_error\n",
    "from sklearn.model_selection import StratifiedKFold\n",
    "\n",
    "import lightgbm as lgb"
   ]
  },
  {
   "cell_type": "code",
   "execution_count": 2,
   "metadata": {},
   "outputs": [],
   "source": [
    "%matplotlib inline"
   ]
  },
  {
   "cell_type": "code",
   "execution_count": 3,
   "metadata": {},
   "outputs": [],
   "source": [
    "train_df = pd.read_csv('../input/train/train.csv')"
   ]
  },
  {
   "cell_type": "code",
   "execution_count": 4,
   "metadata": {},
   "outputs": [],
   "source": [
    "acoustic_data_df = train_df[train_df.columns.drop('time_to_failure')].astype(np.int32)"
   ]
  },
  {
   "cell_type": "code",
   "execution_count": 5,
   "metadata": {},
   "outputs": [],
   "source": [
    "time_to_failure_df = train_df[train_df.columns.drop('acoustic_data')].astype(np.float32)"
   ]
  },
  {
   "cell_type": "code",
   "execution_count": 6,
   "metadata": {},
   "outputs": [
    {
     "data": {
      "text/plain": [
       "18"
      ]
     },
     "execution_count": 6,
     "metadata": {},
     "output_type": "execute_result"
    }
   ],
   "source": [
    "del train_df\n",
    "gc.collect()"
   ]
  },
  {
   "cell_type": "code",
   "execution_count": 7,
   "metadata": {},
   "outputs": [
    {
     "name": "stdout",
     "output_type": "stream",
     "text": [
      "<class 'pandas.core.frame.DataFrame'>\n",
      "RangeIndex: 629145480 entries, 0 to 629145479\n",
      "Data columns (total 1 columns):\n",
      "acoustic_data    int32\n",
      "dtypes: int32(1)\n",
      "memory usage: 2.3 GB\n"
     ]
    }
   ],
   "source": [
    "acoustic_data_df.info()"
   ]
  },
  {
   "cell_type": "code",
   "execution_count": 8,
   "metadata": {},
   "outputs": [
    {
     "name": "stdout",
     "output_type": "stream",
     "text": [
      "<class 'pandas.core.frame.DataFrame'>\n",
      "RangeIndex: 629145480 entries, 0 to 629145479\n",
      "Data columns (total 1 columns):\n",
      "time_to_failure    float32\n",
      "dtypes: float32(1)\n",
      "memory usage: 2.3 GB\n"
     ]
    }
   ],
   "source": [
    "time_to_failure_df.info()"
   ]
  },
  {
   "cell_type": "code",
   "execution_count": 9,
   "metadata": {},
   "outputs": [],
   "source": [
    "train_values, holdout_test_values, train_target_values, holdout_test_target_values = train_test_split(\n",
    "    acoustic_data_df.values,\n",
    "    time_to_failure_df.values,\n",
    "    test_size=0.25,\n",
    "    random_state=0\n",
    ")"
   ]
  },
  {
   "cell_type": "code",
   "execution_count": 10,
   "metadata": {},
   "outputs": [],
   "source": [
    "linear_regression_model = LinearRegression(n_jobs=10)"
   ]
  },
  {
   "cell_type": "code",
   "execution_count": 11,
   "metadata": {},
   "outputs": [
    {
     "name": "stdout",
     "output_type": "stream",
     "text": [
      "Total training model time: 0.3467741847038269\n"
     ]
    }
   ],
   "source": [
    "start_time = time.time()\n",
    "linear_regression_model.fit(train_values, train_target_values)\n",
    "print(\"Total training model time: {}\".format((time.time() - start_time) / 60))"
   ]
  },
  {
   "cell_type": "code",
   "execution_count": 12,
   "metadata": {},
   "outputs": [],
   "source": [
    "prediction = linear_regression_model.predict(holdout_test_values)"
   ]
  },
  {
   "cell_type": "code",
   "execution_count": 13,
   "metadata": {},
   "outputs": [
    {
     "name": "stdout",
     "output_type": "stream",
     "text": [
      "mean_squared_error:  13.489476553031523\n"
     ]
    }
   ],
   "source": [
    "print(\"mean_squared_error: \", mean_squared_error(holdout_test_target_values, prediction))"
   ]
  },
  {
   "cell_type": "code",
   "execution_count": 14,
   "metadata": {},
   "outputs": [
    {
     "name": "stdout",
     "output_type": "stream",
     "text": [
      "mean_absolute_error:  3.0482380705479266\n"
     ]
    }
   ],
   "source": [
    "print(\"mean_absolute_error: \", mean_absolute_error(holdout_test_target_values, prediction))"
   ]
  },
  {
   "cell_type": "code",
   "execution_count": 15,
   "metadata": {},
   "outputs": [],
   "source": [
    "#svm_regression_model = SVR()"
   ]
  },
  {
   "cell_type": "code",
   "execution_count": 16,
   "metadata": {},
   "outputs": [],
   "source": [
    "#start_time = time.time()\n",
    "#svm_regression_model.fit(train_values, train_target_values)\n",
    "#print(\"Total training model time: {}\".format((time.time() - start_time) / 60))"
   ]
  },
  {
   "cell_type": "code",
   "execution_count": 17,
   "metadata": {},
   "outputs": [],
   "source": [
    "train_lgb_values, valid_lgb_values, train_lgb_target_values, valid_lgb_target_values = train_test_split(\n",
    "    train_values,\n",
    "    train_target_values,\n",
    "    test_size=0.20,\n",
    "    random_state=0\n",
    ")"
   ]
  },
  {
   "cell_type": "code",
   "execution_count": 24,
   "metadata": {},
   "outputs": [],
   "source": [
    "params = {\n",
    "    'boosting_type': 'gbdt',\n",
    "    'objective': 'regression',\n",
    "    'metric': {'mae'},\n",
    "    'num_leaves': 31,\n",
    "    'learning_rate': 0.05,\n",
    "    'feature_fraction': 0.9,\n",
    "    'bagging_fraction': 0.8,\n",
    "    'bagging_freq': 5,\n",
    "    'verbose': 0\n",
    "}"
   ]
  },
  {
   "cell_type": "code",
   "execution_count": 22,
   "metadata": {},
   "outputs": [],
   "source": [
    "lgb_train = lgb.Dataset(train_lgb_values, train_lgb_target_values.ravel())\n",
    "lgb_eval = lgb.Dataset(valid_lgb_values, valid_lgb_target_values.ravel(), reference=lgb_train)"
   ]
  },
  {
   "cell_type": "code",
   "execution_count": 25,
   "metadata": {},
   "outputs": [
    {
     "name": "stdout",
     "output_type": "stream",
     "text": [
      "[1]\tvalid_0's l1: 3.04607\n",
      "Training until validation scores don't improve for 10 rounds.\n",
      "[2]\tvalid_0's l1: 3.04432\n",
      "[3]\tvalid_0's l1: 3.04272\n",
      "[4]\tvalid_0's l1: 3.04125\n",
      "[5]\tvalid_0's l1: 3.0399\n",
      "[6]\tvalid_0's l1: 3.03865\n",
      "[7]\tvalid_0's l1: 3.03751\n",
      "[8]\tvalid_0's l1: 3.03646\n",
      "[9]\tvalid_0's l1: 3.0355\n",
      "[10]\tvalid_0's l1: 3.03461\n",
      "[11]\tvalid_0's l1: 3.03379\n",
      "[12]\tvalid_0's l1: 3.03304\n",
      "[13]\tvalid_0's l1: 3.03235\n",
      "[14]\tvalid_0's l1: 3.03171\n",
      "[15]\tvalid_0's l1: 3.03112\n",
      "[16]\tvalid_0's l1: 3.03057\n",
      "[17]\tvalid_0's l1: 3.03006\n",
      "[18]\tvalid_0's l1: 3.0296\n",
      "[19]\tvalid_0's l1: 3.02917\n",
      "[20]\tvalid_0's l1: 3.02876\n",
      "[21]\tvalid_0's l1: 3.02839\n",
      "[22]\tvalid_0's l1: 3.02805\n",
      "[23]\tvalid_0's l1: 3.02773\n",
      "[24]\tvalid_0's l1: 3.02744\n",
      "[25]\tvalid_0's l1: 3.02716\n",
      "[26]\tvalid_0's l1: 3.02691\n",
      "[27]\tvalid_0's l1: 3.02667\n",
      "[28]\tvalid_0's l1: 3.02645\n",
      "[29]\tvalid_0's l1: 3.02625\n",
      "[30]\tvalid_0's l1: 3.02606\n",
      "[31]\tvalid_0's l1: 3.02588\n",
      "[32]\tvalid_0's l1: 3.02571\n",
      "[33]\tvalid_0's l1: 3.02556\n",
      "[34]\tvalid_0's l1: 3.02541\n",
      "[35]\tvalid_0's l1: 3.02528\n",
      "[36]\tvalid_0's l1: 3.02515\n",
      "[37]\tvalid_0's l1: 3.02504\n",
      "[38]\tvalid_0's l1: 3.02493\n",
      "[39]\tvalid_0's l1: 3.02483\n",
      "[40]\tvalid_0's l1: 3.02473\n",
      "[41]\tvalid_0's l1: 3.02464\n",
      "[42]\tvalid_0's l1: 3.02456\n",
      "[43]\tvalid_0's l1: 3.02448\n",
      "[44]\tvalid_0's l1: 3.0244\n",
      "[45]\tvalid_0's l1: 3.02433\n",
      "[46]\tvalid_0's l1: 3.02427\n",
      "[47]\tvalid_0's l1: 3.02421\n",
      "[48]\tvalid_0's l1: 3.02415\n",
      "[49]\tvalid_0's l1: 3.0241\n",
      "[50]\tvalid_0's l1: 3.02404\n",
      "[51]\tvalid_0's l1: 3.024\n",
      "[52]\tvalid_0's l1: 3.02395\n",
      "[53]\tvalid_0's l1: 3.02391\n",
      "[54]\tvalid_0's l1: 3.02387\n",
      "[55]\tvalid_0's l1: 3.02383\n",
      "[56]\tvalid_0's l1: 3.02379\n",
      "[57]\tvalid_0's l1: 3.02376\n",
      "[58]\tvalid_0's l1: 3.02373\n",
      "[59]\tvalid_0's l1: 3.0237\n",
      "[60]\tvalid_0's l1: 3.02367\n",
      "[61]\tvalid_0's l1: 3.02364\n",
      "[62]\tvalid_0's l1: 3.02362\n",
      "[63]\tvalid_0's l1: 3.02359\n",
      "[64]\tvalid_0's l1: 3.02357\n",
      "[65]\tvalid_0's l1: 3.02355\n",
      "[66]\tvalid_0's l1: 3.02353\n",
      "[67]\tvalid_0's l1: 3.02351\n",
      "[68]\tvalid_0's l1: 3.02349\n",
      "[69]\tvalid_0's l1: 3.02347\n",
      "[70]\tvalid_0's l1: 3.02346\n",
      "[71]\tvalid_0's l1: 3.02344\n",
      "[72]\tvalid_0's l1: 3.02343\n",
      "[73]\tvalid_0's l1: 3.02342\n",
      "[74]\tvalid_0's l1: 3.0234\n",
      "[75]\tvalid_0's l1: 3.02339\n",
      "[76]\tvalid_0's l1: 3.02338\n",
      "[77]\tvalid_0's l1: 3.02337\n",
      "[78]\tvalid_0's l1: 3.02336\n",
      "[79]\tvalid_0's l1: 3.02335\n",
      "[80]\tvalid_0's l1: 3.02334\n",
      "Did not meet early stopping. Best iteration is:\n",
      "[80]\tvalid_0's l1: 3.02334\n",
      "Total training model time: 10.977877183755238\n"
     ]
    }
   ],
   "source": [
    "start_time = time.time()\n",
    "gbm = lgb.train(\n",
    "    params,\n",
    "    lgb_train,\n",
    "    num_boost_round=80,\n",
    "    valid_sets=lgb_eval,\n",
    "    early_stopping_rounds=10\n",
    ")\n",
    "print(\"Total training model time: {}\".format((time.time() - start_time) / 60))"
   ]
  },
  {
   "cell_type": "code",
   "execution_count": 26,
   "metadata": {},
   "outputs": [],
   "source": [
    "gbm_prediction = gbm.predict(holdout_test_values, num_iteration=gbm.best_iteration)"
   ]
  },
  {
   "cell_type": "code",
   "execution_count": 27,
   "metadata": {},
   "outputs": [
    {
     "name": "stdout",
     "output_type": "stream",
     "text": [
      "mean_absolute_error:  3.0236440438006995\n"
     ]
    }
   ],
   "source": [
    "print(\"mean_absolute_error: \", mean_absolute_error(holdout_test_target_values, gbm_prediction))"
   ]
  },
  {
   "cell_type": "code",
   "execution_count": null,
   "metadata": {},
   "outputs": [],
   "source": []
  }
 ],
 "metadata": {
  "kernelspec": {
   "display_name": "Python 3",
   "language": "python",
   "name": "python3"
  },
  "language_info": {
   "codemirror_mode": {
    "name": "ipython",
    "version": 3
   },
   "file_extension": ".py",
   "mimetype": "text/x-python",
   "name": "python",
   "nbconvert_exporter": "python",
   "pygments_lexer": "ipython3",
   "version": "3.6.6"
  }
 },
 "nbformat": 4,
 "nbformat_minor": 2
}
