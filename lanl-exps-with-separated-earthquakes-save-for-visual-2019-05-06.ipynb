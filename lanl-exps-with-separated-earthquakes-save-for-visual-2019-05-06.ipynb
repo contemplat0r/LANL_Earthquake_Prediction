{
 "cells": [
  {
   "cell_type": "code",
   "execution_count": 1,
   "metadata": {},
   "outputs": [],
   "source": [
    "import time\n",
    "\n",
    "import numpy as np\n",
    "import pandas as pd\n",
    "\n",
    "from scipy.fftpack import fft, fft2, fftfreq, fftshift, rfft, rfftfreq\n",
    "import matplotlib.pyplot as plt"
   ]
  },
  {
   "cell_type": "code",
   "execution_count": 2,
   "metadata": {},
   "outputs": [],
   "source": [
    "%matplotlib inline"
   ]
  },
  {
   "cell_type": "code",
   "execution_count": 3,
   "metadata": {},
   "outputs": [],
   "source": [
    "def detect_failure(df):\n",
    "    failures = df.index[(df.time_to_failure.shift(1) > df.time_to_failure) & (df.time_to_failure.shift(-1) > df.time_to_failure)].tolist()\n",
    "    return failures"
   ]
  },
  {
   "cell_type": "code",
   "execution_count": 4,
   "metadata": {},
   "outputs": [],
   "source": [
    "#chunksize = 150_000\n",
    "\n",
    "#train = pd.read_csv('../input/train.csv', iterator=True, \n",
    "#                    chunksize=chunksize, \n",
    "#                    dtype={'acoustic_data': np.int16, 'time_to_failure': np.float32})"
   ]
  },
  {
   "cell_type": "code",
   "execution_count": 5,
   "metadata": {},
   "outputs": [],
   "source": [
    "train_df = pd.read_csv(\n",
    "    '../input/train/train.csv',\n",
    "    #nrows=100000000,\n",
    "    dtype={'acoustic_data': np.int16, 'time_to_failure': np.float64}\n",
    ")"
   ]
  },
  {
   "cell_type": "code",
   "execution_count": 6,
   "metadata": {},
   "outputs": [
    {
     "name": "stdout",
     "output_type": "stream",
     "text": [
      "<class 'pandas.core.frame.DataFrame'>\n",
      "RangeIndex: 629145480 entries, 0 to 629145479\n",
      "Data columns (total 2 columns):\n",
      "acoustic_data      int16\n",
      "time_to_failure    float64\n",
      "dtypes: float64(1), int16(1)\n",
      "memory usage: 5.9 GB\n"
     ]
    }
   ],
   "source": [
    "train_df.info()"
   ]
  },
  {
   "cell_type": "code",
   "execution_count": 7,
   "metadata": {},
   "outputs": [],
   "source": [
    "time_to_failure_values = train_df['time_to_failure'].values"
   ]
  },
  {
   "cell_type": "code",
   "execution_count": 8,
   "metadata": {},
   "outputs": [],
   "source": [
    "shifted_time_to_failure_values = np.concatenate((time_to_failure_values[1:], [-1]))\n",
    "#shifted_time_to_failure_values = time_to_failure_values[1:]"
   ]
  },
  {
   "cell_type": "code",
   "execution_count": 9,
   "metadata": {},
   "outputs": [
    {
     "data": {
      "text/plain": [
       "True"
      ]
     },
     "execution_count": 9,
     "metadata": {},
     "output_type": "execute_result"
    }
   ],
   "source": [
    "shifted_time_to_failure_values.shape[0] == time_to_failure_values.shape[0]"
   ]
  },
  {
   "cell_type": "code",
   "execution_count": 10,
   "metadata": {},
   "outputs": [
    {
     "name": "stdout",
     "output_type": "stream",
     "text": [
      "Comparison take 0.020298850536346436 min\n"
     ]
    }
   ],
   "source": [
    "start_time = time.time()\n",
    "comparison_results = (shifted_time_to_failure_values < time_to_failure_values)\n",
    "print(\"Comparison take {} min\".format((time.time() - start_time) / 60))"
   ]
  },
  {
   "cell_type": "code",
   "execution_count": 11,
   "metadata": {},
   "outputs": [],
   "source": [
    "earthquake_indexes = np.where(comparison_results == False)"
   ]
  },
  {
   "cell_type": "code",
   "execution_count": 12,
   "metadata": {},
   "outputs": [
    {
     "data": {
      "text/plain": [
       "(array([  5656573,  50085877, 104677355, 138772452, 187641819, 218652629,\n",
       "        245829584, 307838916, 338276286, 375377847, 419368879, 461811622,\n",
       "        495800224, 528777114, 585568143, 621985672]),)"
      ]
     },
     "execution_count": 12,
     "metadata": {},
     "output_type": "execute_result"
    }
   ],
   "source": [
    "earthquake_indexes"
   ]
  },
  {
   "cell_type": "code",
   "execution_count": 13,
   "metadata": {},
   "outputs": [
    {
     "data": {
      "text/plain": [
       "(16,)"
      ]
     },
     "execution_count": 13,
     "metadata": {},
     "output_type": "execute_result"
    }
   ],
   "source": [
    "earthquake_indexes[0].shape"
   ]
  },
  {
   "cell_type": "code",
   "execution_count": 14,
   "metadata": {},
   "outputs": [],
   "source": [
    "earthquake_indexes_array = earthquake_indexes[0]"
   ]
  },
  {
   "cell_type": "code",
   "execution_count": 15,
   "metadata": {},
   "outputs": [],
   "source": [
    "#signal = train_df.loc['acoustic_data', :earthquake_indexes_array[0] + 10000000]\n",
    "## acoustic_data_values = train_df['acoustic_data'].values"
   ]
  },
  {
   "cell_type": "code",
   "execution_count": 16,
   "metadata": {},
   "outputs": [],
   "source": [
    "## signal = acoustic_data_values[:10000000]"
   ]
  },
  {
   "cell_type": "code",
   "execution_count": 17,
   "metadata": {},
   "outputs": [],
   "source": [
    "## fft_of_signal = fft(signal)"
   ]
  },
  {
   "cell_type": "code",
   "execution_count": 18,
   "metadata": {},
   "outputs": [],
   "source": [
    "## type(fft_of_signal)"
   ]
  },
  {
   "cell_type": "code",
   "execution_count": 19,
   "metadata": {},
   "outputs": [],
   "source": [
    "## fft_of_signal.shape"
   ]
  },
  {
   "cell_type": "code",
   "execution_count": 20,
   "metadata": {},
   "outputs": [],
   "source": [
    "failures = detect_failure(train_df)"
   ]
  },
  {
   "cell_type": "code",
   "execution_count": 21,
   "metadata": {},
   "outputs": [
    {
     "data": {
      "text/plain": [
       "[5656573,\n",
       " 50085877,\n",
       " 104677355,\n",
       " 138772452,\n",
       " 187641819,\n",
       " 218652629,\n",
       " 245829584,\n",
       " 307838916,\n",
       " 338276286,\n",
       " 375377847,\n",
       " 419368879,\n",
       " 461811622,\n",
       " 495800224,\n",
       " 528777114,\n",
       " 585568143,\n",
       " 621985672]"
      ]
     },
     "execution_count": 21,
     "metadata": {},
     "output_type": "execute_result"
    }
   ],
   "source": [
    "failures"
   ]
  },
  {
   "cell_type": "code",
   "execution_count": 23,
   "metadata": {},
   "outputs": [],
   "source": [
    "train_df.shape[0]\n",
    "train_df.iloc?\n",
    "train_df.s"
   ]
  },
  {
   "cell_type": "code",
   "execution_count": 24,
   "metadata": {},
   "outputs": [],
   "source": [
    "slices_idx = [failure_idx + 1 for failure_idx in failures]"
   ]
  },
  {
   "cell_type": "code",
   "execution_count": 26,
   "metadata": {},
   "outputs": [
    {
     "name": "stdout",
     "output_type": "stream",
     "text": [
      "\n",
      "earthquake  0\n",
      "min -4621\n",
      "max 3252\n",
      "mean 4.560983026121465\n",
      "median 5.0\n",
      "mode 0    5\n",
      "dtype: int16\n",
      "\n",
      "earthquake  1\n",
      "min -3301\n",
      "max 3914\n",
      "mean 4.507812658960401\n",
      "median 5.0\n",
      "mode 0    4\n",
      "dtype: int16\n",
      "\n",
      "earthquake  2\n",
      "min -3112\n",
      "max 4610\n",
      "mean 4.797262953752599\n",
      "median 5.0\n",
      "mode 0    5\n",
      "dtype: int16\n",
      "\n",
      "earthquake  3\n",
      "min -3704\n",
      "max 5444\n",
      "mean 4.698563902017935\n",
      "median 5.0\n",
      "mode 0    5\n",
      "dtype: int16\n",
      "\n",
      "earthquake  4\n",
      "min -4079\n",
      "max 5115\n",
      "mean 4.6326768668806375\n",
      "median 5.0\n",
      "mode 0    5\n",
      "dtype: int16\n",
      "\n",
      "earthquake  5\n",
      "min -2536\n",
      "max 3747\n",
      "mean 4.491781188559731\n",
      "median 4.0\n",
      "mode 0    4\n",
      "dtype: int16\n",
      "\n",
      "earthquake  6\n",
      "min -4392\n",
      "max 4317\n",
      "mean 4.443880670222253\n",
      "median 4.0\n",
      "mode 0    4\n",
      "dtype: int16\n",
      "\n",
      "earthquake  7\n",
      "min -4482\n",
      "max 3449\n",
      "mean 4.336998373083587\n",
      "median 4.0\n",
      "mode 0    4\n",
      "dtype: int16\n",
      "\n",
      "earthquake  8\n",
      "min -2699\n",
      "max 2951\n",
      "mean 4.520460276298511\n",
      "median 5.0\n",
      "mode 0    5\n",
      "dtype: int16\n",
      "\n",
      "earthquake  9\n",
      "min -4299\n",
      "max 3382\n",
      "mean 4.5646620097736585\n",
      "median 5.0\n",
      "mode 0    5\n",
      "dtype: int16\n",
      "\n",
      "earthquake  10\n",
      "min -4203\n",
      "max 3512\n",
      "mean 4.446619074542284\n",
      "median 4.0\n",
      "mode 0    4\n",
      "dtype: int16\n",
      "\n",
      "earthquake  11\n",
      "min -2941\n",
      "max 2838\n",
      "mean 4.60513357960865\n",
      "median 5.0\n",
      "mode 0    5\n",
      "dtype: int16\n",
      "\n",
      "earthquake  12\n",
      "min -3905\n",
      "max 4281\n",
      "mean 4.68578378128056\n",
      "median 5.0\n",
      "mode 0    5\n",
      "dtype: int16\n",
      "\n",
      "earthquake  13\n",
      "min -5515\n",
      "max 3479\n",
      "mean 4.578142450667725\n",
      "median 5.0\n",
      "mode 0    5\n",
      "dtype: int16\n",
      "\n",
      "earthquake  14\n",
      "min -2860\n",
      "max 3678\n",
      "mean 4.344481167967568\n",
      "median 4.0\n",
      "mode 0    4\n",
      "dtype: int16\n",
      "\n",
      "earthquake  15\n",
      "min -5008\n",
      "max 4886\n",
      "mean 4.228483431701256\n",
      "median 4.0\n",
      "mode 0    4\n",
      "dtype: int16\n",
      "\n",
      "earthquake  16\n",
      "min -215\n",
      "max 259\n",
      "mean 4.3120786635729145\n",
      "median 4.0\n",
      "mode 0    4\n",
      "dtype: int16\n"
     ]
    }
   ],
   "source": [
    "for i, (begin_idx, end_idx) in enumerate(zip([0] + slices_idx, slices_idx + [train_df.shape[0]])):\n",
    "    single_eartquake_data = train_df.iloc[begin_idx:end_idx]['acoustic_data']\n",
    "    print()\n",
    "    print(\"earthquake \", i)\n",
    "    print(\"min\", single_eartquake_data.min())\n",
    "    print(\"max\", single_eartquake_data.max())\n",
    "    print(\"mean\", single_eartquake_data.mean())\n",
    "    print(\"median\", single_eartquake_data.median())\n",
    "    print(\"mode\", single_eartquake_data.mode())"
   ]
  },
  {
   "cell_type": "code",
   "execution_count": null,
   "metadata": {},
   "outputs": [],
   "source": []
  }
 ],
 "metadata": {
  "kernelspec": {
   "display_name": "Python 3",
   "language": "python",
   "name": "python3"
  },
  "language_info": {
   "codemirror_mode": {
    "name": "ipython",
    "version": 3
   },
   "file_extension": ".py",
   "mimetype": "text/x-python",
   "name": "python",
   "nbconvert_exporter": "python",
   "pygments_lexer": "ipython3",
   "version": "3.6.6"
  }
 },
 "nbformat": 4,
 "nbformat_minor": 2
}
