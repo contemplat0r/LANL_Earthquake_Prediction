{
 "cells": [
  {
   "cell_type": "code",
   "execution_count": 1,
   "metadata": {
    "_kg_hide-input": true,
    "_uuid": "e1baa7518f18a7ff1f2767df1b29c051955502ff"
   },
   "outputs": [
    {
     "name": "stderr",
     "output_type": "stream",
     "text": [
      "Using TensorFlow backend.\n"
     ]
    }
   ],
   "source": [
    "%matplotlib inline\n",
    "\n",
    "from os import listdir, makedirs\n",
    "from os.path import isfile, join, basename, splitext, isfile, exists\n",
    "\n",
    "import numpy as np\n",
    "import pandas as pd\n",
    "\n",
    "from tqdm import tqdm_notebook\n",
    "\n",
    "import tensorflow as tf\n",
    "import keras.backend as K\n",
    "\n",
    "import keras\n",
    "from keras.models import Sequential, Model\n",
    "from keras.layers import Dropout, Dense, Flatten, BatchNormalization\n",
    "from keras.layers import Convolution1D, ZeroPadding1D, MaxPooling1D, GlobalAveragePooling1D, GlobalMaxPooling1D\n",
    "from keras.layers import Concatenate, Average, Maximum, CuDNNLSTM, CuDNNGRU, Bidirectional, TimeDistributed\n",
    "from keras.callbacks import Callback, EarlyStopping, ModelCheckpoint\n",
    "from keras.engine.input_layer import Input\n",
    "from keras.models import load_model\n",
    "\n",
    "import matplotlib.pyplot as plt\n",
    "import seaborn as sns\n",
    "\n",
    "pd.set_option('precision', 30)\n",
    "np.set_printoptions(precision = 30)\n",
    "\n",
    "np.random.seed(7723)\n",
    "tf.set_random_seed(1090)"
   ]
  },
  {
   "cell_type": "code",
   "execution_count": 2,
   "metadata": {
    "_uuid": "ccfffa3051a10a0eb8c74527bd8d788c49a340f2"
   },
   "outputs": [
    {
     "name": "stdout",
     "output_type": "stream",
     "text": [
      "CPU times: user 2min 20s, sys: 6.94 s, total: 2min 27s\n",
      "Wall time: 2min 27s\n"
     ]
    }
   ],
   "source": [
    "%%time\n",
    "train_df = pd.read_csv('../input/train/train.csv', dtype={'acoustic_data': np.int8, 'time_to_failure': np.float32})"
   ]
  },
  {
   "cell_type": "code",
   "execution_count": 3,
   "metadata": {
    "_kg_hide-input": false,
    "_kg_hide-output": false,
    "_uuid": "30679acc658f8437d3126d4353068f7d40588a29"
   },
   "outputs": [
    {
     "data": {
      "text/html": [
       "<div>\n",
       "<style scoped>\n",
       "    .dataframe tbody tr th:only-of-type {\n",
       "        vertical-align: middle;\n",
       "    }\n",
       "\n",
       "    .dataframe tbody tr th {\n",
       "        vertical-align: top;\n",
       "    }\n",
       "\n",
       "    .dataframe thead th {\n",
       "        text-align: right;\n",
       "    }\n",
       "</style>\n",
       "<table border=\"1\" class=\"dataframe\">\n",
       "  <thead>\n",
       "    <tr style=\"text-align: right;\">\n",
       "      <th></th>\n",
       "      <th>acoustic_data</th>\n",
       "      <th>time_to_failure</th>\n",
       "    </tr>\n",
       "  </thead>\n",
       "  <tbody>\n",
       "    <tr>\n",
       "      <th>0</th>\n",
       "      <td>12</td>\n",
       "      <td>1.46909999847412109375</td>\n",
       "    </tr>\n",
       "    <tr>\n",
       "      <th>1</th>\n",
       "      <td>6</td>\n",
       "      <td>1.46909999847412109375</td>\n",
       "    </tr>\n",
       "    <tr>\n",
       "      <th>2</th>\n",
       "      <td>8</td>\n",
       "      <td>1.46909999847412109375</td>\n",
       "    </tr>\n",
       "    <tr>\n",
       "      <th>3</th>\n",
       "      <td>5</td>\n",
       "      <td>1.46909999847412109375</td>\n",
       "    </tr>\n",
       "    <tr>\n",
       "      <th>4</th>\n",
       "      <td>8</td>\n",
       "      <td>1.46909999847412109375</td>\n",
       "    </tr>\n",
       "  </tbody>\n",
       "</table>\n",
       "</div>"
      ],
      "text/plain": [
       "   acoustic_data         time_to_failure\n",
       "0             12  1.46909999847412109375\n",
       "1              6  1.46909999847412109375\n",
       "2              8  1.46909999847412109375\n",
       "3              5  1.46909999847412109375\n",
       "4              8  1.46909999847412109375"
      ]
     },
     "execution_count": 3,
     "metadata": {},
     "output_type": "execute_result"
    }
   ],
   "source": [
    "train_df.head()"
   ]
  },
  {
   "cell_type": "code",
   "execution_count": 4,
   "metadata": {
    "_uuid": "693ff1759a78bcc26123e47b011355b54a8ac6ab"
   },
   "outputs": [],
   "source": [
    "X_train = train_df.acoustic_data.values\n",
    "y_train = train_df.time_to_failure.values"
   ]
  },
  {
   "cell_type": "markdown",
   "metadata": {
    "_uuid": "10f0836f9ac55fd57430633125ee33293b8c3bab"
   },
   "source": [
    "Find complete segments in the training data (time to failure goes to zero)"
   ]
  },
  {
   "cell_type": "code",
   "execution_count": 5,
   "metadata": {
    "_uuid": "f0f90d3483c4349050cb3e9ada89cfaf974bb0c4"
   },
   "outputs": [
    {
     "name": "stdout",
     "output_type": "stream",
     "text": [
      "[(0, 5656573), (5656573, 50085877), (50085877, 104677355), (104677355, 138772452), (138772452, 187641819), (187641819, 218652629), (218652629, 245829584), (245829584, 307838916), (307838916, 338276286), (338276286, 375377847), (375377847, 419368879), (419368879, 461811622), (461811622, 495800224), (495800224, 528777114), (528777114, 585568143), (585568143, 621985672)]\n"
     ]
    }
   ],
   "source": [
    "ends_mask = np.less(y_train[:-1], y_train[1:])\n",
    "segment_ends = np.nonzero(ends_mask)\n",
    "\n",
    "train_segments = []\n",
    "start = 0\n",
    "for end in segment_ends[0]:\n",
    "    train_segments.append((start, end))\n",
    "    start = end\n",
    "    \n",
    "print(train_segments)"
   ]
  },
  {
   "cell_type": "code",
   "execution_count": 6,
   "metadata": {
    "_uuid": "2e1194a9e1726095db78e14183c971a1dcbc89a1"
   },
   "outputs": [
    {
     "data": {
      "image/png": "[encoded data removed]",
      "text/plain": [
       "<Figure size 432x288 with 1 Axes>"
      ]
     },
     "metadata": {
      "needs_background": "light"
     },
     "output_type": "display_data"
    }
   ],
   "source": [
    "plt.title('Segment sizes')\n",
    "_ = plt.bar(np.arange(len(train_segments)), [ s[1] - s[0] for s in train_segments])"
   ]
  },
  {
   "cell_type": "markdown",
   "metadata": {
    "_uuid": "5ad80d3483b09c18d07bb62229a802d2284cd0e3"
   },
   "source": [
    "The generator samples randomly from the segmens without crossing the boundaries"
   ]
  },
  {
   "cell_type": "markdown",
   "metadata": {
    "_uuid": "389b43c4107c58029e048522b9b29a38662769c8"
   },
   "source": [
    "class EarthQuakeRandom(keras.utils.Sequence):\n",
    "\n",
    "    def __init__(self, x, y, x_mean, x_std, segments, ts_length, batch_size, steps_per_epoch):\n",
    "        self.x = x\n",
    "        self.y = y\n",
    "        self.segments = segments\n",
    "        self.ts_length = ts_length\n",
    "        self.batch_size = batch_size\n",
    "        self.steps_per_epoch = steps_per_epoch\n",
    "        self.segments_size = np.array([s[1] - s[0] for s in segments])\n",
    "        self.segments_p = self.segments_size / self.segments_size.sum()\n",
    "        self.x_mean = x_mean\n",
    "        self.x_std = x_std\n",
    "\n",
    "    def get_batch_size(self):\n",
    "        return self.batch_size\n",
    "\n",
    "    def get_ts_length(self):\n",
    "        return self.ts_length\n",
    "\n",
    "    def get_segments(self):\n",
    "        return self.segments\n",
    "\n",
    "    def get_segments_p(self):\n",
    "        return self.segments_p\n",
    "\n",
    "    def get_segments_size(self):\n",
    "        return self.segments_size\n",
    "\n",
    "    def __len__(self):\n",
    "        return self.steps_per_epoch\n",
    "\n",
    "    def __getitem__(self, idx):\n",
    "        segment_index = np.random.choice(range(len(self.segments)), p=self.segments_p)\n",
    "        segment = self.segments[segment_index]\n",
    "        end_indexes = np.random.randint(segment[0] + self.ts_length, segment[1], size=self.batch_size)\n",
    "\n",
    "        x_batch = np.empty((self.batch_size, self.ts_length))\n",
    "        y_batch = np.empty(self.batch_size, )\n",
    "\n",
    "        for i, end in enumerate(end_indexes):\n",
    "            x_batch[i, :] = self.x[end - self.ts_length: end]\n",
    "            y_batch[i] = self.y[end - 1]\n",
    "            \n",
    "        x_batch = (x_batch - self.x_mean)/self.x_std\n",
    "        x_batch_result = np.expand_dims(x_batch, axis=2)\n",
    "        print(\"x_batch_result.shape:\", x_batch_result.shape)\n",
    "        print(\"y_batch.shape:\", y_batch.shape)\n",
    "        return x_batch_result, y_batch"
   ]
  },
  {
   "cell_type": "code",
   "execution_count": 7,
   "metadata": {},
   "outputs": [],
   "source": [
    "class EarthQuakeRandom(keras.utils.Sequence):\n",
    "\n",
    "    def __init__(self, x, y, x_mean, x_std, segments, ts_length, batch_size, steps_per_epoch):\n",
    "        self.x = x\n",
    "        self.y = y\n",
    "        self.segments = segments\n",
    "        self.ts_length = ts_length\n",
    "        self.batch_size = batch_size\n",
    "        self.steps_per_epoch = steps_per_epoch\n",
    "        self.segments_size = np.array([s[1] - s[0] for s in segments])\n",
    "        self.segments_p = self.segments_size / self.segments_size.sum()\n",
    "        self.x_mean = x_mean\n",
    "        self.x_std = x_std\n",
    "\n",
    "    def get_batch_size(self):\n",
    "        return self.batch_size\n",
    "\n",
    "    def get_ts_length(self):\n",
    "        return self.ts_length\n",
    "\n",
    "    def get_segments(self):\n",
    "        return self.segments\n",
    "\n",
    "    def get_segments_p(self):\n",
    "        return self.segments_p\n",
    "\n",
    "    def get_segments_size(self):\n",
    "        return self.segments_size\n",
    "\n",
    "    def __len__(self):\n",
    "        return self.steps_per_epoch\n",
    "\n",
    "    def __getitem__(self, idx):\n",
    "        segment_index = np.random.choice(range(len(self.segments)), p=self.segments_p)\n",
    "        segment = self.segments[segment_index]\n",
    "        end_indexes = np.random.randint(segment[0] + self.ts_length, segment[1], size=self.batch_size)\n",
    "\n",
    "        x_batch = np.empty((self.batch_size, self.ts_length))\n",
    "        y_batch = np.empty(self.batch_size, )\n",
    "\n",
    "        for i, end in enumerate(end_indexes):\n",
    "            x_batch[i, :] = self.x[end - self.ts_length: end]\n",
    "            y_batch[i] = self.y[end - 1]\n",
    "            \n",
    "        x_batch = (x_batch - self.x_mean)/self.x_std\n",
    "        x_batch_result = np.expand_dims(x_batch, axis=2)\n",
    "        return x_batch_result, y_batch"
   ]
  },
  {
   "cell_type": "markdown",
   "metadata": {
    "_uuid": "d7985fae8438678b6542b73dc80b64ceb35bde22"
   },
   "source": [
    "We could use any segments for training / validation"
   ]
  },
  {
   "cell_type": "code",
   "execution_count": 8,
   "metadata": {
    "_uuid": "a2287d88c18d90e7f1cf41917265698354b48624"
   },
   "outputs": [],
   "source": [
    "t_segments = [train_segments[i] for i in [ 4, 5, 6, 7, 8, 9, 10, 11, 12, 13, 14, 15]]\n",
    "v_segments = [train_segments[i] for i in [ 0, 1, 2, 3]]"
   ]
  },
  {
   "cell_type": "markdown",
   "metadata": {
    "_uuid": "4c2ed95db99225cf1e8226eee68114f31f982c6a"
   },
   "source": [
    "I think it does not make big difference but lets not leak into the validation data and calculate mean and standrad deviation on the training data only."
   ]
  },
  {
   "cell_type": "code",
   "execution_count": 9,
   "metadata": {
    "_uuid": "fa319e6bdca9dd9866856d514fec8ac093cf818d"
   },
   "outputs": [
    {
     "name": "stdout",
     "output_type": "stream",
     "text": [
      "4.472289301190891 6.189013535612676\n"
     ]
    }
   ],
   "source": [
    "x_sum = 0.\n",
    "count = 0\n",
    "\n",
    "for s in t_segments:\n",
    "    x_sum += X_train[s[0]:s[1]].sum()\n",
    "    count += (s[1] - s[0])\n",
    "\n",
    "X_train_mean = x_sum/count\n",
    "\n",
    "x2_sum = 0.\n",
    "for s in t_segments:\n",
    "    x2_sum += np.power(X_train[s[0]:s[1]] - X_train_mean, 2).sum()\n",
    "\n",
    "X_train_std =  np.sqrt(x2_sum/count)\n",
    "\n",
    "print(X_train_mean, X_train_std)"
   ]
  },
  {
   "cell_type": "code",
   "execution_count": 10,
   "metadata": {
    "_uuid": "5cae20837d7405650f9b09891e5e71a156abf883"
   },
   "outputs": [],
   "source": [
    "train_gen = EarthQuakeRandom(\n",
    "    x = X_train, \n",
    "    y = y_train,\n",
    "    x_mean = X_train_mean, \n",
    "    x_std = X_train_std,\n",
    "    segments = t_segments,\n",
    "    ts_length = 150000,\n",
    "    batch_size = 64,\n",
    "    steps_per_epoch = 400\n",
    ")\n",
    "\n",
    "valid_gen = EarthQuakeRandom(\n",
    "    x = X_train, \n",
    "    y = y_train,\n",
    "    x_mean = X_train_mean, \n",
    "    x_std = X_train_std,\n",
    "    segments = v_segments,\n",
    "    ts_length = 150000,\n",
    "    batch_size = 64,\n",
    "    steps_per_epoch = 400\n",
    ")"
   ]
  },
  {
   "cell_type": "markdown",
   "metadata": {
    "_uuid": "70ab7209fe41fac92e9ed89ed0617ce383bd0453"
   },
   "source": [
    "Use convolutional layers to learn the features and reduce the time sequence length "
   ]
  },
  {
   "cell_type": "code",
   "execution_count": 11,
   "metadata": {
    "_kg_hide-input": false,
    "_kg_hide-output": false,
    "_uuid": "23f507cdee66c43250648a2d86d95c0ab88b0fe6",
    "scrolled": false
   },
   "outputs": [],
   "source": [
    "def CnnRnnModel():\n",
    "    i = Input(shape = (150000, 1))\n",
    "    \n",
    "    x = Convolution1D( 8, kernel_size = 10, strides = 10, activation='relu')(i)\n",
    "    x = Convolution1D(16, kernel_size = 10, strides = 10, activation='relu')(x)\n",
    "    x = Convolution1D(16, kernel_size = 10, strides = 10, activation='relu')(x)\n",
    "    x = CuDNNGRU(24, return_sequences = False, return_state = False)(x)\n",
    "    y = Dense(1)(x)\n",
    "\n",
    "    return Model(inputs = [i], outputs = [y])"
   ]
  },
  {
   "cell_type": "code",
   "execution_count": 12,
   "metadata": {
    "_kg_hide-input": true,
    "_uuid": "78f8084ea9e762c4e59bd933abea41704ad99bdd"
   },
   "outputs": [
    {
     "name": "stdout",
     "output_type": "stream",
     "text": [
      "_________________________________________________________________\n",
      "Layer (type)                 Output Shape              Param #   \n",
      "=================================================================\n",
      "input_1 (InputLayer)         (None, 150000, 1)         0         \n",
      "_________________________________________________________________\n",
      "conv1d_1 (Conv1D)            (None, 15000, 8)          88        \n",
      "_________________________________________________________________\n",
      "conv1d_2 (Conv1D)            (None, 1500, 16)          1296      \n",
      "_________________________________________________________________\n",
      "conv1d_3 (Conv1D)            (None, 150, 16)           2576      \n",
      "_________________________________________________________________\n",
      "cu_dnngru_1 (CuDNNGRU)       (None, 24)                3024      \n",
      "_________________________________________________________________\n",
      "dense_1 (Dense)              (None, 1)                 25        \n",
      "=================================================================\n",
      "Total params: 7,009\n",
      "Trainable params: 7,009\n",
      "Non-trainable params: 0\n",
      "_________________________________________________________________\n"
     ]
    }
   ],
   "source": [
    "model = CnnRnnModel()\n",
    "model.compile(loss='mean_absolute_error', optimizer='adam')\n",
    "model.summary()"
   ]
  },
  {
   "cell_type": "markdown",
   "metadata": {
    "_uuid": "5bed51171db8bf8c5e1731119fd31205bfd80a82"
   },
   "source": [
    "Train the model with early stopping"
   ]
  },
  {
   "cell_type": "code",
   "execution_count": 1,
   "metadata": {
    "_kg_hide-input": true,
    "_uuid": "e1061c7cde0687450300f516735aad0cc5dbf08f"
   },
   "outputs": [
    {
     "ename": "NameError",
     "evalue": "name 'model' is not defined",
     "output_type": "error",
     "traceback": [
      "\u001b[0;31m---------------------------------------------------------------------------\u001b[0m",
      "\u001b[0;31mNameError\u001b[0m                                 Traceback (most recent call last)",
      "\u001b[0;32m<timed exec>\u001b[0m in \u001b[0;36m<module>\u001b[0;34m()\u001b[0m\n",
      "\u001b[0;31mNameError\u001b[0m: name 'model' is not defined"
     ]
    }
   ],
   "source": [
    "%%time\n",
    "hist = model.fit_generator(\n",
    "    generator =  train_gen,\n",
    "    epochs = 50, \n",
    "    verbose = 1, \n",
    "    validation_data = valid_gen,\n",
    "    callbacks = [\n",
    "        EarlyStopping(monitor='val_loss', patience = 5, verbose = 1),\n",
    "        ModelCheckpoint(filepath='cnn_rnn.h5', monitor='val_loss', save_best_only=True, verbose=1)]\n",
    ")"
   ]
  },
  {
   "cell_type": "code",
   "execution_count": null,
   "metadata": {
    "_uuid": "9b4790925984514e64ca5a9b46de8b309062e0cf"
   },
   "outputs": [],
   "source": [
    "plt.plot(hist.history['loss'])\n",
    "plt.plot(hist.history['val_loss'])\n",
    "plt.title('Model loss')\n",
    "plt.ylabel('Loss')\n",
    "plt.xlabel('Epoch')\n",
    "_= plt.legend(['Train', 'Test'], loc='upper left')"
   ]
  },
  {
   "cell_type": "code",
   "execution_count": null,
   "metadata": {
    "_kg_hide-input": true,
    "_uuid": "6660ea2f2eef5750d137f4b18652a35a4ad4a2a6"
   },
   "outputs": [],
   "source": [
    "def load_test(ts_length = 150000):\n",
    "    base_dir = '../input/test/'\n",
    "    test_files = [f for f in listdir(base_dir) if isfile(join(base_dir, f))]\n",
    "\n",
    "    ts = np.empty([len(test_files), ts_length])\n",
    "    ids = []\n",
    "    \n",
    "    i = 0\n",
    "    for f in tqdm_notebook(test_files):\n",
    "        ids.append(splitext(f)[0])\n",
    "        t_df = pd.read_csv(base_dir + f, dtype={\"acoustic_data\": np.int8})\n",
    "        ts[i, :] = t_df['acoustic_data'].values\n",
    "        i = i + 1\n",
    "\n",
    "    return ts, ids"
   ]
  },
  {
   "cell_type": "markdown",
   "metadata": {
    "_uuid": "c3340d6d6ce75585f90c98f1728b1cd664d7f33f"
   },
   "source": [
    "Load and normalize the test data"
   ]
  },
  {
   "cell_type": "code",
   "execution_count": null,
   "metadata": {
    "_uuid": "0f005579ea08913f4f68a3749bd761df6cef2b1b"
   },
   "outputs": [],
   "source": [
    "test_data, test_ids = load_test()"
   ]
  },
  {
   "cell_type": "code",
   "execution_count": null,
   "metadata": {
    "_uuid": "0c3b7a864a9f53af142a08883def46c3866c5464"
   },
   "outputs": [],
   "source": [
    "X_test = ((test_data - X_train_mean)/ X_train_std).astype('float32')\n",
    "X_test = np.expand_dims(X_test, 2)\n",
    "X_test.shape"
   ]
  },
  {
   "cell_type": "markdown",
   "metadata": {
    "_uuid": "bf9b36929e5228d4d94b3b7ad1b9011bf088ac44"
   },
   "source": [
    "Load best model and predict"
   ]
  },
  {
   "cell_type": "code",
   "execution_count": null,
   "metadata": {
    "_uuid": "dc801ecd84c9df193753ed5e8d3a62f61965a4ab"
   },
   "outputs": [],
   "source": [
    "model = load_model('cnn_rnn.h5')"
   ]
  },
  {
   "cell_type": "code",
   "execution_count": null,
   "metadata": {
    "_uuid": "435449fda2bf96635e67d69f56227e140c4cea99"
   },
   "outputs": [],
   "source": [
    "y_pred = model.predict(X_test)"
   ]
  },
  {
   "cell_type": "code",
   "execution_count": null,
   "metadata": {
    "_uuid": "9aaf9fb44edba5879a75c68820527d9180d2b3c6"
   },
   "outputs": [],
   "source": [
    "submission_df = pd.DataFrame({'seg_id': test_ids, 'time_to_failure': y_pred[:, 0]})"
   ]
  },
  {
   "cell_type": "code",
   "execution_count": null,
   "metadata": {
    "_uuid": "9b9d5c63161f637de2e39b59e8e4d7c2f3049581"
   },
   "outputs": [],
   "source": [
    "submission_df.to_csv(\"submission.csv\", index=False)"
   ]
  },
  {
   "cell_type": "markdown",
   "metadata": {
    "_uuid": "94535dfa59bebec7fed4317ad7ced46f77d84c8b"
   },
   "source": [
    "x_batch_result.shape: (64, 150000, 1)\n",
    "y_batch.shape: (64,)\n",
    "\n",
    "(array([[[-1.3689240219689038 ],\n",
    "         [-1.3689240219689038 ],\n",
    "         [-0.5610408316625461 ],\n",
    "         ...,\n",
    "         [-0.5610408316625461 ],\n",
    "         [-0.7226174697238177 ],\n",
    "         [-0.5610408316625461 ]],\n",
    " \n",
    "        [[ 0.8931489108888979 ],\n",
    "         [ 0.7315722728276264 ],\n",
    "         [-0.23788755554000302],\n",
    "         ...,\n",
    "         [ 0.40841899670508325],\n",
    "         [ 0.40841899670508325],\n",
    "         [-0.07631091747873145]],\n",
    " \n",
    "        [[ 0.40841899670508325],\n",
    "         [ 0.08526572058254012],\n",
    "         [ 0.7315722728276264 ],\n",
    "         ...,\n",
    "         [ 3.1552218437466997 ],\n",
    "         [ 3.1552218437466997 ],\n",
    "         [ 2.8320685676241566 ]],\n",
    " \n",
    "        ...,\n",
    " \n",
    "        [[ 0.24684235864381168],\n",
    "         [ 0.08526572058254012],\n",
    "         [ 0.8931489108888979 ],\n",
    "         ...,\n",
    "         [-0.39946419360127455],\n",
    "         [-0.7226174697238177 ],\n",
    "         [-1.3689240219689038 ]],\n",
    " \n",
    "        [[-0.23788755554000302],\n",
    "         [ 0.5699956347663548 ],\n",
    "         [ 0.5699956347663548 ],\n",
    "         ...,\n",
    "         [ 0.40841899670508325],\n",
    "         [-0.07631091747873145],\n",
    "         [-0.07631091747873145]],\n",
    " \n",
    "        [[-0.07631091747873145],\n",
    "         [ 0.08526572058254012],\n",
    "         [-0.5610408316625461 ],\n",
    "         ...,\n",
    "         [ 0.7315722728276264 ],\n",
    "         [ 0.40841899670508325],\n",
    "         [ 0.24684235864381168]]]),\n",
    " array([ 9.323896408081055 ,  8.34179973602295  ,  7.8024001121521   ,\n",
    "         4.6880974769592285,  4.602997779846191 ,  4.981696605682373 ,\n",
    "         1.3641964197158813,  8.554596900939941 ,  1.6609961986541748,\n",
    "         2.2642955780029297,  8.26949691772461  ,  8.812098503112793 ,\n",
    "         3.6591973304748535,  7.3990983963012695,  2.2940971851348877,\n",
    "         5.358396530151367 ,  8.258795738220215 , 10.368698120117188 ,\n",
    "         8.600399017333984 ,  8.738697052001953 , 10.477296829223633 ,\n",
    "         7.1937994956970215, 10.30379867553711  , 10.925196647644043 ,\n",
    "         2.7781989574432373,  8.13119888305664  ,  2.415395736694336 ,\n",
    "         5.555197238922119 ,  1.0768991708755493, 10.019699096679688 ,\n",
    "         9.593098640441895 , 10.436796188354492 , 10.173995971679688 ,\n",
    "         3.807098865509033 ,  9.5281982421875   ,  7.993897438049316 ,\n",
    "         5.887199878692627 ,  2.7824974060058594,  7.440596580505371 ,\n",
    "         1.5800968408584595,  2.4866974353790283,  8.032197952270508 ,\n",
    "         8.76209831237793  ,  5.973397731781006 ,  3.639995813369751 ,\n",
    "         7.053299427032471 ,  3.829397678375244 ,  4.1326985359191895,\n",
    "         6.6468963623046875,  1.0555974245071411,  9.188796997070312 ,\n",
    "         0.0958956703543663,  2.510098695755005 ,  1.4470993280410767,\n",
    "         1.4726964235305786,  8.66529655456543  ,  4.5113983154296875,\n",
    "        10.063399314880371 ,  2.1333987712860107,  7.150198936462402 ,\n",
    "         3.037799835205078 ,  5.281799793243408 ,  0.9789979457855225,\n",
    "         1.9524978399276733]))\n",
    "\n",
    "Use convolutional layers to learn the features and reduce the time sequence length\n"
   ]
  }
 ],
 "metadata": {
  "kernelspec": {
   "display_name": "Python 3",
   "language": "python",
   "name": "python3"
  },
  "language_info": {
   "codemirror_mode": {
    "name": "ipython",
    "version": 3
   },
   "file_extension": ".py",
   "mimetype": "text/x-python",
   "name": "python",
   "nbconvert_exporter": "python",
   "pygments_lexer": "ipython3",
   "version": "3.6.6"
  }
 },
 "nbformat": 4,
 "nbformat_minor": 1
}
